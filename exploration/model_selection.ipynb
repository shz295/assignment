{
 "cells": [
  {
   "attachments": {},
   "cell_type": "markdown",
   "metadata": {},
   "source": [
    "# 데이터 수집\n",
    "dataframe에 데이터 가져오기"
   ]
  },
  {
   "cell_type": "code",
   "execution_count": 60,
   "metadata": {},
   "outputs": [
    {
     "data": {
      "text/html": [
       "<div>\n",
       "<style scoped>\n",
       "    .dataframe tbody tr th:only-of-type {\n",
       "        vertical-align: middle;\n",
       "    }\n",
       "\n",
       "    .dataframe tbody tr th {\n",
       "        vertical-align: top;\n",
       "    }\n",
       "\n",
       "    .dataframe thead th {\n",
       "        text-align: right;\n",
       "    }\n",
       "</style>\n",
       "<table border=\"1\" class=\"dataframe\">\n",
       "  <thead>\n",
       "    <tr style=\"text-align: right;\">\n",
       "      <th></th>\n",
       "      <th>image_path</th>\n",
       "      <th>category</th>\n",
       "      <th>target</th>\n",
       "      <th>r</th>\n",
       "    </tr>\n",
       "  </thead>\n",
       "  <tbody>\n",
       "    <tr>\n",
       "      <th>1174</th>\n",
       "      <td>data/알파벳인식/B/r_B/4d_al_r_b_24.jpg</td>\n",
       "      <td>alphabet</td>\n",
       "      <td>B</td>\n",
       "      <td>True</td>\n",
       "    </tr>\n",
       "    <tr>\n",
       "      <th>2052</th>\n",
       "      <td>data/알파벳인식/K/K/4d_al_K_32.jpg</td>\n",
       "      <td>alphabet</td>\n",
       "      <td>K</td>\n",
       "      <td>False</td>\n",
       "    </tr>\n",
       "    <tr>\n",
       "      <th>2348</th>\n",
       "      <td>data/알파벳인식/N/N/4d_al_N_28.jpg</td>\n",
       "      <td>alphabet</td>\n",
       "      <td>N</td>\n",
       "      <td>False</td>\n",
       "    </tr>\n",
       "    <tr>\n",
       "      <th>3917</th>\n",
       "      <td>data/자유패턴/30/30_r/30_r10.jpg</td>\n",
       "      <td>free_pattern</td>\n",
       "      <td>None</td>\n",
       "      <td>None</td>\n",
       "    </tr>\n",
       "    <tr>\n",
       "      <th>910</th>\n",
       "      <td>data/숫자인식/09/n09/4d_n09_10.jpg</td>\n",
       "      <td>number</td>\n",
       "      <td>9</td>\n",
       "      <td>False</td>\n",
       "    </tr>\n",
       "    <tr>\n",
       "      <th>3839</th>\n",
       "      <td>data/자유패턴/20/20_r/20_r10.jpg</td>\n",
       "      <td>free_pattern</td>\n",
       "      <td>None</td>\n",
       "      <td>None</td>\n",
       "    </tr>\n",
       "    <tr>\n",
       "      <th>941</th>\n",
       "      <td>data/숫자인식/09/n09/4d_n09_42.jpg</td>\n",
       "      <td>number</td>\n",
       "      <td>9</td>\n",
       "      <td>False</td>\n",
       "    </tr>\n",
       "    <tr>\n",
       "      <th>2561</th>\n",
       "      <td>data/알파벳인식/P/P/4d_al_P_41.jpg</td>\n",
       "      <td>alphabet</td>\n",
       "      <td>P</td>\n",
       "      <td>False</td>\n",
       "    </tr>\n",
       "    <tr>\n",
       "      <th>1604</th>\n",
       "      <td>data/알파벳인식/F/r_F/4d_al_r_F_49.jpg</td>\n",
       "      <td>alphabet</td>\n",
       "      <td>F</td>\n",
       "      <td>True</td>\n",
       "    </tr>\n",
       "    <tr>\n",
       "      <th>3006</th>\n",
       "      <td>data/알파벳인식/T/r_T/4d_al_r_T_36.jpg</td>\n",
       "      <td>alphabet</td>\n",
       "      <td>T</td>\n",
       "      <td>True</td>\n",
       "    </tr>\n",
       "  </tbody>\n",
       "</table>\n",
       "</div>"
      ],
      "text/plain": [
       "                             image_path      category target      r\n",
       "1174  data/알파벳인식/B/r_B/4d_al_r_b_24.jpg      alphabet      B   True\n",
       "2052      data/알파벳인식/K/K/4d_al_K_32.jpg      alphabet      K  False\n",
       "2348      data/알파벳인식/N/N/4d_al_N_28.jpg      alphabet      N  False\n",
       "3917       data/자유패턴/30/30_r/30_r10.jpg  free_pattern   None   None\n",
       "910      data/숫자인식/09/n09/4d_n09_10.jpg        number      9  False\n",
       "3839       data/자유패턴/20/20_r/20_r10.jpg  free_pattern   None   None\n",
       "941      data/숫자인식/09/n09/4d_n09_42.jpg        number      9  False\n",
       "2561      data/알파벳인식/P/P/4d_al_P_41.jpg      alphabet      P  False\n",
       "1604  data/알파벳인식/F/r_F/4d_al_r_F_49.jpg      alphabet      F   True\n",
       "3006  data/알파벳인식/T/r_T/4d_al_r_T_36.jpg      alphabet      T   True"
      ]
     },
     "execution_count": 60,
     "metadata": {},
     "output_type": "execute_result"
    }
   ],
   "source": [
    "import os\n",
    "import pandas as pd\n",
    "\n",
    "numbers_path = 'data/숫자인식/'\n",
    "alphabets_path = 'data/알파벳인식/'\n",
    "free_patterns_path = 'data/자유패턴/'\n",
    "\n",
    "number_classes = [str(i) for i in range(10)]\n",
    "alphabet_classes = [chr(i) for i in range(ord('A'), ord('Z')+1)]\n",
    "\n",
    "number_folders = {}\n",
    "for class_name in number_classes:\n",
    "    number_folders[class_name] = '0' + class_name\n",
    "\n",
    "data = []\n",
    "\n",
    "for number, folder_name in number_folders.items():\n",
    "    n_folder_path = os.path.join(numbers_path, folder_name, 'n'+folder_name)\n",
    "    r_folder_path = os.path.join(numbers_path, folder_name, 'r_n'+folder_name)\n",
    "    for file in os.listdir(n_folder_path):\n",
    "        data.append({\n",
    "            'image_path': os.path.join(n_folder_path, file),\n",
    "            'category': 'number',\n",
    "            'target': number,\n",
    "            'r': False\n",
    "        })\n",
    "    for file in os.listdir(r_folder_path):\n",
    "        data.append({\n",
    "            'image_path': os.path.join(r_folder_path, file),\n",
    "            'category': 'number',\n",
    "            'target': number,\n",
    "            'r': True\n",
    "        })\n",
    "\n",
    "for letter in alphabet_classes:\n",
    "    n_folder_path = os.path.join(alphabets_path, letter, letter)\n",
    "    r_folder_path = os.path.join(alphabets_path, letter, 'r_'+letter)\n",
    "    for file in os.listdir(n_folder_path):\n",
    "        data.append({\n",
    "            'image_path': os.path.join(n_folder_path, file),\n",
    "            'category': 'alphabet',\n",
    "            'target': letter,\n",
    "            'r': False\n",
    "        })\n",
    "    for file in os.listdir(r_folder_path):\n",
    "        data.append({\n",
    "            'image_path': os.path.join(r_folder_path, file),\n",
    "            'category': 'alphabet',\n",
    "            'target': letter,\n",
    "            'r': True\n",
    "        })\n",
    "\n",
    "for root, dirs, files in os.walk(free_patterns_path):\n",
    "    for file in files:\n",
    "        data.append({\n",
    "            'image_path': os.path.join(root, file),\n",
    "            'category': 'free_pattern',\n",
    "            'target': None,\n",
    "            'r': None\n",
    "        })\n",
    "\n",
    "\n",
    "df = pd.DataFrame(data)\n",
    "df.sample(10)"
   ]
  },
  {
   "cell_type": "code",
   "execution_count": null,
   "metadata": {},
   "outputs": [],
   "source": [
    "numbers_test_path = 'data/숫자인식/'\n",
    "alphabets_path = 'data/알파벳인식/'\n",
    "free_patterns_path = 'data/자유패턴/'\n",
    "\n",
    "number_classes = [str(i) for i in range(10)]\n",
    "alphabet_classes = [chr(i) for i in range(ord('A'), ord('Z')+1)]\n",
    "\n",
    "number_folders = {}\n",
    "for class_name in number_classes:\n",
    "    number_folders[class_name] = '0' + class_name\n",
    "\n",
    "data = []\n",
    "\n",
    "for number, folder_name in number_folders.items():\n",
    "    n_folder_path = os.path.join(numbers_path, folder_name, 'n'+folder_name)\n",
    "    r_folder_path = os.path.join(numbers_path, folder_name, 'r_n'+folder_name)\n",
    "    for file in os.listdir(n_folder_path):\n",
    "        data.append({\n",
    "            'image_path': os.path.join(n_folder_path, file),\n",
    "            'category': 'number',\n",
    "            'target': number,\n",
    "            'r': False\n",
    "        })\n",
    "    for file in os.listdir(r_folder_path):\n",
    "        data.append({\n",
    "            'image_path': os.path.join(r_folder_path, file),\n",
    "            'category': 'number',\n",
    "            'target': number,\n",
    "            'r': True\n",
    "        })\n",
    "\n",
    "for letter in alphabet_classes:\n",
    "    n_folder_path = os.path.join(alphabets_path, letter, letter)\n",
    "    r_folder_path = os.path.join(alphabets_path, letter, 'r_'+letter)\n",
    "    for file in os.listdir(n_folder_path):\n",
    "        data.append({\n",
    "            'image_path': os.path.join(n_folder_path, file),\n",
    "            'category': 'alphabet',\n",
    "            'target': letter,\n",
    "            'r': False\n",
    "        })\n",
    "    for file in os.listdir(r_folder_path):\n",
    "        data.append({\n",
    "            'image_path': os.path.join(r_folder_path, file),\n",
    "            'category': 'alphabet',\n",
    "            'target': letter,\n",
    "            'r': True\n",
    "        })\n",
    "\n",
    "for root, dirs, files in os.walk(free_patterns_path):\n",
    "    for file in files:\n",
    "        data.append({\n",
    "            'image_path': os.path.join(root, file),\n",
    "            'category': 'free_pattern',\n",
    "            'target': None,\n",
    "            'r': None\n",
    "        })\n",
    "\n",
    "\n",
    "df = pd.DataFrame(data)\n",
    "df.sample(10)"
   ]
  },
  {
   "attachments": {},
   "cell_type": "markdown",
   "metadata": {},
   "source": [
    "# 데이터 전처리\n",
    "- 이미지 전처리 함수 실행\n",
    "- 분류 원핫 인코딩"
   ]
  },
  {
   "cell_type": "code",
   "execution_count": 2,
   "metadata": {},
   "outputs": [],
   "source": [
    "import cv2\n",
    "import numpy as np\n",
    "from preprocessing import preprocess_img\n",
    "from sklearn.model_selection import train_test_split\n",
    "\n",
    "X, y = df['image_path'], df[['category', 'target']]\n",
    "X_train, X_test, y_train, y_test = train_test_split(X, y, stratify=y, random_state=42, test_size=0.05)\n",
    "\n",
    "X_train_pp = X_train.apply(preprocess_img)\n",
    "X_test_pp = X_test.apply(preprocess_img)\n",
    "\n",
    "y_train_3 = y_train['category']\n",
    "y_train_3 = pd.get_dummies(y_train_3)\n",
    "y_train_3 = y_train_3[['number', 'alphabet', 'free_pattern']]\n",
    "\n",
    "y_test_3 = y_test['category']\n",
    "y_test_3 = pd.get_dummies(y_test_3)\n",
    "y_test_3 = y_test_3[['number', 'alphabet', 'free_pattern']]\n"
   ]
  },
  {
   "cell_type": "code",
   "execution_count": 42,
   "metadata": {},
   "outputs": [
    {
     "data": {
      "text/plain": [
       "(3934, 208, 11802, 624)"
      ]
     },
     "execution_count": 42,
     "metadata": {},
     "output_type": "execute_result"
    }
   ],
   "source": [
    "X_train.size, X_test.size, y_train_3.size, y_test_3.size"
   ]
  },
  {
   "attachments": {},
   "cell_type": "markdown",
   "metadata": {},
   "source": [
    "# 모델 선택"
   ]
  },
  {
   "attachments": {},
   "cell_type": "markdown",
   "metadata": {},
   "source": [
    "## 숫자/알파벳/자유패턴 모델\n",
    "\n",
    "### CNN 조정할 매개변수 \n",
    "- 이미지 사이즈: 32x32x3, 64x64x3, 224x224x3\n",
    "- 커널 크기: (3, 3), (5, 5)\n",
    "- 필터 수: 32, 64\n",
    "- 숨겨진 단위: 128, 256"
   ]
  },
  {
   "cell_type": "code",
   "execution_count": 3,
   "metadata": {},
   "outputs": [
    {
     "name": "stderr",
     "output_type": "stream",
     "text": [
      "2023-08-31 10:22:24.907383: I tensorflow/tsl/cuda/cudart_stub.cc:28] Could not find cuda drivers on your machine, GPU will not be used.\n",
      "2023-08-31 10:22:24.948002: I tensorflow/tsl/cuda/cudart_stub.cc:28] Could not find cuda drivers on your machine, GPU will not be used.\n",
      "2023-08-31 10:22:24.948403: I tensorflow/core/platform/cpu_feature_guard.cc:182] This TensorFlow binary is optimized to use available CPU instructions in performance-critical operations.\n",
      "To enable the following instructions: AVX2 FMA, in other operations, rebuild TensorFlow with the appropriate compiler flags.\n",
      "2023-08-31 10:22:25.872629: W tensorflow/compiler/tf2tensorrt/utils/py_utils.cc:38] TF-TRT Warning: Could not find TensorRT\n"
     ]
    }
   ],
   "source": [
    "from sklearn.model_selection import GridSearchCV\n",
    "from tensorflow.keras.models import Sequential\n",
    "from tensorflow.keras.layers import Conv2D, MaxPooling2D, Flatten, Dense\n",
    "from scikeras.wrappers import KerasClassifier\n",
    "from tensorflow.keras.callbacks import EarlyStopping\n",
    "\n",
    "# model generator for grid search\n",
    "def create_model(image_size=(64, 64, 3), kernel_size=(3, 3), filters=32, hidden_units=128, output_size=3):\n",
    "    model = Sequential([\n",
    "        Conv2D(filters, kernel_size, activation='relu', input_shape=image_size),\n",
    "        MaxPooling2D((2, 2)),\n",
    "        Conv2D(filters*2, kernel_size, activation='relu'),\n",
    "        MaxPooling2D((2, 2)),\n",
    "        Flatten(),\n",
    "        Dense(hidden_units, activation='relu'),\n",
    "        Dense(output_size, activation='softmax')\n",
    "    ])\n",
    "    model.compile(optimizer='adam', loss='categorical_crossentropy', metrics=['accuracy'])\n",
    "    return model\n",
    "\n",
    "early_stopping = EarlyStopping(monitor='val_loss', patience=5, restore_best_weights=True)"
   ]
  },
  {
   "attachments": {},
   "cell_type": "markdown",
   "metadata": {},
   "source": [
    "가장 간단한 모델부터"
   ]
  },
  {
   "cell_type": "code",
   "execution_count": 10,
   "metadata": {},
   "outputs": [
    {
     "name": "stdout",
     "output_type": "stream",
     "text": [
      "Epoch 1/50\n"
     ]
    },
    {
     "name": "stderr",
     "output_type": "stream",
     "text": [
      "2023-08-31 07:13:46.781627: W tensorflow/tsl/framework/cpu_allocator_impl.cc:83] Allocation of 30523392 exceeds 10% of free system memory.\n"
     ]
    },
    {
     "name": "stdout",
     "output_type": "stream",
     "text": [
      "78/78 [==============================] - 3s 33ms/step - loss: 0.5520 - accuracy: 0.7528 - val_loss: 0.4196 - val_accuracy: 0.8071\n",
      "Epoch 2/50\n",
      "78/78 [==============================] - 2s 31ms/step - loss: 0.3571 - accuracy: 0.8426 - val_loss: 0.3387 - val_accuracy: 0.8376\n",
      "Epoch 3/50\n",
      "78/78 [==============================] - 2s 31ms/step - loss: 0.3132 - accuracy: 0.8603 - val_loss: 0.3239 - val_accuracy: 0.8682\n",
      "Epoch 4/50\n",
      "78/78 [==============================] - 2s 31ms/step - loss: 0.2817 - accuracy: 0.8885 - val_loss: 0.2943 - val_accuracy: 0.8601\n",
      "Epoch 5/50\n",
      "78/78 [==============================] - 2s 31ms/step - loss: 0.2498 - accuracy: 0.8949 - val_loss: 0.3225 - val_accuracy: 0.8505\n",
      "Epoch 6/50\n",
      "78/78 [==============================] - 2s 31ms/step - loss: 0.2328 - accuracy: 0.8981 - val_loss: 0.2848 - val_accuracy: 0.8762\n",
      "Epoch 7/50\n",
      "78/78 [==============================] - 2s 30ms/step - loss: 0.2091 - accuracy: 0.9118 - val_loss: 0.2889 - val_accuracy: 0.8875\n",
      "Epoch 8/50\n",
      "78/78 [==============================] - 2s 31ms/step - loss: 0.1890 - accuracy: 0.9195 - val_loss: 0.2857 - val_accuracy: 0.8826\n",
      "Epoch 9/50\n",
      "78/78 [==============================] - 2s 31ms/step - loss: 0.1683 - accuracy: 0.9320 - val_loss: 0.2934 - val_accuracy: 0.8714\n",
      "Epoch 10/50\n",
      "78/78 [==============================] - 2s 30ms/step - loss: 0.1520 - accuracy: 0.9400 - val_loss: 0.2849 - val_accuracy: 0.8794\n",
      "Epoch 11/50\n",
      "78/78 [==============================] - 2s 31ms/step - loss: 0.1323 - accuracy: 0.9485 - val_loss: 0.2727 - val_accuracy: 0.8859\n",
      "Epoch 12/50\n",
      "78/78 [==============================] - 2s 31ms/step - loss: 0.1286 - accuracy: 0.9444 - val_loss: 0.2831 - val_accuracy: 0.8875\n",
      "Epoch 13/50\n",
      "78/78 [==============================] - 2s 30ms/step - loss: 0.0936 - accuracy: 0.9630 - val_loss: 0.3357 - val_accuracy: 0.8682\n",
      "Epoch 14/50\n",
      "78/78 [==============================] - 2s 31ms/step - loss: 0.0872 - accuracy: 0.9626 - val_loss: 0.2713 - val_accuracy: 0.8923\n",
      "Epoch 15/50\n",
      "78/78 [==============================] - 2s 31ms/step - loss: 0.0878 - accuracy: 0.9686 - val_loss: 0.2955 - val_accuracy: 0.8859\n",
      "Epoch 16/50\n",
      "78/78 [==============================] - 2s 30ms/step - loss: 0.0667 - accuracy: 0.9767 - val_loss: 0.2884 - val_accuracy: 0.8762\n",
      "Epoch 17/50\n",
      "78/78 [==============================] - 2s 31ms/step - loss: 0.0547 - accuracy: 0.9799 - val_loss: 0.3066 - val_accuracy: 0.8746\n",
      "Epoch 18/50\n",
      "78/78 [==============================] - 2s 31ms/step - loss: 0.0348 - accuracy: 0.9895 - val_loss: 0.3338 - val_accuracy: 0.8730\n",
      "Epoch 19/50\n",
      "78/78 [==============================] - 2s 30ms/step - loss: 0.0447 - accuracy: 0.9839 - val_loss: 0.3748 - val_accuracy: 0.8875\n"
     ]
    },
    {
     "data": {
      "text/plain": [
       "<keras.src.callbacks.History at 0x7fcc6a4a3bd0>"
      ]
     },
     "execution_count": 10,
     "metadata": {},
     "output_type": "execute_result"
    }
   ],
   "source": [
    "model = create_model(\n",
    "    image_size=(32, 32, 3), \n",
    "    kernel_size=(3, 3), \n",
    "    filters=64, \n",
    "    hidden_units=256, \n",
    "    output_size=3\n",
    ")\n",
    "\n",
    "def s_preprocess_img(image, img_size=(244, 244)):\n",
    "    image = cv2.imread(image)\n",
    "    image = cv2.cvtColor(image, cv2.COLOR_BGR2RGB)\n",
    "    image = np.array(image)\n",
    "    image = cv2.resize(image, img_size)\n",
    "    image = image / 255.0\n",
    "    return image\n",
    "\n",
    "X_train_32 = X_train.apply(lambda x: s_preprocess_img(x, img_size=(32, 32)))\n",
    "X_train_32 = np.stack(X_train_32.values)\n",
    "\n",
    "model.fit(X_train_32, y_train_3, epochs=50, batch_size=32, validation_split=0.2, callbacks=[early_stopping])"
   ]
  },
  {
   "cell_type": "code",
   "execution_count": 12,
   "metadata": {},
   "outputs": [
    {
     "name": "stdout",
     "output_type": "stream",
     "text": [
      "Epoch 1/50\n",
      "78/78 [==============================] - 2s 15ms/step - loss: 0.6334 - accuracy: 0.7186 - val_loss: 0.5941 - val_accuracy: 0.5932\n",
      "Epoch 2/50\n",
      "78/78 [==============================] - 1s 13ms/step - loss: 0.4016 - accuracy: 0.8164 - val_loss: 0.3666 - val_accuracy: 0.8392\n",
      "Epoch 3/50\n",
      "78/78 [==============================] - 1s 13ms/step - loss: 0.3218 - accuracy: 0.8583 - val_loss: 0.3548 - val_accuracy: 0.8312\n",
      "Epoch 4/50\n",
      "78/78 [==============================] - 1s 13ms/step - loss: 0.2914 - accuracy: 0.8764 - val_loss: 0.3387 - val_accuracy: 0.8457\n",
      "Epoch 5/50\n",
      "78/78 [==============================] - 1s 13ms/step - loss: 0.2798 - accuracy: 0.8800 - val_loss: 0.3811 - val_accuracy: 0.8328\n",
      "Epoch 6/50\n",
      "78/78 [==============================] - 1s 13ms/step - loss: 0.2481 - accuracy: 0.8973 - val_loss: 0.4266 - val_accuracy: 0.7990\n",
      "Epoch 7/50\n",
      "78/78 [==============================] - 1s 13ms/step - loss: 0.2533 - accuracy: 0.8917 - val_loss: 0.2819 - val_accuracy: 0.8746\n",
      "Epoch 8/50\n",
      "78/78 [==============================] - 1s 13ms/step - loss: 0.2437 - accuracy: 0.8937 - val_loss: 0.2869 - val_accuracy: 0.8746\n",
      "Epoch 9/50\n",
      "78/78 [==============================] - 1s 13ms/step - loss: 0.2118 - accuracy: 0.9114 - val_loss: 0.2665 - val_accuracy: 0.8842\n",
      "Epoch 10/50\n",
      "78/78 [==============================] - 1s 13ms/step - loss: 0.2033 - accuracy: 0.9183 - val_loss: 0.2679 - val_accuracy: 0.8907\n",
      "Epoch 11/50\n",
      "78/78 [==============================] - 1s 13ms/step - loss: 0.1829 - accuracy: 0.9223 - val_loss: 0.2623 - val_accuracy: 0.8650\n",
      "Epoch 12/50\n",
      "78/78 [==============================] - 1s 13ms/step - loss: 0.1638 - accuracy: 0.9360 - val_loss: 0.2484 - val_accuracy: 0.8794\n",
      "Epoch 13/50\n",
      "78/78 [==============================] - 1s 13ms/step - loss: 0.1599 - accuracy: 0.9364 - val_loss: 0.3375 - val_accuracy: 0.8505\n",
      "Epoch 14/50\n",
      "78/78 [==============================] - 1s 13ms/step - loss: 0.1384 - accuracy: 0.9485 - val_loss: 0.2546 - val_accuracy: 0.8794\n",
      "Epoch 15/50\n",
      "78/78 [==============================] - 1s 13ms/step - loss: 0.1273 - accuracy: 0.9509 - val_loss: 0.2559 - val_accuracy: 0.8714\n",
      "Epoch 16/50\n",
      "78/78 [==============================] - 1s 13ms/step - loss: 0.1182 - accuracy: 0.9569 - val_loss: 0.2562 - val_accuracy: 0.8842\n",
      "Epoch 17/50\n",
      "78/78 [==============================] - 1s 13ms/step - loss: 0.1328 - accuracy: 0.9436 - val_loss: 0.2527 - val_accuracy: 0.8859\n"
     ]
    },
    {
     "data": {
      "text/plain": [
       "<keras.src.callbacks.History at 0x7f5cc8565510>"
      ]
     },
     "execution_count": 12,
     "metadata": {},
     "output_type": "execute_result"
    }
   ],
   "source": [
    "model = create_model(\n",
    "    image_size=(32, 32, 3), \n",
    "    kernel_size=(3, 3), \n",
    "    filters=32, \n",
    "    hidden_units=128, \n",
    "    output_size=3\n",
    ")\n",
    "\n",
    "model.fit(X_train_32, y_train_3, epochs=50, batch_size=32, validation_split=0.2, callbacks=[early_stopping])"
   ]
  },
  {
   "cell_type": "code",
   "execution_count": 6,
   "metadata": {},
   "outputs": [
    {
     "name": "stdout",
     "output_type": "stream",
     "text": [
      "Epoch 1/50\n",
      "78/78 [==============================] - 3s 22ms/step - loss: 0.7143 - accuracy: 0.6828 - val_loss: 0.5595 - val_accuracy: 0.7347\n",
      "Epoch 2/50\n",
      "78/78 [==============================] - 1s 16ms/step - loss: 0.5053 - accuracy: 0.7605 - val_loss: 0.4962 - val_accuracy: 0.7605\n",
      "Epoch 3/50\n",
      "78/78 [==============================] - 1s 16ms/step - loss: 0.4343 - accuracy: 0.7830 - val_loss: 0.4365 - val_accuracy: 0.7910\n",
      "Epoch 4/50\n",
      "78/78 [==============================] - 1s 15ms/step - loss: 0.3910 - accuracy: 0.8104 - val_loss: 0.4613 - val_accuracy: 0.7637\n",
      "Epoch 5/50\n",
      "78/78 [==============================] - 1s 15ms/step - loss: 0.3496 - accuracy: 0.8225 - val_loss: 0.3721 - val_accuracy: 0.8183\n",
      "Epoch 6/50\n",
      "78/78 [==============================] - 1s 18ms/step - loss: 0.2931 - accuracy: 0.8684 - val_loss: 0.3429 - val_accuracy: 0.8248\n",
      "Epoch 7/50\n",
      "78/78 [==============================] - 1s 19ms/step - loss: 0.2644 - accuracy: 0.8788 - val_loss: 0.3260 - val_accuracy: 0.8473\n",
      "Epoch 8/50\n",
      "78/78 [==============================] - 1s 19ms/step - loss: 0.2384 - accuracy: 0.8885 - val_loss: 0.2725 - val_accuracy: 0.8859\n",
      "Epoch 9/50\n",
      "78/78 [==============================] - 1s 18ms/step - loss: 0.2515 - accuracy: 0.8869 - val_loss: 0.3105 - val_accuracy: 0.8666\n",
      "Epoch 10/50\n",
      "78/78 [==============================] - 1s 14ms/step - loss: 0.1945 - accuracy: 0.9175 - val_loss: 0.2367 - val_accuracy: 0.8987\n",
      "Epoch 11/50\n",
      "78/78 [==============================] - 1s 15ms/step - loss: 0.1776 - accuracy: 0.9211 - val_loss: 0.2804 - val_accuracy: 0.8859\n",
      "Epoch 12/50\n",
      "78/78 [==============================] - 1s 14ms/step - loss: 0.1600 - accuracy: 0.9348 - val_loss: 0.2390 - val_accuracy: 0.9100\n",
      "Epoch 13/50\n",
      "78/78 [==============================] - 1s 15ms/step - loss: 0.1634 - accuracy: 0.9344 - val_loss: 0.2541 - val_accuracy: 0.8826\n",
      "Epoch 14/50\n",
      "78/78 [==============================] - 1s 17ms/step - loss: 0.1332 - accuracy: 0.9481 - val_loss: 0.2281 - val_accuracy: 0.9068\n",
      "Epoch 15/50\n",
      "78/78 [==============================] - 1s 18ms/step - loss: 0.1257 - accuracy: 0.9525 - val_loss: 0.2503 - val_accuracy: 0.9035\n",
      "Epoch 16/50\n",
      "78/78 [==============================] - 2s 19ms/step - loss: 0.0979 - accuracy: 0.9646 - val_loss: 0.2307 - val_accuracy: 0.8971\n",
      "Epoch 17/50\n",
      "78/78 [==============================] - 1s 18ms/step - loss: 0.0896 - accuracy: 0.9682 - val_loss: 0.2039 - val_accuracy: 0.9164\n",
      "Epoch 18/50\n",
      "78/78 [==============================] - 1s 15ms/step - loss: 0.0959 - accuracy: 0.9650 - val_loss: 0.2368 - val_accuracy: 0.9148\n",
      "Epoch 19/50\n",
      "78/78 [==============================] - 1s 14ms/step - loss: 0.0954 - accuracy: 0.9622 - val_loss: 0.2083 - val_accuracy: 0.9148\n",
      "Epoch 20/50\n",
      "78/78 [==============================] - 1s 14ms/step - loss: 0.0939 - accuracy: 0.9650 - val_loss: 0.2196 - val_accuracy: 0.9148\n",
      "Epoch 21/50\n",
      "78/78 [==============================] - 1s 15ms/step - loss: 0.0855 - accuracy: 0.9650 - val_loss: 0.2343 - val_accuracy: 0.9068\n",
      "Epoch 22/50\n",
      "78/78 [==============================] - 1s 17ms/step - loss: 0.0603 - accuracy: 0.9787 - val_loss: 0.1968 - val_accuracy: 0.9341\n",
      "Epoch 23/50\n",
      "78/78 [==============================] - 2s 20ms/step - loss: 0.0591 - accuracy: 0.9815 - val_loss: 0.2138 - val_accuracy: 0.9212\n",
      "Epoch 24/50\n",
      "78/78 [==============================] - 1s 19ms/step - loss: 0.0515 - accuracy: 0.9819 - val_loss: 0.1975 - val_accuracy: 0.9260\n",
      "Epoch 25/50\n",
      "78/78 [==============================] - 2s 20ms/step - loss: 0.0369 - accuracy: 0.9895 - val_loss: 0.1855 - val_accuracy: 0.9325\n",
      "Epoch 26/50\n",
      "78/78 [==============================] - 1s 16ms/step - loss: 0.0411 - accuracy: 0.9863 - val_loss: 0.2537 - val_accuracy: 0.9164\n",
      "Epoch 27/50\n",
      "78/78 [==============================] - 1s 17ms/step - loss: 0.0384 - accuracy: 0.9887 - val_loss: 0.2223 - val_accuracy: 0.9341\n",
      "Epoch 28/50\n",
      "78/78 [==============================] - 1s 17ms/step - loss: 0.0473 - accuracy: 0.9807 - val_loss: 0.1852 - val_accuracy: 0.9309\n",
      "Epoch 29/50\n",
      "78/78 [==============================] - 1s 17ms/step - loss: 0.0249 - accuracy: 0.9952 - val_loss: 0.1901 - val_accuracy: 0.9453\n",
      "Epoch 30/50\n",
      "78/78 [==============================] - 2s 21ms/step - loss: 0.0183 - accuracy: 0.9976 - val_loss: 0.1999 - val_accuracy: 0.9341\n",
      "Epoch 31/50\n",
      "78/78 [==============================] - 2s 20ms/step - loss: 0.0160 - accuracy: 0.9972 - val_loss: 0.2139 - val_accuracy: 0.9293\n",
      "Epoch 32/50\n",
      "78/78 [==============================] - 2s 20ms/step - loss: 0.0177 - accuracy: 0.9960 - val_loss: 0.2084 - val_accuracy: 0.9325\n",
      "Epoch 33/50\n",
      "78/78 [==============================] - 1s 15ms/step - loss: 0.0428 - accuracy: 0.9811 - val_loss: 0.2220 - val_accuracy: 0.9260\n"
     ]
    },
    {
     "data": {
      "text/plain": [
       "<keras.src.callbacks.History at 0x7f5d34180c90>"
      ]
     },
     "execution_count": 6,
     "metadata": {},
     "output_type": "execute_result"
    }
   ],
   "source": [
    "model = create_model(\n",
    "    image_size=(32, 32, 3), \n",
    "    kernel_size=(3, 3), \n",
    "    filters=32, \n",
    "    hidden_units=128, \n",
    "    output_size=3\n",
    ")\n",
    "X_train_pp_32 = X_train_pp.apply(cv2.resize, dsize=(32, 32))\n",
    "X_train_pp_32 = np.stack(X_train_pp_32.values)\n",
    "model.fit(X_train_pp_32, y_train_3, epochs=50, batch_size=32, validation_split=0.2, callbacks=[early_stopping])"
   ]
  },
  {
   "cell_type": "code",
   "execution_count": 7,
   "metadata": {},
   "outputs": [
    {
     "name": "stdout",
     "output_type": "stream",
     "text": [
      "Epoch 1/50\n",
      "78/78 [==============================] - 3s 20ms/step - loss: 0.7557 - accuracy: 0.6828 - val_loss: 0.6037 - val_accuracy: 0.7010\n",
      "Epoch 2/50\n",
      "78/78 [==============================] - 1s 18ms/step - loss: 0.5226 - accuracy: 0.7649 - val_loss: 0.4762 - val_accuracy: 0.7588\n",
      "Epoch 3/50\n",
      "78/78 [==============================] - 1s 19ms/step - loss: 0.4526 - accuracy: 0.7713 - val_loss: 0.4402 - val_accuracy: 0.7781\n",
      "Epoch 4/50\n",
      "78/78 [==============================] - 2s 21ms/step - loss: 0.4237 - accuracy: 0.7923 - val_loss: 0.4141 - val_accuracy: 0.8006\n",
      "Epoch 5/50\n",
      "78/78 [==============================] - 2s 22ms/step - loss: 0.3814 - accuracy: 0.8140 - val_loss: 0.3767 - val_accuracy: 0.8199\n",
      "Epoch 6/50\n",
      "78/78 [==============================] - 2s 21ms/step - loss: 0.3565 - accuracy: 0.8297 - val_loss: 0.3595 - val_accuracy: 0.8376\n",
      "Epoch 7/50\n",
      "78/78 [==============================] - 2s 19ms/step - loss: 0.3098 - accuracy: 0.8490 - val_loss: 0.3322 - val_accuracy: 0.8441\n",
      "Epoch 8/50\n",
      "78/78 [==============================] - 1s 19ms/step - loss: 0.2902 - accuracy: 0.8663 - val_loss: 0.3455 - val_accuracy: 0.8103\n",
      "Epoch 9/50\n",
      "78/78 [==============================] - 1s 18ms/step - loss: 0.2576 - accuracy: 0.8849 - val_loss: 0.2831 - val_accuracy: 0.8762\n",
      "Epoch 10/50\n",
      "78/78 [==============================] - 1s 19ms/step - loss: 0.2379 - accuracy: 0.8961 - val_loss: 0.2771 - val_accuracy: 0.8746\n",
      "Epoch 11/50\n",
      "78/78 [==============================] - 2s 23ms/step - loss: 0.2067 - accuracy: 0.9138 - val_loss: 0.2469 - val_accuracy: 0.8875\n",
      "Epoch 12/50\n",
      "78/78 [==============================] - 2s 23ms/step - loss: 0.2561 - accuracy: 0.8816 - val_loss: 0.3029 - val_accuracy: 0.8698\n",
      "Epoch 13/50\n",
      "78/78 [==============================] - 2s 22ms/step - loss: 0.2113 - accuracy: 0.9046 - val_loss: 0.2534 - val_accuracy: 0.8923\n",
      "Epoch 14/50\n",
      "78/78 [==============================] - 1s 19ms/step - loss: 0.1818 - accuracy: 0.9195 - val_loss: 0.3155 - val_accuracy: 0.8650\n",
      "Epoch 15/50\n",
      "78/78 [==============================] - 1s 17ms/step - loss: 0.1546 - accuracy: 0.9340 - val_loss: 0.2387 - val_accuracy: 0.9019\n",
      "Epoch 16/50\n",
      "78/78 [==============================] - 1s 18ms/step - loss: 0.1546 - accuracy: 0.9360 - val_loss: 0.2354 - val_accuracy: 0.9019\n",
      "Epoch 17/50\n",
      "78/78 [==============================] - 2s 22ms/step - loss: 0.1237 - accuracy: 0.9493 - val_loss: 0.2232 - val_accuracy: 0.9035\n",
      "Epoch 18/50\n",
      "78/78 [==============================] - 2s 23ms/step - loss: 0.1368 - accuracy: 0.9400 - val_loss: 0.2510 - val_accuracy: 0.9003\n",
      "Epoch 19/50\n",
      "78/78 [==============================] - 2s 23ms/step - loss: 0.1097 - accuracy: 0.9593 - val_loss: 0.2358 - val_accuracy: 0.9164\n",
      "Epoch 20/50\n",
      "78/78 [==============================] - 1s 19ms/step - loss: 0.1083 - accuracy: 0.9549 - val_loss: 0.2353 - val_accuracy: 0.9132\n",
      "Epoch 21/50\n",
      "78/78 [==============================] - 1s 18ms/step - loss: 0.1059 - accuracy: 0.9577 - val_loss: 0.3248 - val_accuracy: 0.8939\n",
      "Epoch 22/50\n",
      "78/78 [==============================] - 1s 18ms/step - loss: 0.0901 - accuracy: 0.9638 - val_loss: 0.2145 - val_accuracy: 0.9244\n",
      "Epoch 23/50\n",
      "78/78 [==============================] - 1s 19ms/step - loss: 0.0876 - accuracy: 0.9662 - val_loss: 0.2223 - val_accuracy: 0.9260\n",
      "Epoch 24/50\n",
      "78/78 [==============================] - 2s 22ms/step - loss: 0.0553 - accuracy: 0.9799 - val_loss: 0.3175 - val_accuracy: 0.8907\n",
      "Epoch 25/50\n",
      "78/78 [==============================] - 2s 23ms/step - loss: 0.0794 - accuracy: 0.9758 - val_loss: 0.2161 - val_accuracy: 0.9196\n",
      "Epoch 26/50\n",
      "78/78 [==============================] - 2s 21ms/step - loss: 0.0517 - accuracy: 0.9819 - val_loss: 0.2852 - val_accuracy: 0.9228\n",
      "Epoch 27/50\n",
      "78/78 [==============================] - 1s 18ms/step - loss: 0.0519 - accuracy: 0.9831 - val_loss: 0.1954 - val_accuracy: 0.9453\n",
      "Epoch 28/50\n",
      "78/78 [==============================] - 1s 17ms/step - loss: 0.0545 - accuracy: 0.9807 - val_loss: 0.2458 - val_accuracy: 0.9277\n",
      "Epoch 29/50\n",
      "78/78 [==============================] - 1s 17ms/step - loss: 0.0257 - accuracy: 0.9928 - val_loss: 0.2179 - val_accuracy: 0.9405\n",
      "Epoch 30/50\n",
      "78/78 [==============================] - 2s 21ms/step - loss: 0.0230 - accuracy: 0.9928 - val_loss: 0.3388 - val_accuracy: 0.9148\n",
      "Epoch 31/50\n",
      "78/78 [==============================] - 2s 24ms/step - loss: 0.0397 - accuracy: 0.9863 - val_loss: 0.2781 - val_accuracy: 0.9212\n",
      "Epoch 32/50\n",
      "78/78 [==============================] - 2s 23ms/step - loss: 0.0304 - accuracy: 0.9899 - val_loss: 0.1956 - val_accuracy: 0.9325\n"
     ]
    },
    {
     "data": {
      "text/plain": [
       "<keras.src.callbacks.History at 0x7f5d1ff40dd0>"
      ]
     },
     "execution_count": 7,
     "metadata": {},
     "output_type": "execute_result"
    }
   ],
   "source": [
    "model = create_model(\n",
    "    image_size=(32, 32, 3), \n",
    "    kernel_size=(5, 5), \n",
    "    filters=32, \n",
    "    hidden_units=128, \n",
    "    output_size=3\n",
    ")\n",
    "\n",
    "model.fit(X_train_pp_32, y_train_3, epochs=50, batch_size=32, validation_split=0.2, callbacks=[early_stopping])"
   ]
  },
  {
   "cell_type": "code",
   "execution_count": 8,
   "metadata": {},
   "outputs": [
    {
     "name": "stdout",
     "output_type": "stream",
     "text": [
      "Epoch 1/50\n",
      "78/78 [==============================] - 4s 35ms/step - loss: 0.7590 - accuracy: 0.6767 - val_loss: 0.5754 - val_accuracy: 0.7331\n",
      "Epoch 2/50\n",
      "78/78 [==============================] - 3s 37ms/step - loss: 0.5082 - accuracy: 0.7516 - val_loss: 0.4777 - val_accuracy: 0.7540\n",
      "Epoch 3/50\n",
      "78/78 [==============================] - 3s 33ms/step - loss: 0.4645 - accuracy: 0.7649 - val_loss: 0.4775 - val_accuracy: 0.7540\n",
      "Epoch 4/50\n",
      "78/78 [==============================] - 2s 31ms/step - loss: 0.4317 - accuracy: 0.7826 - val_loss: 0.4146 - val_accuracy: 0.8023\n",
      "Epoch 5/50\n",
      "78/78 [==============================] - 3s 33ms/step - loss: 0.3850 - accuracy: 0.8136 - val_loss: 0.3864 - val_accuracy: 0.8006\n",
      "Epoch 6/50\n",
      "78/78 [==============================] - 3s 36ms/step - loss: 0.3364 - accuracy: 0.8390 - val_loss: 0.3401 - val_accuracy: 0.8248\n",
      "Epoch 7/50\n",
      "78/78 [==============================] - 3s 33ms/step - loss: 0.2900 - accuracy: 0.8663 - val_loss: 0.3191 - val_accuracy: 0.8376\n",
      "Epoch 8/50\n",
      "78/78 [==============================] - 2s 31ms/step - loss: 0.2647 - accuracy: 0.8780 - val_loss: 0.3765 - val_accuracy: 0.7958\n",
      "Epoch 9/50\n",
      "78/78 [==============================] - 3s 33ms/step - loss: 0.2235 - accuracy: 0.8977 - val_loss: 0.2627 - val_accuracy: 0.8746\n",
      "Epoch 10/50\n",
      "78/78 [==============================] - 3s 37ms/step - loss: 0.1986 - accuracy: 0.9195 - val_loss: 0.2638 - val_accuracy: 0.8810\n",
      "Epoch 11/50\n",
      "78/78 [==============================] - 3s 33ms/step - loss: 0.1740 - accuracy: 0.9340 - val_loss: 0.2579 - val_accuracy: 0.9084\n",
      "Epoch 12/50\n",
      "78/78 [==============================] - 2s 30ms/step - loss: 0.1548 - accuracy: 0.9388 - val_loss: 0.2217 - val_accuracy: 0.9164\n",
      "Epoch 13/50\n",
      "78/78 [==============================] - 3s 34ms/step - loss: 0.1427 - accuracy: 0.9416 - val_loss: 0.3246 - val_accuracy: 0.8698\n",
      "Epoch 14/50\n",
      "78/78 [==============================] - 3s 37ms/step - loss: 0.1264 - accuracy: 0.9469 - val_loss: 0.2254 - val_accuracy: 0.8955\n",
      "Epoch 15/50\n",
      "78/78 [==============================] - 2s 31ms/step - loss: 0.1036 - accuracy: 0.9658 - val_loss: 0.1921 - val_accuracy: 0.9309\n",
      "Epoch 16/50\n",
      "78/78 [==============================] - 2s 31ms/step - loss: 0.0889 - accuracy: 0.9686 - val_loss: 0.1822 - val_accuracy: 0.9357\n",
      "Epoch 17/50\n",
      "78/78 [==============================] - 3s 35ms/step - loss: 0.0870 - accuracy: 0.9674 - val_loss: 0.1994 - val_accuracy: 0.9293\n",
      "Epoch 18/50\n",
      "78/78 [==============================] - 3s 37ms/step - loss: 0.0718 - accuracy: 0.9738 - val_loss: 0.2098 - val_accuracy: 0.9357\n",
      "Epoch 19/50\n",
      "78/78 [==============================] - 2s 31ms/step - loss: 0.0593 - accuracy: 0.9843 - val_loss: 0.1958 - val_accuracy: 0.9293\n",
      "Epoch 20/50\n",
      "78/78 [==============================] - 2s 30ms/step - loss: 0.0484 - accuracy: 0.9875 - val_loss: 0.2000 - val_accuracy: 0.9389\n",
      "Epoch 21/50\n",
      "78/78 [==============================] - 3s 35ms/step - loss: 0.0372 - accuracy: 0.9895 - val_loss: 0.1887 - val_accuracy: 0.9389\n"
     ]
    },
    {
     "data": {
      "text/plain": [
       "<keras.src.callbacks.History at 0x7f5d11980c90>"
      ]
     },
     "execution_count": 8,
     "metadata": {},
     "output_type": "execute_result"
    }
   ],
   "source": [
    "model = create_model(\n",
    "    image_size=(32, 32, 3), \n",
    "    kernel_size=(3, 3), \n",
    "    filters=64, \n",
    "    hidden_units=128, \n",
    "    output_size=3\n",
    ")\n",
    "\n",
    "model.fit(X_train_pp_32, y_train_3, epochs=50, batch_size=32, validation_split=0.2, callbacks=[early_stopping])"
   ]
  },
  {
   "cell_type": "code",
   "execution_count": 9,
   "metadata": {},
   "outputs": [
    {
     "name": "stdout",
     "output_type": "stream",
     "text": [
      "Epoch 1/50\n",
      "78/78 [==============================] - 4s 38ms/step - loss: 0.7142 - accuracy: 0.6884 - val_loss: 0.6161 - val_accuracy: 0.7058\n",
      "Epoch 2/50\n",
      "78/78 [==============================] - 3s 38ms/step - loss: 0.5151 - accuracy: 0.7488 - val_loss: 0.4950 - val_accuracy: 0.7524\n",
      "Epoch 3/50\n",
      "78/78 [==============================] - 3s 43ms/step - loss: 0.4520 - accuracy: 0.7814 - val_loss: 0.4336 - val_accuracy: 0.7846\n",
      "Epoch 4/50\n",
      "78/78 [==============================] - 3s 37ms/step - loss: 0.4122 - accuracy: 0.8043 - val_loss: 0.4153 - val_accuracy: 0.7781\n",
      "Epoch 5/50\n",
      "78/78 [==============================] - 3s 38ms/step - loss: 0.3803 - accuracy: 0.8039 - val_loss: 0.3757 - val_accuracy: 0.7974\n",
      "Epoch 6/50\n",
      "78/78 [==============================] - 3s 44ms/step - loss: 0.3301 - accuracy: 0.8426 - val_loss: 0.3573 - val_accuracy: 0.8199\n",
      "Epoch 7/50\n",
      "78/78 [==============================] - 3s 38ms/step - loss: 0.3109 - accuracy: 0.8474 - val_loss: 0.3374 - val_accuracy: 0.8408\n",
      "Epoch 8/50\n",
      "78/78 [==============================] - 3s 35ms/step - loss: 0.2648 - accuracy: 0.8845 - val_loss: 0.2867 - val_accuracy: 0.8714\n",
      "Epoch 9/50\n",
      "78/78 [==============================] - 3s 41ms/step - loss: 0.2242 - accuracy: 0.9046 - val_loss: 0.2479 - val_accuracy: 0.9116\n",
      "Epoch 10/50\n",
      "78/78 [==============================] - 3s 39ms/step - loss: 0.1948 - accuracy: 0.9239 - val_loss: 0.2295 - val_accuracy: 0.9035\n",
      "Epoch 11/50\n",
      "78/78 [==============================] - 3s 36ms/step - loss: 0.1693 - accuracy: 0.9287 - val_loss: 0.2229 - val_accuracy: 0.9084\n",
      "Epoch 12/50\n",
      "78/78 [==============================] - 3s 37ms/step - loss: 0.1740 - accuracy: 0.9287 - val_loss: 0.2179 - val_accuracy: 0.9100\n",
      "Epoch 13/50\n",
      "78/78 [==============================] - 3s 34ms/step - loss: 0.1321 - accuracy: 0.9485 - val_loss: 0.1865 - val_accuracy: 0.9277\n",
      "Epoch 14/50\n",
      "78/78 [==============================] - 3s 41ms/step - loss: 0.1054 - accuracy: 0.9662 - val_loss: 0.1920 - val_accuracy: 0.9116\n",
      "Epoch 15/50\n",
      "78/78 [==============================] - 3s 42ms/step - loss: 0.0993 - accuracy: 0.9646 - val_loss: 0.2073 - val_accuracy: 0.9212\n",
      "Epoch 16/50\n",
      "78/78 [==============================] - 3s 36ms/step - loss: 0.0843 - accuracy: 0.9698 - val_loss: 0.2337 - val_accuracy: 0.8955\n",
      "Epoch 17/50\n",
      "78/78 [==============================] - 3s 39ms/step - loss: 0.0776 - accuracy: 0.9730 - val_loss: 0.1766 - val_accuracy: 0.9293\n",
      "Epoch 18/50\n",
      "78/78 [==============================] - 3s 45ms/step - loss: 0.0606 - accuracy: 0.9803 - val_loss: 0.1930 - val_accuracy: 0.9148\n",
      "Epoch 19/50\n",
      "78/78 [==============================] - 3s 38ms/step - loss: 0.0676 - accuracy: 0.9754 - val_loss: 0.1637 - val_accuracy: 0.9389\n",
      "Epoch 20/50\n",
      "78/78 [==============================] - 3s 36ms/step - loss: 0.0452 - accuracy: 0.9831 - val_loss: 0.2594 - val_accuracy: 0.9100\n",
      "Epoch 21/50\n",
      "78/78 [==============================] - 3s 43ms/step - loss: 0.0675 - accuracy: 0.9718 - val_loss: 0.1877 - val_accuracy: 0.9244\n",
      "Epoch 22/50\n",
      "78/78 [==============================] - 3s 40ms/step - loss: 0.0408 - accuracy: 0.9863 - val_loss: 0.1353 - val_accuracy: 0.9486\n",
      "Epoch 23/50\n",
      "78/78 [==============================] - 3s 36ms/step - loss: 0.0348 - accuracy: 0.9863 - val_loss: 0.1904 - val_accuracy: 0.9389\n",
      "Epoch 24/50\n",
      "78/78 [==============================] - 3s 44ms/step - loss: 0.0495 - accuracy: 0.9831 - val_loss: 0.1359 - val_accuracy: 0.9486\n",
      "Epoch 25/50\n",
      "78/78 [==============================] - 3s 42ms/step - loss: 0.0356 - accuracy: 0.9891 - val_loss: 0.1685 - val_accuracy: 0.9309\n",
      "Epoch 26/50\n",
      "78/78 [==============================] - 3s 38ms/step - loss: 0.0208 - accuracy: 0.9952 - val_loss: 0.1992 - val_accuracy: 0.9405\n",
      "Epoch 27/50\n",
      "78/78 [==============================] - 3s 36ms/step - loss: 0.0213 - accuracy: 0.9928 - val_loss: 0.2963 - val_accuracy: 0.9228\n"
     ]
    },
    {
     "data": {
      "text/plain": [
       "<keras.src.callbacks.History at 0x7f5d11993990>"
      ]
     },
     "execution_count": 9,
     "metadata": {},
     "output_type": "execute_result"
    }
   ],
   "source": [
    "model = create_model(\n",
    "    image_size=(32, 32, 3), \n",
    "    kernel_size=(3, 3), \n",
    "    filters=64, \n",
    "    hidden_units=256, \n",
    "    output_size=3\n",
    ")\n",
    "\n",
    "model.fit(X_train_pp_32, y_train_3, epochs=50, batch_size=32, validation_split=0.2, callbacks=[early_stopping])"
   ]
  },
  {
   "cell_type": "code",
   "execution_count": 10,
   "metadata": {},
   "outputs": [
    {
     "name": "stdout",
     "output_type": "stream",
     "text": [
      "Epoch 1/50\n",
      "78/78 [==============================] - 5s 55ms/step - loss: 0.7613 - accuracy: 0.6695 - val_loss: 0.7454 - val_accuracy: 0.6768\n",
      "Epoch 2/50\n",
      "78/78 [==============================] - 4s 52ms/step - loss: 0.5210 - accuracy: 0.7456 - val_loss: 0.4782 - val_accuracy: 0.7814\n",
      "Epoch 3/50\n",
      "78/78 [==============================] - 4s 53ms/step - loss: 0.4415 - accuracy: 0.7838 - val_loss: 0.4437 - val_accuracy: 0.7733\n",
      "Epoch 4/50\n",
      "78/78 [==============================] - 4s 51ms/step - loss: 0.4228 - accuracy: 0.7939 - val_loss: 0.4386 - val_accuracy: 0.7846\n",
      "Epoch 5/50\n",
      "78/78 [==============================] - 4s 49ms/step - loss: 0.3660 - accuracy: 0.8269 - val_loss: 0.3680 - val_accuracy: 0.8167\n",
      "Epoch 6/50\n",
      "78/78 [==============================] - 4s 50ms/step - loss: 0.3149 - accuracy: 0.8498 - val_loss: 0.4632 - val_accuracy: 0.7781\n",
      "Epoch 7/50\n",
      "78/78 [==============================] - 4s 52ms/step - loss: 0.2765 - accuracy: 0.8712 - val_loss: 0.5289 - val_accuracy: 0.7910\n",
      "Epoch 8/50\n",
      "78/78 [==============================] - 4s 51ms/step - loss: 0.2705 - accuracy: 0.8780 - val_loss: 0.2492 - val_accuracy: 0.8923\n",
      "Epoch 9/50\n",
      "78/78 [==============================] - 4s 52ms/step - loss: 0.2381 - accuracy: 0.8941 - val_loss: 0.2521 - val_accuracy: 0.8907\n",
      "Epoch 10/50\n",
      "78/78 [==============================] - 4s 50ms/step - loss: 0.1827 - accuracy: 0.9215 - val_loss: 0.2154 - val_accuracy: 0.9164\n",
      "Epoch 11/50\n",
      "78/78 [==============================] - 4s 48ms/step - loss: 0.1473 - accuracy: 0.9416 - val_loss: 0.2983 - val_accuracy: 0.8794\n",
      "Epoch 12/50\n",
      "78/78 [==============================] - 4s 48ms/step - loss: 0.2132 - accuracy: 0.9050 - val_loss: 0.2273 - val_accuracy: 0.9116\n",
      "Epoch 13/50\n",
      "78/78 [==============================] - 4s 48ms/step - loss: 0.1353 - accuracy: 0.9485 - val_loss: 0.2312 - val_accuracy: 0.9019\n",
      "Epoch 14/50\n",
      "78/78 [==============================] - 4s 51ms/step - loss: 0.1237 - accuracy: 0.9497 - val_loss: 0.2003 - val_accuracy: 0.9164\n",
      "Epoch 15/50\n",
      "78/78 [==============================] - 4s 51ms/step - loss: 0.0995 - accuracy: 0.9646 - val_loss: 0.1852 - val_accuracy: 0.9260\n",
      "Epoch 16/50\n",
      "78/78 [==============================] - 4s 52ms/step - loss: 0.0893 - accuracy: 0.9630 - val_loss: 0.1998 - val_accuracy: 0.9309\n",
      "Epoch 17/50\n",
      "78/78 [==============================] - 4s 48ms/step - loss: 0.0791 - accuracy: 0.9714 - val_loss: 0.1853 - val_accuracy: 0.9325\n",
      "Epoch 18/50\n",
      "78/78 [==============================] - 4s 49ms/step - loss: 0.0822 - accuracy: 0.9686 - val_loss: 0.1867 - val_accuracy: 0.9196\n",
      "Epoch 19/50\n",
      "78/78 [==============================] - 4s 48ms/step - loss: 0.0647 - accuracy: 0.9775 - val_loss: 0.2581 - val_accuracy: 0.8971\n",
      "Epoch 20/50\n",
      "78/78 [==============================] - 3s 45ms/step - loss: 0.0606 - accuracy: 0.9795 - val_loss: 0.1679 - val_accuracy: 0.9437\n",
      "Epoch 21/50\n",
      "78/78 [==============================] - 3s 45ms/step - loss: 0.0492 - accuracy: 0.9831 - val_loss: 0.1895 - val_accuracy: 0.9309\n",
      "Epoch 22/50\n",
      "78/78 [==============================] - 4s 48ms/step - loss: 0.0452 - accuracy: 0.9859 - val_loss: 0.2196 - val_accuracy: 0.9341\n",
      "Epoch 23/50\n",
      "78/78 [==============================] - 4s 48ms/step - loss: 0.0417 - accuracy: 0.9859 - val_loss: 0.1792 - val_accuracy: 0.9453\n",
      "Epoch 24/50\n",
      "78/78 [==============================] - 4s 52ms/step - loss: 0.0470 - accuracy: 0.9823 - val_loss: 0.1942 - val_accuracy: 0.9309\n",
      "Epoch 25/50\n",
      "78/78 [==============================] - 4s 48ms/step - loss: 0.0663 - accuracy: 0.9718 - val_loss: 0.1848 - val_accuracy: 0.9373\n"
     ]
    },
    {
     "data": {
      "text/plain": [
       "<keras.src.callbacks.History at 0x7f5cd05b0c90>"
      ]
     },
     "execution_count": 10,
     "metadata": {},
     "output_type": "execute_result"
    }
   ],
   "source": [
    "model = create_model(\n",
    "    image_size=(32, 32, 3), \n",
    "    kernel_size=(5, 5), \n",
    "    filters=64, \n",
    "    hidden_units=256, \n",
    "    output_size=3\n",
    ")\n",
    "\n",
    "model.fit(X_train_pp_32, y_train_3, epochs=50, batch_size=32, validation_split=0.2, callbacks=[early_stopping])"
   ]
  },
  {
   "cell_type": "code",
   "execution_count": null,
   "metadata": {},
   "outputs": [],
   "source": [
    "model = create_model(\n",
    "    image_size=(64, 64, 3), \n",
    "    kernel_size=(3, 3), \n",
    "    filters=32, \n",
    "    hidden_units=128, \n",
    "    output_size=3\n",
    ")\n",
    "\n",
    "X_train_64 = X_train.apply(lambda x: s_preprocess_img(x, img_size=(64, 64)))"
   ]
  },
  {
   "cell_type": "code",
   "execution_count": 15,
   "metadata": {},
   "outputs": [
    {
     "name": "stdout",
     "output_type": "stream",
     "text": [
      "Epoch 1/50\n"
     ]
    },
    {
     "name": "stderr",
     "output_type": "stream",
     "text": [
      "2023-08-31 02:11:31.058191: W tensorflow/tsl/framework/cpu_allocator_impl.cc:83] Allocation of 122093568 exceeds 10% of free system memory.\n"
     ]
    },
    {
     "name": "stdout",
     "output_type": "stream",
     "text": [
      "78/78 [==============================] - 5s 60ms/step - loss: 0.5178 - accuracy: 0.7790 - val_loss: 0.3694 - val_accuracy: 0.8441\n",
      "Epoch 2/50\n",
      "78/78 [==============================] - 4s 58ms/step - loss: 0.3380 - accuracy: 0.8523 - val_loss: 0.3611 - val_accuracy: 0.8553\n",
      "Epoch 3/50\n",
      "78/78 [==============================] - 4s 55ms/step - loss: 0.2803 - accuracy: 0.8829 - val_loss: 0.2945 - val_accuracy: 0.8698\n",
      "Epoch 4/50\n",
      "78/78 [==============================] - 4s 56ms/step - loss: 0.2603 - accuracy: 0.8877 - val_loss: 0.3023 - val_accuracy: 0.8875\n",
      "Epoch 5/50\n",
      "78/78 [==============================] - 4s 55ms/step - loss: 0.2374 - accuracy: 0.9034 - val_loss: 0.2755 - val_accuracy: 0.8826\n",
      "Epoch 6/50\n",
      "78/78 [==============================] - 4s 55ms/step - loss: 0.2096 - accuracy: 0.9130 - val_loss: 0.2635 - val_accuracy: 0.9035\n",
      "Epoch 7/50\n",
      "78/78 [==============================] - 4s 55ms/step - loss: 0.1771 - accuracy: 0.9275 - val_loss: 0.3222 - val_accuracy: 0.8666\n",
      "Epoch 8/50\n",
      "78/78 [==============================] - 4s 56ms/step - loss: 0.1754 - accuracy: 0.9287 - val_loss: 0.2899 - val_accuracy: 0.8698\n",
      "Epoch 9/50\n",
      "78/78 [==============================] - 4s 56ms/step - loss: 0.1647 - accuracy: 0.9352 - val_loss: 0.2645 - val_accuracy: 0.8939\n",
      "Epoch 10/50\n",
      "78/78 [==============================] - 4s 55ms/step - loss: 0.1461 - accuracy: 0.9400 - val_loss: 0.2415 - val_accuracy: 0.9019\n",
      "Epoch 11/50\n",
      "78/78 [==============================] - 5s 59ms/step - loss: 0.1347 - accuracy: 0.9485 - val_loss: 0.2460 - val_accuracy: 0.9051\n",
      "Epoch 12/50\n",
      "78/78 [==============================] - 5s 61ms/step - loss: 0.1033 - accuracy: 0.9581 - val_loss: 0.2796 - val_accuracy: 0.9019\n",
      "Epoch 13/50\n",
      "78/78 [==============================] - 5s 59ms/step - loss: 0.0872 - accuracy: 0.9666 - val_loss: 0.2473 - val_accuracy: 0.9019\n",
      "Epoch 14/50\n",
      "78/78 [==============================] - 5s 59ms/step - loss: 0.0782 - accuracy: 0.9710 - val_loss: 0.2689 - val_accuracy: 0.9116\n",
      "Epoch 15/50\n",
      "78/78 [==============================] - 5s 60ms/step - loss: 0.0861 - accuracy: 0.9662 - val_loss: 0.2682 - val_accuracy: 0.9084\n"
     ]
    },
    {
     "data": {
      "text/plain": [
       "<keras.src.callbacks.History at 0x7f5cc871e5d0>"
      ]
     },
     "execution_count": 15,
     "metadata": {},
     "output_type": "execute_result"
    }
   ],
   "source": [
    "X_train_64 = np.stack(X_train_64)\n",
    "\n",
    "model.fit(X_train_64, y_train_3, epochs=50, batch_size=32, validation_split=0.2, callbacks=[early_stopping])"
   ]
  },
  {
   "cell_type": "code",
   "execution_count": 16,
   "metadata": {},
   "outputs": [
    {
     "name": "stdout",
     "output_type": "stream",
     "text": [
      "Epoch 1/50\n"
     ]
    },
    {
     "name": "stderr",
     "output_type": "stream",
     "text": [
      "2023-08-31 02:12:42.477785: W tensorflow/tsl/framework/cpu_allocator_impl.cc:83] Allocation of 122093568 exceeds 10% of free system memory.\n"
     ]
    },
    {
     "name": "stdout",
     "output_type": "stream",
     "text": [
      "78/78 [==============================] - 19s 228ms/step - loss: 0.6915 - accuracy: 0.7222 - val_loss: 0.4370 - val_accuracy: 0.7990\n",
      "Epoch 2/50\n",
      "78/78 [==============================] - 18s 232ms/step - loss: 0.3641 - accuracy: 0.8422 - val_loss: 0.3887 - val_accuracy: 0.8215\n",
      "Epoch 3/50\n",
      "78/78 [==============================] - 17s 218ms/step - loss: 0.3023 - accuracy: 0.8712 - val_loss: 0.3236 - val_accuracy: 0.8617\n",
      "Epoch 4/50\n",
      "78/78 [==============================] - 17s 215ms/step - loss: 0.2713 - accuracy: 0.8861 - val_loss: 0.2899 - val_accuracy: 0.8746\n",
      "Epoch 5/50\n",
      "78/78 [==============================] - 17s 222ms/step - loss: 0.2709 - accuracy: 0.8829 - val_loss: 0.2858 - val_accuracy: 0.8762\n",
      "Epoch 6/50\n",
      "78/78 [==============================] - 18s 231ms/step - loss: 0.2395 - accuracy: 0.8969 - val_loss: 0.2730 - val_accuracy: 0.8714\n",
      "Epoch 7/50\n",
      "78/78 [==============================] - 17s 218ms/step - loss: 0.2214 - accuracy: 0.9034 - val_loss: 0.2526 - val_accuracy: 0.8939\n",
      "Epoch 8/50\n",
      "78/78 [==============================] - 17s 216ms/step - loss: 0.2187 - accuracy: 0.9086 - val_loss: 0.2373 - val_accuracy: 0.9019\n",
      "Epoch 9/50\n",
      "78/78 [==============================] - 16s 204ms/step - loss: 0.2098 - accuracy: 0.9143 - val_loss: 0.2729 - val_accuracy: 0.8891\n",
      "Epoch 10/50\n",
      "78/78 [==============================] - 17s 212ms/step - loss: 0.1924 - accuracy: 0.9179 - val_loss: 0.2619 - val_accuracy: 0.9003\n",
      "Epoch 11/50\n",
      "78/78 [==============================] - 18s 235ms/step - loss: 0.1816 - accuracy: 0.9251 - val_loss: 0.2801 - val_accuracy: 0.9003\n",
      "Epoch 12/50\n",
      "78/78 [==============================] - 17s 213ms/step - loss: 0.1575 - accuracy: 0.9368 - val_loss: 0.2449 - val_accuracy: 0.9003\n",
      "Epoch 13/50\n",
      "78/78 [==============================] - 16s 209ms/step - loss: 0.1482 - accuracy: 0.9372 - val_loss: 0.2439 - val_accuracy: 0.8971\n"
     ]
    },
    {
     "data": {
      "text/plain": [
       "<keras.src.callbacks.History at 0x7f5cc8172c50>"
      ]
     },
     "execution_count": 16,
     "metadata": {},
     "output_type": "execute_result"
    }
   ],
   "source": [
    "model = create_model(\n",
    "    image_size=(64, 64, 3), \n",
    "    kernel_size=(5, 5), \n",
    "    filters=64, \n",
    "    hidden_units=256, \n",
    "    output_size=3\n",
    ")\n",
    "\n",
    "model.fit(X_train_64, y_train_3, epochs=50, batch_size=32, validation_split=0.2, callbacks=[early_stopping])"
   ]
  },
  {
   "cell_type": "code",
   "execution_count": 18,
   "metadata": {},
   "outputs": [
    {
     "name": "stdout",
     "output_type": "stream",
     "text": [
      "Epoch 1/50\n"
     ]
    },
    {
     "name": "stderr",
     "output_type": "stream",
     "text": [
      "2023-08-31 02:17:35.577256: W tensorflow/tsl/framework/cpu_allocator_impl.cc:83] Allocation of 122093568 exceeds 10% of free system memory.\n"
     ]
    },
    {
     "name": "stdout",
     "output_type": "stream",
     "text": [
      "78/78 [==============================] - 5s 56ms/step - loss: 0.6945 - accuracy: 0.6844 - val_loss: 0.5080 - val_accuracy: 0.7572\n",
      "Epoch 2/50\n",
      "78/78 [==============================] - 4s 56ms/step - loss: 0.4492 - accuracy: 0.7738 - val_loss: 0.3924 - val_accuracy: 0.8006\n",
      "Epoch 3/50\n",
      "78/78 [==============================] - 4s 53ms/step - loss: 0.4085 - accuracy: 0.7987 - val_loss: 0.4029 - val_accuracy: 0.7878\n",
      "Epoch 4/50\n",
      "78/78 [==============================] - 4s 55ms/step - loss: 0.3381 - accuracy: 0.8402 - val_loss: 0.4666 - val_accuracy: 0.7765\n",
      "Epoch 5/50\n",
      "78/78 [==============================] - 5s 59ms/step - loss: 0.2921 - accuracy: 0.8724 - val_loss: 0.2908 - val_accuracy: 0.8537\n",
      "Epoch 6/50\n",
      "78/78 [==============================] - 4s 55ms/step - loss: 0.2626 - accuracy: 0.8772 - val_loss: 0.2882 - val_accuracy: 0.8714\n",
      "Epoch 7/50\n",
      "78/78 [==============================] - 4s 53ms/step - loss: 0.2242 - accuracy: 0.9058 - val_loss: 0.2473 - val_accuracy: 0.8891\n",
      "Epoch 8/50\n",
      "78/78 [==============================] - 4s 55ms/step - loss: 0.2095 - accuracy: 0.9151 - val_loss: 0.2871 - val_accuracy: 0.8617\n",
      "Epoch 9/50\n",
      "78/78 [==============================] - 5s 59ms/step - loss: 0.1957 - accuracy: 0.9187 - val_loss: 0.2558 - val_accuracy: 0.8875\n",
      "Epoch 10/50\n",
      "78/78 [==============================] - 5s 60ms/step - loss: 0.1756 - accuracy: 0.9243 - val_loss: 0.2772 - val_accuracy: 0.8730\n",
      "Epoch 11/50\n",
      "78/78 [==============================] - 5s 58ms/step - loss: 0.1687 - accuracy: 0.9316 - val_loss: 0.2424 - val_accuracy: 0.9051\n",
      "Epoch 12/50\n",
      "78/78 [==============================] - 4s 58ms/step - loss: 0.1513 - accuracy: 0.9356 - val_loss: 0.2440 - val_accuracy: 0.8987\n",
      "Epoch 13/50\n",
      "78/78 [==============================] - 4s 56ms/step - loss: 0.1364 - accuracy: 0.9420 - val_loss: 0.2141 - val_accuracy: 0.9084\n",
      "Epoch 14/50\n",
      "78/78 [==============================] - 5s 59ms/step - loss: 0.1254 - accuracy: 0.9509 - val_loss: 0.2064 - val_accuracy: 0.9068\n",
      "Epoch 15/50\n",
      "78/78 [==============================] - 5s 58ms/step - loss: 0.1428 - accuracy: 0.9432 - val_loss: 0.3978 - val_accuracy: 0.8344\n",
      "Epoch 16/50\n",
      "78/78 [==============================] - 4s 54ms/step - loss: 0.1202 - accuracy: 0.9521 - val_loss: 0.2811 - val_accuracy: 0.8923\n",
      "Epoch 17/50\n",
      "78/78 [==============================] - 4s 58ms/step - loss: 0.1033 - accuracy: 0.9569 - val_loss: 0.2536 - val_accuracy: 0.9116\n",
      "Epoch 18/50\n",
      "78/78 [==============================] - 4s 57ms/step - loss: 0.1195 - accuracy: 0.9465 - val_loss: 0.2399 - val_accuracy: 0.9051\n",
      "Epoch 19/50\n",
      "78/78 [==============================] - 4s 56ms/step - loss: 0.0890 - accuracy: 0.9666 - val_loss: 0.2587 - val_accuracy: 0.9019\n"
     ]
    },
    {
     "data": {
      "text/plain": [
       "<keras.src.callbacks.History at 0x7f5c916fcf90>"
      ]
     },
     "execution_count": 18,
     "metadata": {},
     "output_type": "execute_result"
    }
   ],
   "source": [
    "model = create_model(\n",
    "    image_size=(64, 64, 3), \n",
    "    kernel_size=(3, 3), \n",
    "    filters=32, \n",
    "    hidden_units=128, \n",
    "    output_size=3\n",
    ")\n",
    "\n",
    "\n",
    "X_train_pp_64 = X_train_pp.apply(lambda x: cv2.resize(x, dsize=(64, 64)))\n",
    "X_train_pp_64 = np.stack(X_train_pp_64.values)\n",
    "\n",
    "model.fit(X_train_pp_64, y_train_3, epochs=50, batch_size=32, validation_split=0.2, callbacks=[early_stopping])"
   ]
  },
  {
   "cell_type": "code",
   "execution_count": 22,
   "metadata": {},
   "outputs": [
    {
     "name": "stdout",
     "output_type": "stream",
     "text": [
      "Epoch 1/50\n",
      "78/78 [==============================] - 17s 214ms/step - loss: 0.9125 - accuracy: 0.6473 - val_loss: 0.7610 - val_accuracy: 0.6415\n",
      "Epoch 2/50\n",
      "78/78 [==============================] - 16s 206ms/step - loss: 0.5541 - accuracy: 0.7456 - val_loss: 0.5275 - val_accuracy: 0.7540\n",
      "Epoch 3/50\n",
      "78/78 [==============================] - 16s 208ms/step - loss: 0.5042 - accuracy: 0.7552 - val_loss: 0.5388 - val_accuracy: 0.7331\n",
      "Epoch 4/50\n",
      "78/78 [==============================] - 16s 203ms/step - loss: 0.4832 - accuracy: 0.7556 - val_loss: 0.4817 - val_accuracy: 0.7669\n",
      "Epoch 5/50\n",
      "78/78 [==============================] - 16s 204ms/step - loss: 0.4280 - accuracy: 0.7770 - val_loss: 0.4564 - val_accuracy: 0.7733\n",
      "Epoch 6/50\n",
      "78/78 [==============================] - 17s 212ms/step - loss: 0.4053 - accuracy: 0.8011 - val_loss: 0.4512 - val_accuracy: 0.7910\n",
      "Epoch 7/50\n",
      "78/78 [==============================] - 16s 204ms/step - loss: 0.3788 - accuracy: 0.8039 - val_loss: 0.3866 - val_accuracy: 0.8006\n",
      "Epoch 8/50\n",
      "78/78 [==============================] - 16s 204ms/step - loss: 0.3163 - accuracy: 0.8362 - val_loss: 0.3521 - val_accuracy: 0.8103\n",
      "Epoch 9/50\n",
      "78/78 [==============================] - 16s 202ms/step - loss: 0.3008 - accuracy: 0.8563 - val_loss: 0.3482 - val_accuracy: 0.8264\n",
      "Epoch 10/50\n",
      "78/78 [==============================] - 17s 212ms/step - loss: 0.2652 - accuracy: 0.8708 - val_loss: 0.2980 - val_accuracy: 0.8408\n",
      "Epoch 11/50\n",
      "78/78 [==============================] - 16s 211ms/step - loss: 0.2422 - accuracy: 0.8853 - val_loss: 0.3099 - val_accuracy: 0.8521\n",
      "Epoch 12/50\n",
      "78/78 [==============================] - 16s 208ms/step - loss: 0.2240 - accuracy: 0.8917 - val_loss: 0.3794 - val_accuracy: 0.8280\n",
      "Epoch 13/50\n",
      "78/78 [==============================] - 17s 219ms/step - loss: 0.2149 - accuracy: 0.8990 - val_loss: 0.2479 - val_accuracy: 0.8682\n",
      "Epoch 14/50\n",
      "78/78 [==============================] - 17s 223ms/step - loss: 0.1926 - accuracy: 0.9090 - val_loss: 0.2772 - val_accuracy: 0.8666\n",
      "Epoch 15/50\n",
      "78/78 [==============================] - 16s 207ms/step - loss: 0.1976 - accuracy: 0.9110 - val_loss: 0.2575 - val_accuracy: 0.8714\n",
      "Epoch 16/50\n",
      "78/78 [==============================] - 17s 213ms/step - loss: 0.1764 - accuracy: 0.9219 - val_loss: 0.2803 - val_accuracy: 0.8698\n",
      "Epoch 17/50\n",
      "78/78 [==============================] - 17s 221ms/step - loss: 0.1879 - accuracy: 0.9163 - val_loss: 0.2664 - val_accuracy: 0.8714\n",
      "Epoch 18/50\n",
      "78/78 [==============================] - 17s 212ms/step - loss: 0.1784 - accuracy: 0.9207 - val_loss: 0.2619 - val_accuracy: 0.8730\n"
     ]
    },
    {
     "data": {
      "text/plain": [
       "<keras.src.callbacks.History at 0x7f5c81d0fd10>"
      ]
     },
     "execution_count": 22,
     "metadata": {},
     "output_type": "execute_result"
    }
   ],
   "source": [
    "model = create_model(\n",
    "    image_size=(64, 64, 3), \n",
    "    kernel_size=(5, 5), \n",
    "    filters=64, \n",
    "    hidden_units=256, \n",
    "    output_size=3\n",
    ")\n",
    "\n",
    "\n",
    "X_train_pp_64 = X_train_pp.apply(lambda x: cv2.resize(x, dsize=(64, 64)))\n",
    "X_train_pp_64 = np.stack(X_train_pp_64.values)\n",
    "\n",
    "model.fit(X_train_pp_64, y_train_3, epochs=50, batch_size=32, validation_split=0.2, callbacks=[early_stopping])"
   ]
  },
  {
   "cell_type": "code",
   "execution_count": 11,
   "metadata": {},
   "outputs": [
    {
     "name": "stderr",
     "output_type": "stream",
     "text": [
      "2023-08-31 07:15:09.679119: W tensorflow/tsl/framework/cpu_allocator_impl.cc:83] Allocation of 368181248 exceeds 10% of free system memory.\n"
     ]
    },
    {
     "name": "stdout",
     "output_type": "stream",
     "text": [
      "Epoch 1/50\n",
      "78/78 [==============================] - 313s 4s/step - loss: 1.2597 - accuracy: 0.6574 - val_loss: 0.8172 - val_accuracy: 0.7412\n",
      "Epoch 2/50\n",
      "78/78 [==============================] - 313s 4s/step - loss: 1.0100 - accuracy: 0.7226 - val_loss: 0.8504 - val_accuracy: 0.7283\n",
      "Epoch 3/50\n",
      "78/78 [==============================] - 319s 4s/step - loss: 1.0612 - accuracy: 0.7367 - val_loss: 0.5422 - val_accuracy: 0.7653\n",
      "Epoch 4/50\n",
      "78/78 [==============================] - 266s 3s/step - loss: 0.9714 - accuracy: 0.7343 - val_loss: 0.9316 - val_accuracy: 0.6318\n",
      "Epoch 5/50\n",
      "78/78 [==============================] - 256s 3s/step - loss: 0.7451 - accuracy: 0.6969 - val_loss: 0.9040 - val_accuracy: 0.6270\n",
      "Epoch 6/50\n",
      "78/78 [==============================] - 251s 3s/step - loss: 0.9414 - accuracy: 0.6514 - val_loss: 0.9047 - val_accuracy: 0.6318\n",
      "Epoch 7/50\n",
      "78/78 [==============================] - 244s 3s/step - loss: 0.8857 - accuracy: 0.6417 - val_loss: 0.9009 - val_accuracy: 0.6302\n",
      "Epoch 8/50\n",
      "78/78 [==============================] - 244s 3s/step - loss: 0.8776 - accuracy: 0.6413 - val_loss: 0.8760 - val_accuracy: 0.6383\n"
     ]
    },
    {
     "data": {
      "text/plain": [
       "<keras.src.callbacks.History at 0x7fcc63f3e990>"
      ]
     },
     "execution_count": 11,
     "metadata": {},
     "output_type": "execute_result"
    }
   ],
   "source": [
    "model = create_model(\n",
    "    image_size=(224, 224, 3), \n",
    "    kernel_size=(5, 5), \n",
    "    filters=64, \n",
    "    hidden_units=256, \n",
    "    output_size=3\n",
    ")\n",
    "\n",
    "\n",
    "X_train_pp_224 = np.stack(X_train_pp.values)\n",
    "\n",
    "model.fit(X_train_pp_224, y_train_3, epochs=50, batch_size=32, validation_split=0.2, callbacks=[early_stopping])"
   ]
  },
  {
   "cell_type": "code",
   "execution_count": 12,
   "metadata": {},
   "outputs": [
    {
     "name": "stdout",
     "output_type": "stream",
     "text": [
      "Epoch 1/50\n",
      "78/78 [==============================] - 64s 811ms/step - loss: 0.7421 - accuracy: 0.7089 - val_loss: 0.4951 - val_accuracy: 0.7685\n",
      "Epoch 2/50\n",
      "78/78 [==============================] - 63s 804ms/step - loss: 0.4215 - accuracy: 0.7999 - val_loss: 0.3682 - val_accuracy: 0.8135\n",
      "Epoch 3/50\n",
      "78/78 [==============================] - 63s 806ms/step - loss: 0.3144 - accuracy: 0.8571 - val_loss: 0.2959 - val_accuracy: 0.8714\n",
      "Epoch 4/50\n",
      "78/78 [==============================] - 63s 805ms/step - loss: 0.2426 - accuracy: 0.8925 - val_loss: 0.2274 - val_accuracy: 0.9019\n",
      "Epoch 5/50\n",
      "78/78 [==============================] - 63s 804ms/step - loss: 0.2495 - accuracy: 0.8957 - val_loss: 0.2508 - val_accuracy: 0.9068\n",
      "Epoch 6/50\n",
      "78/78 [==============================] - 63s 805ms/step - loss: 0.1763 - accuracy: 0.9312 - val_loss: 0.2541 - val_accuracy: 0.9003\n",
      "Epoch 7/50\n",
      "78/78 [==============================] - 63s 806ms/step - loss: 0.1410 - accuracy: 0.9497 - val_loss: 0.1892 - val_accuracy: 0.9148\n",
      "Epoch 8/50\n",
      "78/78 [==============================] - 63s 807ms/step - loss: 0.1154 - accuracy: 0.9585 - val_loss: 0.1976 - val_accuracy: 0.9373\n",
      "Epoch 9/50\n",
      "78/78 [==============================] - 63s 805ms/step - loss: 0.1165 - accuracy: 0.9581 - val_loss: 0.1650 - val_accuracy: 0.9550\n",
      "Epoch 10/50\n",
      "78/78 [==============================] - 63s 805ms/step - loss: 0.0721 - accuracy: 0.9775 - val_loss: 0.1231 - val_accuracy: 0.9486\n",
      "Epoch 11/50\n",
      "78/78 [==============================] - 63s 805ms/step - loss: 0.0755 - accuracy: 0.9738 - val_loss: 0.1558 - val_accuracy: 0.9389\n",
      "Epoch 12/50\n",
      "78/78 [==============================] - 63s 806ms/step - loss: 0.0773 - accuracy: 0.9730 - val_loss: 0.1355 - val_accuracy: 0.9453\n",
      "Epoch 13/50\n",
      "78/78 [==============================] - 63s 806ms/step - loss: 0.0505 - accuracy: 0.9823 - val_loss: 0.1823 - val_accuracy: 0.9437\n",
      "Epoch 14/50\n",
      "78/78 [==============================] - 63s 808ms/step - loss: 0.0483 - accuracy: 0.9795 - val_loss: 0.1207 - val_accuracy: 0.9437\n",
      "Epoch 15/50\n",
      "78/78 [==============================] - 63s 806ms/step - loss: 0.0335 - accuracy: 0.9919 - val_loss: 0.1257 - val_accuracy: 0.9550\n",
      "Epoch 16/50\n",
      "78/78 [==============================] - 64s 827ms/step - loss: 0.0169 - accuracy: 0.9944 - val_loss: 0.1403 - val_accuracy: 0.9598\n",
      "Epoch 17/50\n",
      "78/78 [==============================] - 67s 861ms/step - loss: 0.0191 - accuracy: 0.9936 - val_loss: 0.1818 - val_accuracy: 0.9486\n",
      "Epoch 18/50\n",
      "78/78 [==============================] - 67s 857ms/step - loss: 0.0161 - accuracy: 0.9948 - val_loss: 0.1269 - val_accuracy: 0.9614\n",
      "Epoch 19/50\n",
      "78/78 [==============================] - 67s 857ms/step - loss: 0.0191 - accuracy: 0.9924 - val_loss: 0.1761 - val_accuracy: 0.9566\n"
     ]
    },
    {
     "data": {
      "text/plain": [
       "<keras.src.callbacks.History at 0x7fcc63fa6990>"
      ]
     },
     "execution_count": 12,
     "metadata": {},
     "output_type": "execute_result"
    }
   ],
   "source": [
    "from tensorflow.keras.layers import Dropout\n",
    "\n",
    "model = Sequential([\n",
    "    Conv2D(32, (3, 3), activation='relu', input_shape=(224, 224, 3)),\n",
    "    MaxPooling2D((2, 2)),\n",
    "    Conv2D(64, (3, 3), activation='relu'),\n",
    "    MaxPooling2D((2, 2)),\n",
    "    Conv2D(128, (3, 3), activation='relu'),\n",
    "    MaxPooling2D((2, 2)),\n",
    "    Flatten(),\n",
    "    Dense(128, activation='relu'),\n",
    "    Dropout(0.2),\n",
    "    Dense(3, activation='softmax')\n",
    "])\n",
    "\n",
    "model.compile(optimizer='adam', loss='categorical_crossentropy', metrics=['accuracy'])\n",
    "model.fit(X_train_pp_224, y_train_3, epochs=50, batch_size=32, validation_split=0.2, callbacks=[early_stopping])"
   ]
  },
  {
   "cell_type": "code",
   "execution_count": 29,
   "metadata": {},
   "outputs": [
    {
     "name": "stdout",
     "output_type": "stream",
     "text": [
      "Epoch 1/50\n",
      "78/78 [==============================] - 2s 15ms/step - loss: 0.7358 - accuracy: 0.6844 - val_loss: 0.6248 - val_accuracy: 0.7460\n",
      "Epoch 2/50\n",
      "78/78 [==============================] - 1s 16ms/step - loss: 0.5390 - accuracy: 0.7436 - val_loss: 0.5273 - val_accuracy: 0.7460\n",
      "Epoch 3/50\n",
      "78/78 [==============================] - 1s 14ms/step - loss: 0.4929 - accuracy: 0.7641 - val_loss: 0.5447 - val_accuracy: 0.7444\n",
      "Epoch 4/50\n",
      "78/78 [==============================] - 1s 13ms/step - loss: 0.4539 - accuracy: 0.7705 - val_loss: 0.5234 - val_accuracy: 0.7540\n",
      "Epoch 5/50\n",
      "78/78 [==============================] - 1s 14ms/step - loss: 0.4309 - accuracy: 0.7862 - val_loss: 0.4237 - val_accuracy: 0.7717\n",
      "Epoch 6/50\n",
      "78/78 [==============================] - 1s 14ms/step - loss: 0.3904 - accuracy: 0.8104 - val_loss: 0.4282 - val_accuracy: 0.7685\n",
      "Epoch 7/50\n",
      "78/78 [==============================] - 1s 14ms/step - loss: 0.3604 - accuracy: 0.8237 - val_loss: 0.3667 - val_accuracy: 0.8167\n",
      "Epoch 8/50\n",
      "78/78 [==============================] - 1s 16ms/step - loss: 0.3373 - accuracy: 0.8374 - val_loss: 0.3271 - val_accuracy: 0.8264\n",
      "Epoch 9/50\n",
      "78/78 [==============================] - 1s 13ms/step - loss: 0.2832 - accuracy: 0.8676 - val_loss: 0.3262 - val_accuracy: 0.8312\n",
      "Epoch 10/50\n",
      "78/78 [==============================] - 1s 13ms/step - loss: 0.2503 - accuracy: 0.8877 - val_loss: 0.2939 - val_accuracy: 0.8505\n",
      "Epoch 11/50\n",
      "78/78 [==============================] - 1s 12ms/step - loss: 0.2305 - accuracy: 0.9030 - val_loss: 0.2633 - val_accuracy: 0.8650\n",
      "Epoch 12/50\n",
      "78/78 [==============================] - 1s 14ms/step - loss: 0.1985 - accuracy: 0.9155 - val_loss: 0.2505 - val_accuracy: 0.8907\n",
      "Epoch 13/50\n",
      "78/78 [==============================] - 1s 13ms/step - loss: 0.1819 - accuracy: 0.9251 - val_loss: 0.2456 - val_accuracy: 0.8875\n",
      "Epoch 14/50\n",
      "78/78 [==============================] - 1s 13ms/step - loss: 0.1688 - accuracy: 0.9304 - val_loss: 0.2369 - val_accuracy: 0.8842\n",
      "Epoch 15/50\n",
      "78/78 [==============================] - 1s 13ms/step - loss: 0.1670 - accuracy: 0.9283 - val_loss: 0.2250 - val_accuracy: 0.8971\n",
      "Epoch 16/50\n",
      "78/78 [==============================] - 1s 13ms/step - loss: 0.1516 - accuracy: 0.9396 - val_loss: 0.1952 - val_accuracy: 0.9309\n",
      "Epoch 17/50\n",
      "78/78 [==============================] - 1s 13ms/step - loss: 0.1155 - accuracy: 0.9521 - val_loss: 0.1762 - val_accuracy: 0.9309\n",
      "Epoch 18/50\n",
      "78/78 [==============================] - 1s 12ms/step - loss: 0.1031 - accuracy: 0.9614 - val_loss: 0.1666 - val_accuracy: 0.9325\n",
      "Epoch 19/50\n",
      "78/78 [==============================] - 1s 13ms/step - loss: 0.0899 - accuracy: 0.9674 - val_loss: 0.1768 - val_accuracy: 0.9293\n",
      "Epoch 20/50\n",
      "78/78 [==============================] - 1s 12ms/step - loss: 0.0823 - accuracy: 0.9706 - val_loss: 0.1799 - val_accuracy: 0.9325\n",
      "Epoch 21/50\n",
      "78/78 [==============================] - 1s 13ms/step - loss: 0.0706 - accuracy: 0.9787 - val_loss: 0.1618 - val_accuracy: 0.9389\n",
      "Epoch 22/50\n",
      "78/78 [==============================] - 1s 14ms/step - loss: 0.0562 - accuracy: 0.9823 - val_loss: 0.1705 - val_accuracy: 0.9325\n",
      "Epoch 23/50\n",
      "78/78 [==============================] - 1s 13ms/step - loss: 0.0659 - accuracy: 0.9767 - val_loss: 0.1467 - val_accuracy: 0.9502\n",
      "Epoch 24/50\n",
      "78/78 [==============================] - 1s 16ms/step - loss: 0.0531 - accuracy: 0.9795 - val_loss: 0.1496 - val_accuracy: 0.9405\n",
      "Epoch 25/50\n",
      "78/78 [==============================] - 1s 15ms/step - loss: 0.0439 - accuracy: 0.9863 - val_loss: 0.1969 - val_accuracy: 0.9244\n",
      "Epoch 26/50\n",
      "78/78 [==============================] - 1s 13ms/step - loss: 0.0361 - accuracy: 0.9883 - val_loss: 0.1296 - val_accuracy: 0.9534\n",
      "Epoch 27/50\n",
      "78/78 [==============================] - 1s 13ms/step - loss: 0.0455 - accuracy: 0.9851 - val_loss: 0.2079 - val_accuracy: 0.9180\n",
      "Epoch 28/50\n",
      "78/78 [==============================] - 1s 13ms/step - loss: 0.0377 - accuracy: 0.9879 - val_loss: 0.2317 - val_accuracy: 0.9405\n",
      "Epoch 29/50\n",
      "78/78 [==============================] - 1s 13ms/step - loss: 0.0312 - accuracy: 0.9887 - val_loss: 0.1580 - val_accuracy: 0.9518\n",
      "Epoch 30/50\n",
      "78/78 [==============================] - 1s 13ms/step - loss: 0.0295 - accuracy: 0.9907 - val_loss: 0.1530 - val_accuracy: 0.9534\n",
      "Epoch 31/50\n",
      "78/78 [==============================] - 1s 13ms/step - loss: 0.0266 - accuracy: 0.9924 - val_loss: 0.1541 - val_accuracy: 0.9373\n"
     ]
    },
    {
     "data": {
      "text/plain": [
       "<keras.src.callbacks.History at 0x7f5c819f7790>"
      ]
     },
     "execution_count": 29,
     "metadata": {},
     "output_type": "execute_result"
    }
   ],
   "source": [
    "model = Sequential([\n",
    "    Conv2D(32, (3, 3), activation='relu', input_shape=(32, 32, 3)),\n",
    "    MaxPooling2D((2, 2)),\n",
    "    Conv2D(64, (3, 3), activation='relu'),\n",
    "    MaxPooling2D((2, 2)),\n",
    "    Flatten(),\n",
    "    Dense(128, activation='relu'),\n",
    "    Dropout(0.3),\n",
    "    Dense(3, activation='softmax')\n",
    "])\n",
    "\n",
    "model.compile(optimizer='adam', loss='categorical_crossentropy', metrics=['accuracy'])\n",
    "model.fit(X_train_pp_32, y_train_3, epochs=50, batch_size=32, validation_split=0.2, callbacks=[early_stopping])"
   ]
  },
  {
   "cell_type": "code",
   "execution_count": 30,
   "metadata": {},
   "outputs": [
    {
     "name": "stdout",
     "output_type": "stream",
     "text": [
      "Epoch 1/50\n",
      "78/78 [==============================] - 2s 15ms/step - loss: 0.8167 - accuracy: 0.6453 - val_loss: 0.6200 - val_accuracy: 0.7074\n",
      "Epoch 2/50\n",
      "78/78 [==============================] - 1s 14ms/step - loss: 0.5561 - accuracy: 0.7315 - val_loss: 0.5006 - val_accuracy: 0.7460\n",
      "Epoch 3/50\n",
      "78/78 [==============================] - 1s 12ms/step - loss: 0.4728 - accuracy: 0.7597 - val_loss: 0.4709 - val_accuracy: 0.7524\n",
      "Epoch 4/50\n",
      "78/78 [==============================] - 1s 13ms/step - loss: 0.4257 - accuracy: 0.7979 - val_loss: 0.3977 - val_accuracy: 0.7926\n",
      "Epoch 5/50\n",
      "78/78 [==============================] - 1s 13ms/step - loss: 0.3779 - accuracy: 0.8213 - val_loss: 0.3493 - val_accuracy: 0.8215\n",
      "Epoch 6/50\n",
      "78/78 [==============================] - 1s 12ms/step - loss: 0.3236 - accuracy: 0.8543 - val_loss: 0.4422 - val_accuracy: 0.7797\n",
      "Epoch 7/50\n",
      "78/78 [==============================] - 1s 12ms/step - loss: 0.2829 - accuracy: 0.8752 - val_loss: 0.2939 - val_accuracy: 0.8633\n",
      "Epoch 8/50\n",
      "78/78 [==============================] - 1s 13ms/step - loss: 0.2492 - accuracy: 0.8869 - val_loss: 0.3170 - val_accuracy: 0.8537\n",
      "Epoch 9/50\n",
      "78/78 [==============================] - 1s 13ms/step - loss: 0.2144 - accuracy: 0.9074 - val_loss: 0.2278 - val_accuracy: 0.9035\n",
      "Epoch 10/50\n",
      "78/78 [==============================] - 1s 12ms/step - loss: 0.1462 - accuracy: 0.9436 - val_loss: 0.2646 - val_accuracy: 0.8907\n",
      "Epoch 11/50\n",
      "78/78 [==============================] - 1s 12ms/step - loss: 0.1383 - accuracy: 0.9465 - val_loss: 0.2083 - val_accuracy: 0.9019\n",
      "Epoch 12/50\n",
      "78/78 [==============================] - 1s 13ms/step - loss: 0.0993 - accuracy: 0.9662 - val_loss: 0.1907 - val_accuracy: 0.9212\n",
      "Epoch 13/50\n",
      "78/78 [==============================] - 1s 13ms/step - loss: 0.0901 - accuracy: 0.9682 - val_loss: 0.1450 - val_accuracy: 0.9469\n",
      "Epoch 14/50\n",
      "78/78 [==============================] - 1s 13ms/step - loss: 0.0539 - accuracy: 0.9847 - val_loss: 0.1447 - val_accuracy: 0.9550\n",
      "Epoch 15/50\n",
      "78/78 [==============================] - 1s 12ms/step - loss: 0.0504 - accuracy: 0.9835 - val_loss: 0.1687 - val_accuracy: 0.9341\n",
      "Epoch 16/50\n",
      "78/78 [==============================] - 1s 13ms/step - loss: 0.0426 - accuracy: 0.9859 - val_loss: 0.1442 - val_accuracy: 0.9421\n",
      "Epoch 17/50\n",
      "78/78 [==============================] - 1s 12ms/step - loss: 0.0537 - accuracy: 0.9807 - val_loss: 0.1752 - val_accuracy: 0.9405\n",
      "Epoch 18/50\n",
      "78/78 [==============================] - 1s 13ms/step - loss: 0.0380 - accuracy: 0.9879 - val_loss: 0.1100 - val_accuracy: 0.9566\n",
      "Epoch 19/50\n",
      "78/78 [==============================] - 1s 12ms/step - loss: 0.0266 - accuracy: 0.9932 - val_loss: 0.1863 - val_accuracy: 0.9373\n",
      "Epoch 20/50\n",
      "78/78 [==============================] - 1s 12ms/step - loss: 0.0434 - accuracy: 0.9847 - val_loss: 0.1373 - val_accuracy: 0.9662\n",
      "Epoch 21/50\n",
      "78/78 [==============================] - 1s 13ms/step - loss: 0.0338 - accuracy: 0.9883 - val_loss: 0.1635 - val_accuracy: 0.9405\n",
      "Epoch 22/50\n",
      "78/78 [==============================] - 1s 12ms/step - loss: 0.0225 - accuracy: 0.9936 - val_loss: 0.1487 - val_accuracy: 0.9453\n",
      "Epoch 23/50\n",
      "78/78 [==============================] - 1s 12ms/step - loss: 0.0187 - accuracy: 0.9948 - val_loss: 0.1167 - val_accuracy: 0.9630\n"
     ]
    },
    {
     "data": {
      "text/plain": [
       "<keras.src.callbacks.History at 0x7f5c8156f790>"
      ]
     },
     "execution_count": 30,
     "metadata": {},
     "output_type": "execute_result"
    }
   ],
   "source": [
    "model = Sequential([\n",
    "    Conv2D(32, (3, 3), activation='relu', input_shape=(32, 32, 3)),\n",
    "    MaxPooling2D((2, 2)),\n",
    "    Conv2D(64, (3, 3), activation='relu'),\n",
    "    MaxPooling2D((2, 2)),\n",
    "    Conv2D(128, (3, 3), activation='relu'),\n",
    "    MaxPooling2D((2, 2)),\n",
    "    Flatten(),\n",
    "    Dense(128, activation='relu'),\n",
    "    Dropout(0.2),\n",
    "    Dense(3, activation='softmax')\n",
    "])\n",
    "\n",
    "model.compile(optimizer='adam', loss='categorical_crossentropy', metrics=['accuracy'])\n",
    "model.fit(X_train_pp_32, y_train_3, epochs=50, batch_size=32, validation_split=0.2, callbacks=[early_stopping])"
   ]
  },
  {
   "cell_type": "code",
   "execution_count": 43,
   "metadata": {},
   "outputs": [
    {
     "data": {
      "text/plain": [
       "number  alphabet  free_pattern\n",
       "False   True      False           1965\n",
       "True    False     False            750\n",
       "False   False     True             391\n",
       "Name: count, dtype: int64"
      ]
     },
     "execution_count": 43,
     "metadata": {},
     "output_type": "execute_result"
    }
   ],
   "source": [
    "y_train_3.value_counts()"
   ]
  },
  {
   "cell_type": "code",
   "execution_count": 52,
   "metadata": {},
   "outputs": [
    {
     "name": "stdout",
     "output_type": "stream",
     "text": [
      "Epoch 1/50\n",
      "78/78 [==============================] - 2s 15ms/step - loss: 0.0180 - accuracy: 0.9815 - val_loss: 0.2061 - val_accuracy: 0.9357\n",
      "Epoch 2/50\n",
      "78/78 [==============================] - 1s 14ms/step - loss: 0.0111 - accuracy: 0.9867 - val_loss: 0.2110 - val_accuracy: 0.9212\n",
      "Epoch 3/50\n",
      "78/78 [==============================] - 1s 14ms/step - loss: 0.0143 - accuracy: 0.9847 - val_loss: 0.1202 - val_accuracy: 0.9550\n",
      "Epoch 4/50\n",
      "78/78 [==============================] - 1s 14ms/step - loss: 0.0059 - accuracy: 0.9944 - val_loss: 0.2856 - val_accuracy: 0.9164\n",
      "Epoch 5/50\n",
      "78/78 [==============================] - 1s 13ms/step - loss: 0.0096 - accuracy: 0.9903 - val_loss: 0.1374 - val_accuracy: 0.9502\n",
      "Epoch 6/50\n",
      "78/78 [==============================] - 1s 14ms/step - loss: 0.0106 - accuracy: 0.9887 - val_loss: 0.2151 - val_accuracy: 0.9341\n",
      "Epoch 7/50\n",
      "78/78 [==============================] - 1s 15ms/step - loss: 0.0072 - accuracy: 0.9932 - val_loss: 0.2371 - val_accuracy: 0.9357\n",
      "Epoch 8/50\n",
      "78/78 [==============================] - 1s 14ms/step - loss: 0.0129 - accuracy: 0.9859 - val_loss: 0.1155 - val_accuracy: 0.9486\n",
      "Epoch 9/50\n",
      "78/78 [==============================] - 1s 13ms/step - loss: 0.0097 - accuracy: 0.9903 - val_loss: 0.1596 - val_accuracy: 0.9437\n",
      "Epoch 10/50\n",
      "78/78 [==============================] - 1s 13ms/step - loss: 0.0129 - accuracy: 0.9859 - val_loss: 0.1838 - val_accuracy: 0.9357\n",
      "Epoch 11/50\n",
      "78/78 [==============================] - 1s 13ms/step - loss: 0.0094 - accuracy: 0.9903 - val_loss: 0.1656 - val_accuracy: 0.9550\n",
      "Epoch 12/50\n",
      "78/78 [==============================] - 1s 15ms/step - loss: 0.0064 - accuracy: 0.9948 - val_loss: 0.1751 - val_accuracy: 0.9421\n",
      "Epoch 13/50\n",
      "78/78 [==============================] - 1s 14ms/step - loss: 0.0070 - accuracy: 0.9932 - val_loss: 0.1823 - val_accuracy: 0.9469\n"
     ]
    },
    {
     "data": {
      "text/plain": [
       "<keras.src.callbacks.History at 0x7f5cca3c85d0>"
      ]
     },
     "execution_count": 52,
     "metadata": {},
     "output_type": "execute_result"
    }
   ],
   "source": [
    "frequency = y_train_3.value_counts()\n",
    "total = sum(frequency)\n",
    "class_weights = {i: count / total for i, count in enumerate(frequency)}\n",
    "\n",
    "model.compile(optimizer='adam', loss='categorical_crossentropy', metrics=['accuracy'])\n",
    "\n",
    "model.fit(X_train_pp_32, y_train_3, epochs=50, batch_size=32, validation_split=0.2, callbacks=[early_stopping], class_weight=class_weights)"
   ]
  },
  {
   "cell_type": "code",
   "execution_count": 10,
   "metadata": {},
   "outputs": [
    {
     "name": "stdout",
     "output_type": "stream",
     "text": [
      "Epoch 1/50\n",
      "99/99 [==============================] - 3s 16ms/step - loss: 0.7314 - accuracy: 0.6718 - val_loss: 0.5140 - val_accuracy: 0.7497\n",
      "Epoch 2/50\n",
      "99/99 [==============================] - 1s 14ms/step - loss: 0.5246 - accuracy: 0.7575 - val_loss: 0.4636 - val_accuracy: 0.7624\n",
      "Epoch 3/50\n",
      "99/99 [==============================] - 1s 13ms/step - loss: 0.4605 - accuracy: 0.7753 - val_loss: 0.4136 - val_accuracy: 0.7967\n",
      "Epoch 4/50\n",
      "99/99 [==============================] - 1s 12ms/step - loss: 0.4124 - accuracy: 0.7887 - val_loss: 0.4665 - val_accuracy: 0.7598\n",
      "Epoch 5/50\n",
      "99/99 [==============================] - 1s 13ms/step - loss: 0.3817 - accuracy: 0.8122 - val_loss: 0.3425 - val_accuracy: 0.8463\n",
      "Epoch 6/50\n",
      "99/99 [==============================] - 1s 12ms/step - loss: 0.3259 - accuracy: 0.8481 - val_loss: 0.3021 - val_accuracy: 0.8717\n",
      "Epoch 7/50\n",
      "99/99 [==============================] - 1s 13ms/step - loss: 0.2519 - accuracy: 0.8888 - val_loss: 0.2792 - val_accuracy: 0.8679\n",
      "Epoch 8/50\n",
      "99/99 [==============================] - 1s 12ms/step - loss: 0.2040 - accuracy: 0.9155 - val_loss: 0.2789 - val_accuracy: 0.8780\n",
      "Epoch 9/50\n",
      "99/99 [==============================] - 1s 12ms/step - loss: 0.1496 - accuracy: 0.9409 - val_loss: 0.1938 - val_accuracy: 0.9225\n",
      "Epoch 10/50\n",
      "99/99 [==============================] - 1s 13ms/step - loss: 0.1257 - accuracy: 0.9533 - val_loss: 0.1999 - val_accuracy: 0.9225\n",
      "Epoch 11/50\n",
      "99/99 [==============================] - 1s 12ms/step - loss: 0.1029 - accuracy: 0.9635 - val_loss: 0.1988 - val_accuracy: 0.9301\n",
      "Epoch 12/50\n",
      "99/99 [==============================] - 1s 13ms/step - loss: 0.0876 - accuracy: 0.9660 - val_loss: 0.1912 - val_accuracy: 0.9377\n",
      "Epoch 13/50\n",
      "99/99 [==============================] - 1s 13ms/step - loss: 0.0569 - accuracy: 0.9787 - val_loss: 0.1553 - val_accuracy: 0.9517\n",
      "Epoch 14/50\n",
      "99/99 [==============================] - 1s 12ms/step - loss: 0.0528 - accuracy: 0.9803 - val_loss: 0.1669 - val_accuracy: 0.9416\n",
      "Epoch 15/50\n",
      "99/99 [==============================] - 1s 13ms/step - loss: 0.0587 - accuracy: 0.9771 - val_loss: 0.1997 - val_accuracy: 0.9403\n",
      "Epoch 16/50\n",
      "99/99 [==============================] - 1s 12ms/step - loss: 0.0459 - accuracy: 0.9847 - val_loss: 0.1243 - val_accuracy: 0.9530\n",
      "Epoch 17/50\n",
      "99/99 [==============================] - 1s 12ms/step - loss: 0.0328 - accuracy: 0.9889 - val_loss: 0.1392 - val_accuracy: 0.9581\n",
      "Epoch 18/50\n",
      "99/99 [==============================] - 1s 13ms/step - loss: 0.0229 - accuracy: 0.9930 - val_loss: 0.1190 - val_accuracy: 0.9632\n",
      "Epoch 19/50\n",
      "99/99 [==============================] - 1s 13ms/step - loss: 0.0233 - accuracy: 0.9927 - val_loss: 0.1691 - val_accuracy: 0.9555\n",
      "Epoch 20/50\n",
      "99/99 [==============================] - 1s 13ms/step - loss: 0.0268 - accuracy: 0.9911 - val_loss: 0.2304 - val_accuracy: 0.9416\n",
      "Epoch 21/50\n",
      "99/99 [==============================] - 1s 12ms/step - loss: 0.0263 - accuracy: 0.9914 - val_loss: 0.1522 - val_accuracy: 0.9568\n",
      "Epoch 22/50\n",
      "99/99 [==============================] - 1s 13ms/step - loss: 0.0149 - accuracy: 0.9956 - val_loss: 0.1911 - val_accuracy: 0.9543\n",
      "Epoch 23/50\n",
      "99/99 [==============================] - 1s 13ms/step - loss: 0.0205 - accuracy: 0.9924 - val_loss: 0.1925 - val_accuracy: 0.9454\n"
     ]
    },
    {
     "data": {
      "text/plain": [
       "<keras.src.callbacks.History at 0x7fe5e86c9b10>"
      ]
     },
     "execution_count": 10,
     "metadata": {},
     "output_type": "execute_result"
    }
   ],
   "source": [
    "best_model = Sequential([\n",
    "    Conv2D(32, (3, 3), activation='relu', input_shape=(32, 32, 3)),\n",
    "    MaxPooling2D((2, 2)),\n",
    "    Conv2D(64, (3, 3), activation='relu'),\n",
    "    MaxPooling2D((2, 2)),\n",
    "    Conv2D(128, (3, 3), activation='relu'),\n",
    "    MaxPooling2D((2, 2)),\n",
    "    Flatten(),\n",
    "    Dense(128, activation='relu'),\n",
    "    Dropout(0.2),\n",
    "    Dense(3, activation='softmax')\n",
    "])\n",
    "\n",
    "best_model.compile(optimizer='adam', loss='categorical_crossentropy', metrics=['accuracy'])\n",
    "best_model.fit(X_train_pp_32, y_train_3, epochs=50, batch_size=32, validation_split=0.2, callbacks=[early_stopping])"
   ]
  },
  {
   "cell_type": "code",
   "execution_count": 11,
   "metadata": {},
   "outputs": [
    {
     "name": "stdout",
     "output_type": "stream",
     "text": [
      "7/7 [==============================] - 0s 4ms/step - loss: 0.0620 - accuracy: 0.9712\n"
     ]
    },
    {
     "data": {
      "text/plain": [
       "[0.062014140188694, 0.9711538553237915]"
      ]
     },
     "execution_count": 11,
     "metadata": {},
     "output_type": "execute_result"
    }
   ],
   "source": [
    "X_test_pp_32 = X_test_pp.apply(cv2.resize, dsize=(32, 32))\n",
    "X_test_pp_32 = np.stack(X_test_pp_32.values)\n",
    "\n",
    "best_model.evaluate(X_test_pp_32, y_test_3)"
   ]
  },
  {
   "cell_type": "code",
   "execution_count": 57,
   "metadata": {},
   "outputs": [],
   "source": [
    "best_model.save('models/best_category_model.keras')"
   ]
  },
  {
   "attachments": {},
   "cell_type": "markdown",
   "metadata": {},
   "source": [
    "## 숫자 모델"
   ]
  },
  {
   "cell_type": "code",
   "execution_count": 58,
   "metadata": {},
   "outputs": [
    {
     "data": {
      "text/plain": [
       "((750,), (750,), (750, 10))"
      ]
     },
     "execution_count": 58,
     "metadata": {},
     "output_type": "execute_result"
    }
   ],
   "source": [
    "# reduce X_train, X_train_pp, X_train_pp_br to cases where df['category'] == 'number'\n",
    "X_train_num = X_train[y_train['category'] == 'number']\n",
    "X_train_pp_num = X_train_pp[y_train['category'] == 'number']\n",
    "\n",
    "y_train_num = y_train[y_train['category'] == 'number']\n",
    "y_train_num = pd.get_dummies(y_train_num['target'])\n",
    "y_train_num = y_train_num[[str(i) for i in range(10)]]\n",
    "X_train_num.shape, X_train_pp_num.shape, y_train_num.shape"
   ]
  },
  {
   "cell_type": "code",
   "execution_count": 64,
   "metadata": {},
   "outputs": [
    {
     "name": "stdout",
     "output_type": "stream",
     "text": [
      "Epoch 1/50\n",
      "19/19 [==============================] - 1s 22ms/step - loss: 2.3255 - accuracy: 0.1033 - val_loss: 2.3168 - val_accuracy: 0.0733\n",
      "Epoch 2/50\n",
      "19/19 [==============================] - 0s 14ms/step - loss: 2.3072 - accuracy: 0.0750 - val_loss: 2.3083 - val_accuracy: 0.0400\n",
      "Epoch 3/50\n",
      "19/19 [==============================] - 0s 14ms/step - loss: 2.3010 - accuracy: 0.1117 - val_loss: 2.3069 - val_accuracy: 0.0867\n",
      "Epoch 4/50\n",
      "19/19 [==============================] - 0s 14ms/step - loss: 2.3013 - accuracy: 0.1100 - val_loss: 2.3066 - val_accuracy: 0.0600\n",
      "Epoch 5/50\n",
      "19/19 [==============================] - 0s 14ms/step - loss: 2.2989 - accuracy: 0.1183 - val_loss: 2.3086 - val_accuracy: 0.0400\n",
      "Epoch 6/50\n",
      "19/19 [==============================] - 0s 14ms/step - loss: 2.2951 - accuracy: 0.1250 - val_loss: 2.3089 - val_accuracy: 0.0867\n",
      "Epoch 7/50\n",
      "19/19 [==============================] - 0s 13ms/step - loss: 2.2773 - accuracy: 0.1433 - val_loss: 2.3187 - val_accuracy: 0.0533\n",
      "Epoch 8/50\n",
      "19/19 [==============================] - 0s 14ms/step - loss: 2.2620 - accuracy: 0.1617 - val_loss: 2.3182 - val_accuracy: 0.0867\n",
      "Epoch 9/50\n",
      "19/19 [==============================] - 0s 14ms/step - loss: 2.2337 - accuracy: 0.1533 - val_loss: 2.2591 - val_accuracy: 0.1600\n",
      "Epoch 10/50\n",
      "19/19 [==============================] - 0s 17ms/step - loss: 2.1834 - accuracy: 0.1800 - val_loss: 2.2248 - val_accuracy: 0.1467\n",
      "Epoch 11/50\n",
      "19/19 [==============================] - 0s 14ms/step - loss: 2.1143 - accuracy: 0.2067 - val_loss: 2.1785 - val_accuracy: 0.1400\n",
      "Epoch 12/50\n",
      "19/19 [==============================] - 0s 13ms/step - loss: 2.0889 - accuracy: 0.2267 - val_loss: 2.1939 - val_accuracy: 0.1667\n",
      "Epoch 13/50\n",
      "19/19 [==============================] - 0s 14ms/step - loss: 2.0429 - accuracy: 0.2350 - val_loss: 2.1503 - val_accuracy: 0.1533\n",
      "Epoch 14/50\n",
      "19/19 [==============================] - 0s 14ms/step - loss: 1.9330 - accuracy: 0.2800 - val_loss: 2.1107 - val_accuracy: 0.2400\n",
      "Epoch 15/50\n",
      "19/19 [==============================] - 0s 14ms/step - loss: 1.8460 - accuracy: 0.3183 - val_loss: 2.0185 - val_accuracy: 0.2400\n",
      "Epoch 16/50\n",
      "19/19 [==============================] - 0s 14ms/step - loss: 1.7815 - accuracy: 0.3450 - val_loss: 1.9981 - val_accuracy: 0.2533\n",
      "Epoch 17/50\n",
      "19/19 [==============================] - 0s 13ms/step - loss: 1.7463 - accuracy: 0.3600 - val_loss: 2.0136 - val_accuracy: 0.2067\n",
      "Epoch 18/50\n",
      "19/19 [==============================] - 0s 14ms/step - loss: 1.6178 - accuracy: 0.4150 - val_loss: 1.9457 - val_accuracy: 0.2667\n",
      "Epoch 19/50\n",
      "19/19 [==============================] - 0s 14ms/step - loss: 1.5468 - accuracy: 0.4250 - val_loss: 1.9212 - val_accuracy: 0.3200\n",
      "Epoch 20/50\n",
      "19/19 [==============================] - 0s 17ms/step - loss: 1.4613 - accuracy: 0.4600 - val_loss: 1.8786 - val_accuracy: 0.3333\n",
      "Epoch 21/50\n",
      "19/19 [==============================] - 0s 15ms/step - loss: 1.3601 - accuracy: 0.4983 - val_loss: 1.9171 - val_accuracy: 0.2933\n",
      "Epoch 22/50\n",
      "19/19 [==============================] - 0s 16ms/step - loss: 1.2279 - accuracy: 0.5450 - val_loss: 1.8210 - val_accuracy: 0.3733\n",
      "Epoch 23/50\n",
      "19/19 [==============================] - 0s 15ms/step - loss: 1.1976 - accuracy: 0.5550 - val_loss: 1.8701 - val_accuracy: 0.3000\n",
      "Epoch 24/50\n",
      "19/19 [==============================] - 0s 15ms/step - loss: 1.0726 - accuracy: 0.5883 - val_loss: 1.8618 - val_accuracy: 0.3733\n",
      "Epoch 25/50\n",
      "19/19 [==============================] - 0s 17ms/step - loss: 1.0502 - accuracy: 0.6050 - val_loss: 1.7191 - val_accuracy: 0.3800\n",
      "Epoch 26/50\n",
      "19/19 [==============================] - 0s 18ms/step - loss: 0.9602 - accuracy: 0.6533 - val_loss: 1.9360 - val_accuracy: 0.3267\n",
      "Epoch 27/50\n",
      "19/19 [==============================] - 0s 20ms/step - loss: 0.8988 - accuracy: 0.6650 - val_loss: 1.9815 - val_accuracy: 0.3133\n",
      "Epoch 28/50\n",
      "19/19 [==============================] - 0s 15ms/step - loss: 0.8066 - accuracy: 0.7167 - val_loss: 1.8484 - val_accuracy: 0.3667\n",
      "Epoch 29/50\n",
      "19/19 [==============================] - 0s 15ms/step - loss: 0.7363 - accuracy: 0.7383 - val_loss: 2.0406 - val_accuracy: 0.3667\n",
      "Epoch 30/50\n",
      "19/19 [==============================] - 0s 14ms/step - loss: 0.7313 - accuracy: 0.7233 - val_loss: 2.0165 - val_accuracy: 0.3467\n"
     ]
    },
    {
     "data": {
      "text/plain": [
       "<keras.src.callbacks.History at 0x7f5c9172cd10>"
      ]
     },
     "execution_count": 64,
     "metadata": {},
     "output_type": "execute_result"
    }
   ],
   "source": [
    "model = Sequential([\n",
    "    Conv2D(32, (3, 3), activation='relu', input_shape=(32, 32, 3)),\n",
    "    MaxPooling2D((2, 2)),\n",
    "    Conv2D(64, (3, 3), activation='relu'),\n",
    "    MaxPooling2D((2, 2)),\n",
    "    Conv2D(128, (3, 3), activation='relu'),\n",
    "    MaxPooling2D((2, 2)),\n",
    "    Flatten(),\n",
    "    Dense(128, activation='relu'),\n",
    "    Dropout(0.2),\n",
    "    Dense(10, activation='softmax')\n",
    "])\n",
    "\n",
    "X_train_num_32 = X_train_num.apply(lambda x: s_preprocess_img(x, img_size=(32, 32)))\n",
    "X_train_num_32 = np.stack(X_train_num_32.values)\n",
    "\n",
    "model.compile(optimizer='adam', loss='categorical_crossentropy', metrics=['accuracy'])\n",
    "model.fit(X_train_num_32, y_train_num, epochs=50, batch_size=32, validation_split=0.2, callbacks=[early_stopping])"
   ]
  },
  {
   "cell_type": "code",
   "execution_count": 65,
   "metadata": {},
   "outputs": [
    {
     "name": "stdout",
     "output_type": "stream",
     "text": [
      "Epoch 1/50\n",
      "19/19 [==============================] - 0s 19ms/step - loss: 2.2128 - accuracy: 0.1500 - val_loss: 2.0073 - val_accuracy: 0.2467\n",
      "Epoch 2/50\n",
      "19/19 [==============================] - 0s 13ms/step - loss: 1.9467 - accuracy: 0.2117 - val_loss: 1.8996 - val_accuracy: 0.1867\n",
      "Epoch 3/50\n",
      "19/19 [==============================] - 0s 14ms/step - loss: 1.8419 - accuracy: 0.2750 - val_loss: 1.8522 - val_accuracy: 0.2867\n",
      "Epoch 4/50\n",
      "19/19 [==============================] - 0s 14ms/step - loss: 1.8252 - accuracy: 0.2833 - val_loss: 1.8167 - val_accuracy: 0.2667\n",
      "Epoch 5/50\n",
      "19/19 [==============================] - 0s 13ms/step - loss: 1.6980 - accuracy: 0.3433 - val_loss: 1.7607 - val_accuracy: 0.3200\n",
      "Epoch 6/50\n",
      "19/19 [==============================] - 0s 14ms/step - loss: 1.6486 - accuracy: 0.3600 - val_loss: 1.7394 - val_accuracy: 0.3533\n",
      "Epoch 7/50\n",
      "19/19 [==============================] - 0s 14ms/step - loss: 1.5712 - accuracy: 0.4217 - val_loss: 1.6813 - val_accuracy: 0.3333\n",
      "Epoch 8/50\n",
      "19/19 [==============================] - 0s 14ms/step - loss: 1.4528 - accuracy: 0.4933 - val_loss: 1.6151 - val_accuracy: 0.3600\n",
      "Epoch 9/50\n",
      "19/19 [==============================] - 0s 17ms/step - loss: 1.4010 - accuracy: 0.4650 - val_loss: 1.7420 - val_accuracy: 0.3400\n",
      "Epoch 10/50\n",
      "19/19 [==============================] - 0s 15ms/step - loss: 1.2705 - accuracy: 0.5733 - val_loss: 1.5801 - val_accuracy: 0.4267\n",
      "Epoch 11/50\n",
      "19/19 [==============================] - 0s 14ms/step - loss: 1.2712 - accuracy: 0.5367 - val_loss: 1.6705 - val_accuracy: 0.3733\n",
      "Epoch 12/50\n",
      "19/19 [==============================] - 0s 14ms/step - loss: 1.2046 - accuracy: 0.5717 - val_loss: 1.5839 - val_accuracy: 0.4133\n",
      "Epoch 13/50\n",
      "19/19 [==============================] - 0s 14ms/step - loss: 1.0275 - accuracy: 0.6583 - val_loss: 1.3942 - val_accuracy: 0.4600\n",
      "Epoch 14/50\n",
      "19/19 [==============================] - 0s 14ms/step - loss: 0.9657 - accuracy: 0.6533 - val_loss: 1.4322 - val_accuracy: 0.4867\n",
      "Epoch 15/50\n",
      "19/19 [==============================] - 0s 14ms/step - loss: 0.8379 - accuracy: 0.7167 - val_loss: 1.5018 - val_accuracy: 0.4667\n",
      "Epoch 16/50\n",
      "19/19 [==============================] - 0s 16ms/step - loss: 0.8076 - accuracy: 0.7133 - val_loss: 1.3362 - val_accuracy: 0.5200\n",
      "Epoch 17/50\n",
      "19/19 [==============================] - 0s 14ms/step - loss: 0.6777 - accuracy: 0.7967 - val_loss: 1.3421 - val_accuracy: 0.5200\n",
      "Epoch 18/50\n",
      "19/19 [==============================] - 0s 14ms/step - loss: 0.6059 - accuracy: 0.8150 - val_loss: 1.2419 - val_accuracy: 0.5467\n",
      "Epoch 19/50\n",
      "19/19 [==============================] - 0s 14ms/step - loss: 0.4694 - accuracy: 0.8650 - val_loss: 1.2222 - val_accuracy: 0.5800\n",
      "Epoch 20/50\n",
      "19/19 [==============================] - 0s 14ms/step - loss: 0.4696 - accuracy: 0.8500 - val_loss: 1.1567 - val_accuracy: 0.6267\n",
      "Epoch 21/50\n",
      "19/19 [==============================] - 0s 14ms/step - loss: 0.3370 - accuracy: 0.9117 - val_loss: 0.9956 - val_accuracy: 0.6933\n",
      "Epoch 22/50\n",
      "19/19 [==============================] - 0s 14ms/step - loss: 0.2687 - accuracy: 0.9350 - val_loss: 0.9490 - val_accuracy: 0.6867\n",
      "Epoch 23/50\n",
      "19/19 [==============================] - 0s 14ms/step - loss: 0.1906 - accuracy: 0.9617 - val_loss: 0.9244 - val_accuracy: 0.7333\n",
      "Epoch 24/50\n",
      "19/19 [==============================] - 0s 14ms/step - loss: 0.1342 - accuracy: 0.9817 - val_loss: 0.8459 - val_accuracy: 0.7400\n",
      "Epoch 25/50\n",
      "19/19 [==============================] - 0s 14ms/step - loss: 0.1268 - accuracy: 0.9800 - val_loss: 0.7924 - val_accuracy: 0.7600\n",
      "Epoch 26/50\n",
      "19/19 [==============================] - 0s 16ms/step - loss: 0.0893 - accuracy: 0.9900 - val_loss: 0.6992 - val_accuracy: 0.8133\n",
      "Epoch 27/50\n",
      "19/19 [==============================] - 0s 14ms/step - loss: 0.0696 - accuracy: 0.9900 - val_loss: 0.6812 - val_accuracy: 0.8067\n",
      "Epoch 28/50\n",
      "19/19 [==============================] - 0s 14ms/step - loss: 0.0568 - accuracy: 0.9950 - val_loss: 0.6217 - val_accuracy: 0.8333\n",
      "Epoch 29/50\n",
      "19/19 [==============================] - 0s 14ms/step - loss: 0.0554 - accuracy: 0.9883 - val_loss: 0.5560 - val_accuracy: 0.8467\n",
      "Epoch 30/50\n",
      "19/19 [==============================] - 0s 14ms/step - loss: 0.0357 - accuracy: 0.9983 - val_loss: 0.5587 - val_accuracy: 0.8400\n",
      "Epoch 31/50\n",
      "19/19 [==============================] - 0s 13ms/step - loss: 0.0325 - accuracy: 0.9983 - val_loss: 0.6247 - val_accuracy: 0.8200\n",
      "Epoch 32/50\n",
      "19/19 [==============================] - 0s 15ms/step - loss: 0.0218 - accuracy: 1.0000 - val_loss: 0.6087 - val_accuracy: 0.8400\n",
      "Epoch 33/50\n",
      "19/19 [==============================] - 0s 14ms/step - loss: 0.0198 - accuracy: 1.0000 - val_loss: 0.5826 - val_accuracy: 0.8400\n",
      "Epoch 34/50\n",
      "19/19 [==============================] - 0s 14ms/step - loss: 0.0171 - accuracy: 1.0000 - val_loss: 0.5995 - val_accuracy: 0.8467\n"
     ]
    },
    {
     "data": {
      "text/plain": [
       "<keras.src.callbacks.History at 0x7f5c7e510c90>"
      ]
     },
     "execution_count": 65,
     "metadata": {},
     "output_type": "execute_result"
    }
   ],
   "source": [
    "X_train_num_pp_32 = X_train_pp_num.apply(lambda x: cv2.resize(x, dsize=(32, 32)))\n",
    "X_train_num_pp_32 = np.stack(X_train_num_pp_32.values)\n",
    "\n",
    "model.fit(X_train_num_pp_32, y_train_num, epochs=50, batch_size=32, validation_split=0.2, callbacks=[early_stopping])"
   ]
  },
  {
   "cell_type": "code",
   "execution_count": 66,
   "metadata": {},
   "outputs": [
    {
     "name": "stdout",
     "output_type": "stream",
     "text": [
      "Epoch 1/50\n",
      "19/19 [==============================] - 2s 61ms/step - loss: 2.3163 - accuracy: 0.0933 - val_loss: 2.3050 - val_accuracy: 0.0733\n",
      "Epoch 2/50\n",
      "19/19 [==============================] - 1s 58ms/step - loss: 2.3027 - accuracy: 0.1067 - val_loss: 2.3052 - val_accuracy: 0.0733\n",
      "Epoch 3/50\n",
      "19/19 [==============================] - 1s 52ms/step - loss: 2.2972 - accuracy: 0.1183 - val_loss: 2.3051 - val_accuracy: 0.0533\n",
      "Epoch 4/50\n",
      "19/19 [==============================] - 1s 51ms/step - loss: 2.2793 - accuracy: 0.1200 - val_loss: 2.3151 - val_accuracy: 0.0867\n",
      "Epoch 5/50\n",
      "19/19 [==============================] - 1s 52ms/step - loss: 2.2176 - accuracy: 0.1550 - val_loss: 2.2476 - val_accuracy: 0.1400\n",
      "Epoch 6/50\n",
      "19/19 [==============================] - 1s 52ms/step - loss: 2.0661 - accuracy: 0.2517 - val_loss: 2.1646 - val_accuracy: 0.1667\n",
      "Epoch 7/50\n",
      "19/19 [==============================] - 1s 52ms/step - loss: 1.9016 - accuracy: 0.3067 - val_loss: 1.9711 - val_accuracy: 0.3000\n",
      "Epoch 8/50\n",
      "19/19 [==============================] - 1s 53ms/step - loss: 1.7405 - accuracy: 0.3683 - val_loss: 1.9232 - val_accuracy: 0.3267\n",
      "Epoch 9/50\n",
      "19/19 [==============================] - 1s 52ms/step - loss: 1.5774 - accuracy: 0.4467 - val_loss: 1.8492 - val_accuracy: 0.2733\n",
      "Epoch 10/50\n",
      "19/19 [==============================] - 1s 53ms/step - loss: 1.4479 - accuracy: 0.4767 - val_loss: 1.7879 - val_accuracy: 0.3067\n",
      "Epoch 11/50\n",
      "19/19 [==============================] - 1s 52ms/step - loss: 1.2454 - accuracy: 0.5367 - val_loss: 1.7262 - val_accuracy: 0.3333\n",
      "Epoch 12/50\n",
      "19/19 [==============================] - 1s 54ms/step - loss: 1.1723 - accuracy: 0.5650 - val_loss: 1.8256 - val_accuracy: 0.2933\n",
      "Epoch 13/50\n",
      "19/19 [==============================] - 1s 52ms/step - loss: 1.1141 - accuracy: 0.6017 - val_loss: 1.6605 - val_accuracy: 0.3867\n",
      "Epoch 14/50\n",
      "19/19 [==============================] - 1s 52ms/step - loss: 1.0169 - accuracy: 0.6217 - val_loss: 1.6572 - val_accuracy: 0.3733\n",
      "Epoch 15/50\n",
      "19/19 [==============================] - 1s 53ms/step - loss: 0.8839 - accuracy: 0.6850 - val_loss: 1.7086 - val_accuracy: 0.3733\n",
      "Epoch 16/50\n",
      "19/19 [==============================] - 1s 52ms/step - loss: 0.8640 - accuracy: 0.6750 - val_loss: 1.6055 - val_accuracy: 0.3333\n",
      "Epoch 17/50\n",
      "19/19 [==============================] - 1s 55ms/step - loss: 0.7379 - accuracy: 0.7233 - val_loss: 1.8849 - val_accuracy: 0.3600\n",
      "Epoch 18/50\n",
      "19/19 [==============================] - 1s 52ms/step - loss: 0.7274 - accuracy: 0.7150 - val_loss: 1.8414 - val_accuracy: 0.4067\n",
      "Epoch 19/50\n",
      "19/19 [==============================] - 1s 52ms/step - loss: 0.6464 - accuracy: 0.7483 - val_loss: 1.7406 - val_accuracy: 0.4267\n",
      "Epoch 20/50\n",
      "19/19 [==============================] - 1s 52ms/step - loss: 0.6016 - accuracy: 0.7700 - val_loss: 1.8564 - val_accuracy: 0.3733\n",
      "Epoch 21/50\n",
      "19/19 [==============================] - 1s 53ms/step - loss: 0.6247 - accuracy: 0.7683 - val_loss: 1.8665 - val_accuracy: 0.3733\n"
     ]
    },
    {
     "data": {
      "text/plain": [
       "<keras.src.callbacks.History at 0x7f5cc971fa50>"
      ]
     },
     "execution_count": 66,
     "metadata": {},
     "output_type": "execute_result"
    }
   ],
   "source": [
    "model = Sequential([\n",
    "    Conv2D(32, (3, 3), activation='relu', input_shape=(64, 64, 3)),\n",
    "    MaxPooling2D((2, 2)),\n",
    "    Conv2D(64, (3, 3), activation='relu'),\n",
    "    MaxPooling2D((2, 2)),\n",
    "    Conv2D(128, (3, 3), activation='relu'),\n",
    "    MaxPooling2D((2, 2)),\n",
    "    Flatten(),\n",
    "    Dense(128, activation='relu'),\n",
    "    Dropout(0.2),\n",
    "    Dense(10, activation='softmax')\n",
    "])\n",
    "\n",
    "X_train_num_64 = X_train_num.apply(lambda x: s_preprocess_img(x, img_size=(64, 64)))\n",
    "X_train_num_64 = np.stack(X_train_num_64.values)\n",
    "\n",
    "model.compile(optimizer='adam', loss='categorical_crossentropy', metrics=['accuracy'])\n",
    "model.fit(X_train_num_64, y_train_num, epochs=50, batch_size=32, validation_split=0.2, callbacks=[early_stopping])"
   ]
  },
  {
   "cell_type": "code",
   "execution_count": 72,
   "metadata": {},
   "outputs": [
    {
     "name": "stdout",
     "output_type": "stream",
     "text": [
      "Epoch 1/50\n",
      "19/19 [==============================] - 2s 66ms/step - loss: 2.3375 - accuracy: 0.1033 - val_loss: 2.3080 - val_accuracy: 0.1067\n",
      "Epoch 2/50\n",
      "19/19 [==============================] - 1s 60ms/step - loss: 2.3022 - accuracy: 0.0883 - val_loss: 2.3082 - val_accuracy: 0.0733\n",
      "Epoch 3/50\n",
      "19/19 [==============================] - 1s 63ms/step - loss: 2.3015 - accuracy: 0.1117 - val_loss: 2.3034 - val_accuracy: 0.0933\n",
      "Epoch 4/50\n",
      "19/19 [==============================] - 1s 60ms/step - loss: 2.2961 - accuracy: 0.1067 - val_loss: 2.2946 - val_accuracy: 0.0733\n",
      "Epoch 5/50\n",
      "19/19 [==============================] - 1s 59ms/step - loss: 2.2519 - accuracy: 0.1300 - val_loss: 2.1639 - val_accuracy: 0.1933\n",
      "Epoch 6/50\n",
      "19/19 [==============================] - 1s 61ms/step - loss: 2.0647 - accuracy: 0.2050 - val_loss: 1.9748 - val_accuracy: 0.1933\n",
      "Epoch 7/50\n",
      "19/19 [==============================] - 1s 58ms/step - loss: 1.9384 - accuracy: 0.2017 - val_loss: 1.9125 - val_accuracy: 0.2000\n",
      "Epoch 8/50\n",
      "19/19 [==============================] - 1s 59ms/step - loss: 1.9049 - accuracy: 0.2383 - val_loss: 1.8762 - val_accuracy: 0.3000\n",
      "Epoch 9/50\n",
      "19/19 [==============================] - 1s 62ms/step - loss: 1.8743 - accuracy: 0.2483 - val_loss: 1.8326 - val_accuracy: 0.2667\n",
      "Epoch 10/50\n",
      "19/19 [==============================] - 1s 60ms/step - loss: 1.8136 - accuracy: 0.2800 - val_loss: 1.8264 - val_accuracy: 0.2667\n",
      "Epoch 11/50\n",
      "19/19 [==============================] - 1s 58ms/step - loss: 1.8058 - accuracy: 0.2667 - val_loss: 1.8016 - val_accuracy: 0.2800\n",
      "Epoch 12/50\n",
      "19/19 [==============================] - 1s 61ms/step - loss: 1.7430 - accuracy: 0.3483 - val_loss: 1.6915 - val_accuracy: 0.3800\n",
      "Epoch 13/50\n",
      "19/19 [==============================] - 1s 59ms/step - loss: 1.6539 - accuracy: 0.3633 - val_loss: 1.6451 - val_accuracy: 0.3733\n",
      "Epoch 14/50\n",
      "19/19 [==============================] - 1s 58ms/step - loss: 1.5555 - accuracy: 0.4300 - val_loss: 1.4832 - val_accuracy: 0.4667\n",
      "Epoch 15/50\n",
      "19/19 [==============================] - 1s 62ms/step - loss: 1.2825 - accuracy: 0.5350 - val_loss: 1.2325 - val_accuracy: 0.5733\n",
      "Epoch 16/50\n",
      "19/19 [==============================] - 1s 59ms/step - loss: 0.9796 - accuracy: 0.6533 - val_loss: 0.9078 - val_accuracy: 0.7267\n",
      "Epoch 17/50\n",
      "19/19 [==============================] - 1s 61ms/step - loss: 0.6490 - accuracy: 0.7800 - val_loss: 0.5760 - val_accuracy: 0.8600\n",
      "Epoch 18/50\n",
      "19/19 [==============================] - 1s 66ms/step - loss: 0.3586 - accuracy: 0.8783 - val_loss: 0.3716 - val_accuracy: 0.9067\n",
      "Epoch 19/50\n",
      "19/19 [==============================] - 1s 63ms/step - loss: 0.2420 - accuracy: 0.9233 - val_loss: 0.2448 - val_accuracy: 0.9333\n",
      "Epoch 20/50\n",
      "19/19 [==============================] - 1s 63ms/step - loss: 0.1736 - accuracy: 0.9517 - val_loss: 0.2884 - val_accuracy: 0.9333\n",
      "Epoch 21/50\n",
      "19/19 [==============================] - 1s 64ms/step - loss: 0.1184 - accuracy: 0.9617 - val_loss: 0.1803 - val_accuracy: 0.9400\n",
      "Epoch 22/50\n",
      "19/19 [==============================] - 1s 64ms/step - loss: 0.1170 - accuracy: 0.9633 - val_loss: 0.1724 - val_accuracy: 0.9600\n",
      "Epoch 23/50\n",
      "19/19 [==============================] - 1s 62ms/step - loss: 0.0978 - accuracy: 0.9683 - val_loss: 0.1322 - val_accuracy: 0.9600\n",
      "Epoch 24/50\n",
      "19/19 [==============================] - 1s 59ms/step - loss: 0.0828 - accuracy: 0.9783 - val_loss: 0.1892 - val_accuracy: 0.9533\n",
      "Epoch 25/50\n",
      "19/19 [==============================] - 1s 63ms/step - loss: 0.0607 - accuracy: 0.9833 - val_loss: 0.1556 - val_accuracy: 0.9667\n",
      "Epoch 26/50\n",
      "19/19 [==============================] - 1s 62ms/step - loss: 0.0820 - accuracy: 0.9617 - val_loss: 0.1626 - val_accuracy: 0.9600\n",
      "Epoch 27/50\n",
      "19/19 [==============================] - 1s 61ms/step - loss: 0.0737 - accuracy: 0.9733 - val_loss: 0.2536 - val_accuracy: 0.9400\n",
      "Epoch 28/50\n",
      "19/19 [==============================] - 1s 63ms/step - loss: 0.0466 - accuracy: 0.9883 - val_loss: 0.1435 - val_accuracy: 0.9600\n"
     ]
    },
    {
     "data": {
      "text/plain": [
       "<keras.src.callbacks.History at 0x7f5cc9a40c90>"
      ]
     },
     "execution_count": 72,
     "metadata": {},
     "output_type": "execute_result"
    }
   ],
   "source": [
    "model = Sequential([\n",
    "    Conv2D(32, (3, 3), activation='relu', input_shape=(64, 64, 3)),\n",
    "    MaxPooling2D((2, 2)),\n",
    "    Conv2D(64, (3, 3), activation='relu'),\n",
    "    MaxPooling2D((2, 2)),\n",
    "    Conv2D(128, (3, 3), activation='relu'),\n",
    "    MaxPooling2D((2, 2)),\n",
    "    Flatten(),\n",
    "    Dense(128, activation='relu'),\n",
    "    Dropout(0.2),\n",
    "    Dense(10, activation='softmax')\n",
    "])\n",
    "\n",
    "X_train_pp_num_64 = X_train_pp_num.apply(lambda x: cv2.resize(x, dsize=(64, 64)))\n",
    "X_train_pp_num_64 = np.stack(X_train_pp_num_64.values)\n",
    "\n",
    "model.compile(optimizer='adam', loss='categorical_crossentropy', metrics=['accuracy'])\n",
    "model.fit(X_train_pp_num_64, y_train_num, epochs=50, batch_size=32, validation_split=0.2, callbacks=[early_stopping])"
   ]
  },
  {
   "cell_type": "code",
   "execution_count": 74,
   "metadata": {},
   "outputs": [
    {
     "name": "stdout",
     "output_type": "stream",
     "text": [
      "8/8 [==============================] - 0s 14ms/step - loss: 0.0839 - accuracy: 0.9840\n"
     ]
    },
    {
     "data": {
      "text/plain": [
       "[0.08388721197843552, 0.984000027179718]"
      ]
     },
     "execution_count": 74,
     "metadata": {},
     "output_type": "execute_result"
    }
   ],
   "source": [
    "best_number_model = model\n",
    "\n",
    "X_test_pp_num = X_test_pp[y_test['category'] == 'number']\n",
    "X_test_pp_num_64 = X_test_pp_num.apply(lambda x: cv2.resize(x, dsize=(64, 64)))\n",
    "X_test_pp_num_64 = np.stack(X_test_pp_num_64.values)\n",
    "\n",
    "y_test_num = y_test[y_test['category'] == 'number']\n",
    "y_test_num = pd.get_dummies(y_test_num['target'])\n",
    "y_test_num = y_test_num[[str(i) for i in range(10)]]\n",
    "\n",
    "best_number_model.evaluate(X_test_pp_num_64, y_test_num)"
   ]
  },
  {
   "cell_type": "code",
   "execution_count": 76,
   "metadata": {},
   "outputs": [],
   "source": [
    "best_number_model.save('models/best_number_model.keras')"
   ]
  },
  {
   "attachments": {},
   "cell_type": "markdown",
   "metadata": {},
   "source": [
    "## 알파벳 모델"
   ]
  },
  {
   "cell_type": "code",
   "execution_count": 4,
   "metadata": {},
   "outputs": [
    {
     "data": {
      "text/plain": [
       "((1965,), (1965, 26))"
      ]
     },
     "execution_count": 4,
     "metadata": {},
     "output_type": "execute_result"
    }
   ],
   "source": [
    "X_train_pp_alpha = X_train_pp[y_train['category'] == 'alphabet']\n",
    "\n",
    "y_train_alpha = y_train[y_train['category'] == 'alphabet']\n",
    "y_train_alpha = pd.get_dummies(y_train_alpha['target'])\n",
    "y_train_alpha = y_train_alpha[[chr(i) for i in range(ord('A'), ord('Z')+1)]]\n",
    "X_train_pp_alpha.shape, y_train_alpha.shape"
   ]
  },
  {
   "cell_type": "code",
   "execution_count": 13,
   "metadata": {},
   "outputs": [
    {
     "name": "stdout",
     "output_type": "stream",
     "text": [
      "Epoch 1/50\n",
      "50/50 [==============================] - 4s 61ms/step - loss: 3.2635 - accuracy: 0.0312 - val_loss: 3.2578 - val_accuracy: 0.0662\n",
      "Epoch 2/50\n",
      "50/50 [==============================] - 3s 58ms/step - loss: 3.2312 - accuracy: 0.0585 - val_loss: 3.0896 - val_accuracy: 0.0840\n",
      "Epoch 3/50\n",
      "50/50 [==============================] - 3s 60ms/step - loss: 2.8616 - accuracy: 0.1215 - val_loss: 2.5186 - val_accuracy: 0.2137\n",
      "Epoch 4/50\n",
      "50/50 [==============================] - 3s 59ms/step - loss: 2.3167 - accuracy: 0.2697 - val_loss: 2.0047 - val_accuracy: 0.3486\n",
      "Epoch 5/50\n",
      "50/50 [==============================] - 3s 59ms/step - loss: 1.8749 - accuracy: 0.3906 - val_loss: 1.8180 - val_accuracy: 0.4224\n",
      "Epoch 6/50\n",
      "50/50 [==============================] - 3s 59ms/step - loss: 1.5863 - accuracy: 0.4701 - val_loss: 1.6561 - val_accuracy: 0.4249\n",
      "Epoch 7/50\n",
      "50/50 [==============================] - 3s 58ms/step - loss: 1.3970 - accuracy: 0.5254 - val_loss: 1.4500 - val_accuracy: 0.4987\n",
      "Epoch 8/50\n",
      "50/50 [==============================] - 3s 59ms/step - loss: 1.2444 - accuracy: 0.5636 - val_loss: 1.3182 - val_accuracy: 0.5369\n",
      "Epoch 9/50\n",
      "50/50 [==============================] - 3s 59ms/step - loss: 1.1395 - accuracy: 0.5941 - val_loss: 1.3658 - val_accuracy: 0.5369\n",
      "Epoch 10/50\n",
      "50/50 [==============================] - 3s 59ms/step - loss: 1.0940 - accuracy: 0.6113 - val_loss: 1.2771 - val_accuracy: 0.5649\n",
      "Epoch 11/50\n",
      "50/50 [==============================] - 3s 59ms/step - loss: 1.0082 - accuracy: 0.6425 - val_loss: 1.2277 - val_accuracy: 0.5649\n",
      "Epoch 12/50\n",
      "50/50 [==============================] - 3s 59ms/step - loss: 0.9495 - accuracy: 0.6628 - val_loss: 1.3442 - val_accuracy: 0.5420\n",
      "Epoch 13/50\n",
      "50/50 [==============================] - 3s 58ms/step - loss: 0.8924 - accuracy: 0.6756 - val_loss: 1.1632 - val_accuracy: 0.6234\n",
      "Epoch 14/50\n",
      "50/50 [==============================] - 3s 59ms/step - loss: 0.8502 - accuracy: 0.7061 - val_loss: 1.1564 - val_accuracy: 0.6081\n",
      "Epoch 15/50\n",
      "50/50 [==============================] - 3s 59ms/step - loss: 0.7829 - accuracy: 0.7239 - val_loss: 1.2144 - val_accuracy: 0.5751\n",
      "Epoch 16/50\n",
      "50/50 [==============================] - 3s 60ms/step - loss: 0.7505 - accuracy: 0.7309 - val_loss: 1.1499 - val_accuracy: 0.6412\n",
      "Epoch 17/50\n",
      "50/50 [==============================] - 3s 59ms/step - loss: 0.6975 - accuracy: 0.7525 - val_loss: 1.0884 - val_accuracy: 0.6565\n",
      "Epoch 18/50\n",
      "50/50 [==============================] - 3s 59ms/step - loss: 0.6722 - accuracy: 0.7589 - val_loss: 1.1301 - val_accuracy: 0.6463\n",
      "Epoch 19/50\n",
      "50/50 [==============================] - 3s 60ms/step - loss: 0.6476 - accuracy: 0.7634 - val_loss: 1.1944 - val_accuracy: 0.6336\n",
      "Epoch 20/50\n",
      "50/50 [==============================] - 3s 60ms/step - loss: 0.6059 - accuracy: 0.7653 - val_loss: 1.1839 - val_accuracy: 0.6438\n",
      "Epoch 21/50\n",
      "50/50 [==============================] - 3s 59ms/step - loss: 0.5618 - accuracy: 0.7939 - val_loss: 1.2065 - val_accuracy: 0.6310\n",
      "Epoch 22/50\n",
      "50/50 [==============================] - 3s 59ms/step - loss: 0.5388 - accuracy: 0.8111 - val_loss: 1.1898 - val_accuracy: 0.6463\n"
     ]
    },
    {
     "data": {
      "text/plain": [
       "<keras.src.callbacks.History at 0x7fcc47fd6990>"
      ]
     },
     "execution_count": 13,
     "metadata": {},
     "output_type": "execute_result"
    }
   ],
   "source": [
    "model = Sequential([\n",
    "    Conv2D(32, (3, 3), activation='relu', input_shape=(64, 64, 3)),\n",
    "    MaxPooling2D((2, 2)),\n",
    "    Conv2D(64, (3, 3), activation='relu'),\n",
    "    MaxPooling2D((2, 2)),\n",
    "    Conv2D(128, (3, 3), activation='relu'),\n",
    "    MaxPooling2D((2, 2)),\n",
    "    Flatten(),\n",
    "    Dense(128, activation='relu'),\n",
    "    Dropout(0.2),\n",
    "    Dense(26, activation='softmax')\n",
    "])\n",
    "\n",
    "X_train_pp_alpha_64 = X_train_pp_alpha.apply(lambda x: cv2.resize(x, dsize=(64, 64)))\n",
    "X_train_pp_alpha_64 = np.stack(X_train_pp_alpha_64.values)\n",
    "\n",
    "model.compile(optimizer='adam', loss='categorical_crossentropy', metrics=['accuracy'])\n",
    "model.fit(X_train_pp_alpha_64, y_train_alpha, epochs=50, batch_size=32, validation_split=0.2, callbacks=[early_stopping])"
   ]
  },
  {
   "cell_type": "code",
   "execution_count": 14,
   "metadata": {},
   "outputs": [
    {
     "name": "stdout",
     "output_type": "stream",
     "text": [
      "Epoch 1/100\n",
      "50/50 [==============================] - 2s 17ms/step - loss: 3.2656 - accuracy: 0.0344 - val_loss: 3.2591 - val_accuracy: 0.0356\n",
      "Epoch 2/100\n",
      "50/50 [==============================] - 1s 13ms/step - loss: 3.2585 - accuracy: 0.0382 - val_loss: 3.2607 - val_accuracy: 0.0305\n",
      "Epoch 3/100\n",
      "50/50 [==============================] - 1s 14ms/step - loss: 3.2547 - accuracy: 0.0496 - val_loss: 3.2430 - val_accuracy: 0.0662\n",
      "Epoch 4/100\n",
      "50/50 [==============================] - 1s 13ms/step - loss: 3.1369 - accuracy: 0.0891 - val_loss: 2.8983 - val_accuracy: 0.1450\n",
      "Epoch 5/100\n",
      "50/50 [==============================] - 1s 13ms/step - loss: 2.6053 - accuracy: 0.1851 - val_loss: 2.3090 - val_accuracy: 0.2239\n",
      "Epoch 6/100\n",
      "50/50 [==============================] - 1s 13ms/step - loss: 2.1547 - accuracy: 0.2856 - val_loss: 2.0832 - val_accuracy: 0.2824\n",
      "Epoch 7/100\n",
      "50/50 [==============================] - 1s 13ms/step - loss: 1.9345 - accuracy: 0.3416 - val_loss: 1.9873 - val_accuracy: 0.3181\n",
      "Epoch 8/100\n",
      "50/50 [==============================] - 1s 13ms/step - loss: 1.7725 - accuracy: 0.4008 - val_loss: 1.8124 - val_accuracy: 0.3995\n",
      "Epoch 9/100\n",
      "50/50 [==============================] - 1s 14ms/step - loss: 1.6502 - accuracy: 0.4288 - val_loss: 1.6962 - val_accuracy: 0.4046\n",
      "Epoch 10/100\n",
      "50/50 [==============================] - 1s 13ms/step - loss: 1.5183 - accuracy: 0.4701 - val_loss: 1.6612 - val_accuracy: 0.3919\n",
      "Epoch 11/100\n",
      "50/50 [==============================] - 1s 13ms/step - loss: 1.4398 - accuracy: 0.4790 - val_loss: 1.6312 - val_accuracy: 0.4275\n",
      "Epoch 12/100\n",
      "50/50 [==============================] - 1s 13ms/step - loss: 1.3363 - accuracy: 0.5337 - val_loss: 1.6163 - val_accuracy: 0.4504\n",
      "Epoch 13/100\n",
      "50/50 [==============================] - 1s 13ms/step - loss: 1.3217 - accuracy: 0.5445 - val_loss: 1.5552 - val_accuracy: 0.4504\n",
      "Epoch 14/100\n",
      "50/50 [==============================] - 1s 14ms/step - loss: 1.2170 - accuracy: 0.5668 - val_loss: 1.4550 - val_accuracy: 0.4860\n",
      "Epoch 15/100\n",
      "50/50 [==============================] - 1s 12ms/step - loss: 1.1441 - accuracy: 0.5884 - val_loss: 1.4306 - val_accuracy: 0.4835\n",
      "Epoch 16/100\n",
      "50/50 [==============================] - 1s 13ms/step - loss: 1.0800 - accuracy: 0.6139 - val_loss: 1.4567 - val_accuracy: 0.4758\n",
      "Epoch 17/100\n",
      "50/50 [==============================] - 1s 12ms/step - loss: 1.0036 - accuracy: 0.6419 - val_loss: 1.3644 - val_accuracy: 0.5064\n",
      "Epoch 18/100\n",
      "50/50 [==============================] - 1s 12ms/step - loss: 1.0226 - accuracy: 0.6374 - val_loss: 1.3638 - val_accuracy: 0.5165\n",
      "Epoch 19/100\n",
      "50/50 [==============================] - 1s 13ms/step - loss: 0.9211 - accuracy: 0.6686 - val_loss: 1.3203 - val_accuracy: 0.5344\n",
      "Epoch 20/100\n",
      "50/50 [==============================] - 1s 13ms/step - loss: 0.8956 - accuracy: 0.6711 - val_loss: 1.3468 - val_accuracy: 0.5369\n",
      "Epoch 21/100\n",
      "50/50 [==============================] - 1s 12ms/step - loss: 0.8637 - accuracy: 0.6940 - val_loss: 1.3544 - val_accuracy: 0.5140\n",
      "Epoch 22/100\n",
      "50/50 [==============================] - 1s 13ms/step - loss: 0.8147 - accuracy: 0.6991 - val_loss: 1.3386 - val_accuracy: 0.5394\n",
      "Epoch 23/100\n",
      "50/50 [==============================] - 1s 13ms/step - loss: 0.7578 - accuracy: 0.7366 - val_loss: 1.3216 - val_accuracy: 0.5471\n",
      "Epoch 24/100\n",
      "50/50 [==============================] - 1s 13ms/step - loss: 0.6989 - accuracy: 0.7615 - val_loss: 1.2970 - val_accuracy: 0.5674\n",
      "Epoch 25/100\n",
      "50/50 [==============================] - 1s 12ms/step - loss: 0.6534 - accuracy: 0.7818 - val_loss: 1.3746 - val_accuracy: 0.5394\n",
      "Epoch 26/100\n",
      "50/50 [==============================] - 1s 12ms/step - loss: 0.6827 - accuracy: 0.7564 - val_loss: 1.3265 - val_accuracy: 0.5725\n",
      "Epoch 27/100\n",
      "50/50 [==============================] - 1s 12ms/step - loss: 0.6144 - accuracy: 0.7716 - val_loss: 1.2633 - val_accuracy: 0.5700\n",
      "Epoch 28/100\n",
      "50/50 [==============================] - 1s 13ms/step - loss: 0.5442 - accuracy: 0.8117 - val_loss: 1.2415 - val_accuracy: 0.6107\n",
      "Epoch 29/100\n",
      "50/50 [==============================] - 1s 14ms/step - loss: 0.5435 - accuracy: 0.8079 - val_loss: 1.1977 - val_accuracy: 0.6031\n",
      "Epoch 30/100\n",
      "50/50 [==============================] - 1s 13ms/step - loss: 0.4758 - accuracy: 0.8251 - val_loss: 1.2170 - val_accuracy: 0.6285\n",
      "Epoch 31/100\n",
      "50/50 [==============================] - 1s 15ms/step - loss: 0.4376 - accuracy: 0.8403 - val_loss: 1.1279 - val_accuracy: 0.6412\n",
      "Epoch 32/100\n",
      "50/50 [==============================] - 1s 14ms/step - loss: 0.4133 - accuracy: 0.8569 - val_loss: 1.1841 - val_accuracy: 0.6005\n",
      "Epoch 33/100\n",
      "50/50 [==============================] - 1s 14ms/step - loss: 0.3483 - accuracy: 0.8810 - val_loss: 1.0683 - val_accuracy: 0.6921\n",
      "Epoch 34/100\n",
      "50/50 [==============================] - 1s 13ms/step - loss: 0.3437 - accuracy: 0.8734 - val_loss: 1.0853 - val_accuracy: 0.6972\n",
      "Epoch 35/100\n",
      "50/50 [==============================] - 1s 13ms/step - loss: 0.3329 - accuracy: 0.8880 - val_loss: 0.9839 - val_accuracy: 0.7150\n",
      "Epoch 36/100\n",
      "50/50 [==============================] - 1s 13ms/step - loss: 0.2475 - accuracy: 0.9243 - val_loss: 0.9907 - val_accuracy: 0.7099\n",
      "Epoch 37/100\n",
      "50/50 [==============================] - 1s 13ms/step - loss: 0.1956 - accuracy: 0.9396 - val_loss: 0.9486 - val_accuracy: 0.7379\n",
      "Epoch 38/100\n",
      "50/50 [==============================] - 1s 14ms/step - loss: 0.2017 - accuracy: 0.9364 - val_loss: 0.9696 - val_accuracy: 0.7328\n",
      "Epoch 39/100\n",
      "50/50 [==============================] - 1s 13ms/step - loss: 0.1591 - accuracy: 0.9478 - val_loss: 0.9054 - val_accuracy: 0.7634\n",
      "Epoch 40/100\n",
      "50/50 [==============================] - 1s 13ms/step - loss: 0.1379 - accuracy: 0.9593 - val_loss: 0.7948 - val_accuracy: 0.7888\n",
      "Epoch 41/100\n",
      "50/50 [==============================] - 1s 13ms/step - loss: 0.1266 - accuracy: 0.9612 - val_loss: 0.8344 - val_accuracy: 0.7659\n",
      "Epoch 42/100\n",
      "50/50 [==============================] - 1s 13ms/step - loss: 0.1026 - accuracy: 0.9733 - val_loss: 0.8015 - val_accuracy: 0.7939\n",
      "Epoch 43/100\n",
      "50/50 [==============================] - 1s 14ms/step - loss: 0.0957 - accuracy: 0.9771 - val_loss: 0.8892 - val_accuracy: 0.7913\n",
      "Epoch 44/100\n",
      "50/50 [==============================] - 1s 13ms/step - loss: 0.0843 - accuracy: 0.9771 - val_loss: 0.7918 - val_accuracy: 0.8041\n",
      "Epoch 45/100\n",
      "50/50 [==============================] - 1s 13ms/step - loss: 0.0901 - accuracy: 0.9739 - val_loss: 0.7643 - val_accuracy: 0.8117\n",
      "Epoch 46/100\n",
      "50/50 [==============================] - 1s 13ms/step - loss: 0.0914 - accuracy: 0.9733 - val_loss: 0.7535 - val_accuracy: 0.8092\n",
      "Epoch 47/100\n",
      "50/50 [==============================] - 1s 14ms/step - loss: 0.0624 - accuracy: 0.9841 - val_loss: 0.7349 - val_accuracy: 0.8422\n",
      "Epoch 48/100\n",
      "50/50 [==============================] - 1s 13ms/step - loss: 0.0547 - accuracy: 0.9847 - val_loss: 0.7656 - val_accuracy: 0.8346\n",
      "Epoch 49/100\n",
      "50/50 [==============================] - 1s 13ms/step - loss: 0.0490 - accuracy: 0.9860 - val_loss: 0.7150 - val_accuracy: 0.8575\n",
      "Epoch 50/100\n",
      "50/50 [==============================] - 1s 13ms/step - loss: 0.0653 - accuracy: 0.9828 - val_loss: 0.7489 - val_accuracy: 0.8244\n",
      "Epoch 51/100\n",
      "50/50 [==============================] - 1s 13ms/step - loss: 0.0720 - accuracy: 0.9803 - val_loss: 0.7473 - val_accuracy: 0.8193\n",
      "Epoch 52/100\n",
      "50/50 [==============================] - 1s 15ms/step - loss: 0.0818 - accuracy: 0.9752 - val_loss: 0.6981 - val_accuracy: 0.8422\n",
      "Epoch 53/100\n",
      "50/50 [==============================] - 1s 14ms/step - loss: 0.0480 - accuracy: 0.9873 - val_loss: 0.6305 - val_accuracy: 0.8550\n",
      "Epoch 54/100\n",
      "50/50 [==============================] - 1s 13ms/step - loss: 0.0462 - accuracy: 0.9860 - val_loss: 0.6638 - val_accuracy: 0.8550\n",
      "Epoch 55/100\n",
      "50/50 [==============================] - 1s 13ms/step - loss: 0.0413 - accuracy: 0.9860 - val_loss: 0.6296 - val_accuracy: 0.8753\n",
      "Epoch 56/100\n",
      "50/50 [==============================] - 1s 14ms/step - loss: 0.0305 - accuracy: 0.9930 - val_loss: 0.6419 - val_accuracy: 0.8601\n",
      "Epoch 57/100\n",
      "50/50 [==============================] - 1s 14ms/step - loss: 0.0511 - accuracy: 0.9822 - val_loss: 0.6670 - val_accuracy: 0.8702\n",
      "Epoch 58/100\n",
      "50/50 [==============================] - 1s 13ms/step - loss: 0.0465 - accuracy: 0.9879 - val_loss: 0.5892 - val_accuracy: 0.8779\n",
      "Epoch 59/100\n",
      "50/50 [==============================] - 1s 13ms/step - loss: 0.0289 - accuracy: 0.9917 - val_loss: 0.6626 - val_accuracy: 0.8677\n",
      "Epoch 60/100\n",
      "50/50 [==============================] - 1s 15ms/step - loss: 0.0268 - accuracy: 0.9936 - val_loss: 0.6482 - val_accuracy: 0.8651\n",
      "Epoch 61/100\n",
      "50/50 [==============================] - 1s 15ms/step - loss: 0.0281 - accuracy: 0.9905 - val_loss: 0.6495 - val_accuracy: 0.8499\n",
      "Epoch 62/100\n",
      "50/50 [==============================] - 1s 15ms/step - loss: 0.0424 - accuracy: 0.9873 - val_loss: 0.6976 - val_accuracy: 0.8651\n",
      "Epoch 63/100\n",
      "50/50 [==============================] - 1s 13ms/step - loss: 0.0330 - accuracy: 0.9885 - val_loss: 0.6529 - val_accuracy: 0.8728\n",
      "Epoch 64/100\n",
      "50/50 [==============================] - 1s 14ms/step - loss: 0.0293 - accuracy: 0.9898 - val_loss: 0.6804 - val_accuracy: 0.8575\n",
      "Epoch 65/100\n",
      "50/50 [==============================] - 1s 13ms/step - loss: 0.0222 - accuracy: 0.9943 - val_loss: 0.7063 - val_accuracy: 0.8728\n",
      "Epoch 66/100\n",
      "50/50 [==============================] - 1s 13ms/step - loss: 0.0254 - accuracy: 0.9930 - val_loss: 0.6465 - val_accuracy: 0.8855\n",
      "Epoch 67/100\n",
      "50/50 [==============================] - 1s 13ms/step - loss: 0.0253 - accuracy: 0.9917 - val_loss: 0.6694 - val_accuracy: 0.8728\n",
      "Epoch 68/100\n",
      "50/50 [==============================] - 1s 14ms/step - loss: 0.0246 - accuracy: 0.9936 - val_loss: 0.6642 - val_accuracy: 0.8677\n",
      "Epoch 69/100\n",
      "50/50 [==============================] - 1s 14ms/step - loss: 0.0216 - accuracy: 0.9911 - val_loss: 0.6776 - val_accuracy: 0.8651\n",
      "Epoch 70/100\n",
      "50/50 [==============================] - 1s 14ms/step - loss: 0.0315 - accuracy: 0.9892 - val_loss: 0.7301 - val_accuracy: 0.8651\n",
      "Epoch 71/100\n",
      "50/50 [==============================] - 1s 14ms/step - loss: 0.0518 - accuracy: 0.9816 - val_loss: 0.8222 - val_accuracy: 0.8193\n",
      "Epoch 72/100\n",
      "50/50 [==============================] - 1s 14ms/step - loss: 0.0417 - accuracy: 0.9847 - val_loss: 0.6382 - val_accuracy: 0.8702\n",
      "Epoch 73/100\n",
      "50/50 [==============================] - 1s 13ms/step - loss: 0.0301 - accuracy: 0.9911 - val_loss: 0.6746 - val_accuracy: 0.8753\n",
      "Epoch 74/100\n",
      "50/50 [==============================] - 1s 13ms/step - loss: 0.0232 - accuracy: 0.9924 - val_loss: 0.6792 - val_accuracy: 0.8753\n",
      "Epoch 75/100\n",
      "50/50 [==============================] - 1s 14ms/step - loss: 0.1723 - accuracy: 0.9510 - val_loss: 0.7056 - val_accuracy: 0.8524\n",
      "Epoch 76/100\n",
      "50/50 [==============================] - 1s 13ms/step - loss: 0.0407 - accuracy: 0.9866 - val_loss: 0.6401 - val_accuracy: 0.8931\n",
      "Epoch 77/100\n",
      "50/50 [==============================] - 1s 13ms/step - loss: 0.0161 - accuracy: 0.9968 - val_loss: 0.7100 - val_accuracy: 0.8804\n",
      "Epoch 78/100\n",
      "50/50 [==============================] - 1s 13ms/step - loss: 0.0258 - accuracy: 0.9936 - val_loss: 0.6415 - val_accuracy: 0.8779\n",
      "Epoch 79/100\n",
      "50/50 [==============================] - 1s 12ms/step - loss: 0.0137 - accuracy: 0.9968 - val_loss: 0.6688 - val_accuracy: 0.8651\n",
      "Epoch 80/100\n",
      "50/50 [==============================] - 1s 14ms/step - loss: 0.0196 - accuracy: 0.9936 - val_loss: 0.6316 - val_accuracy: 0.8880\n",
      "Epoch 81/100\n",
      "50/50 [==============================] - 1s 13ms/step - loss: 0.0175 - accuracy: 0.9955 - val_loss: 0.6320 - val_accuracy: 0.8830\n",
      "Epoch 82/100\n",
      "50/50 [==============================] - 1s 13ms/step - loss: 0.0182 - accuracy: 0.9955 - val_loss: 0.7326 - val_accuracy: 0.8779\n",
      "Epoch 83/100\n",
      "50/50 [==============================] - 1s 14ms/step - loss: 0.0115 - accuracy: 0.9968 - val_loss: 0.6833 - val_accuracy: 0.8957\n",
      "Epoch 84/100\n",
      "50/50 [==============================] - 1s 13ms/step - loss: 0.0139 - accuracy: 0.9968 - val_loss: 0.6201 - val_accuracy: 0.8957\n",
      "Epoch 85/100\n",
      "50/50 [==============================] - 1s 13ms/step - loss: 0.0082 - accuracy: 0.9975 - val_loss: 0.6632 - val_accuracy: 0.8830\n",
      "Epoch 86/100\n",
      "50/50 [==============================] - 1s 15ms/step - loss: 0.0086 - accuracy: 0.9975 - val_loss: 0.6473 - val_accuracy: 0.8906\n",
      "Epoch 87/100\n",
      "50/50 [==============================] - 1s 14ms/step - loss: 0.0142 - accuracy: 0.9949 - val_loss: 0.5770 - val_accuracy: 0.8855\n",
      "Epoch 88/100\n",
      "50/50 [==============================] - 1s 14ms/step - loss: 0.0094 - accuracy: 0.9981 - val_loss: 0.6682 - val_accuracy: 0.8830\n",
      "Epoch 89/100\n",
      "50/50 [==============================] - 1s 15ms/step - loss: 0.0277 - accuracy: 0.9898 - val_loss: 0.7437 - val_accuracy: 0.8550\n",
      "Epoch 90/100\n",
      "50/50 [==============================] - 1s 13ms/step - loss: 0.0261 - accuracy: 0.9936 - val_loss: 0.6225 - val_accuracy: 0.8804\n",
      "Epoch 91/100\n",
      "50/50 [==============================] - 1s 13ms/step - loss: 0.0140 - accuracy: 0.9949 - val_loss: 0.6537 - val_accuracy: 0.8779\n",
      "Epoch 92/100\n",
      "50/50 [==============================] - 1s 13ms/step - loss: 0.0102 - accuracy: 0.9968 - val_loss: 0.7346 - val_accuracy: 0.8880\n",
      "Epoch 93/100\n",
      "50/50 [==============================] - 1s 12ms/step - loss: 0.0158 - accuracy: 0.9949 - val_loss: 0.6939 - val_accuracy: 0.8702\n",
      "Epoch 94/100\n",
      "50/50 [==============================] - 1s 13ms/step - loss: 0.0186 - accuracy: 0.9936 - val_loss: 0.7104 - val_accuracy: 0.8804\n",
      "Epoch 95/100\n",
      "50/50 [==============================] - 1s 15ms/step - loss: 0.0244 - accuracy: 0.9943 - val_loss: 0.8331 - val_accuracy: 0.8677\n",
      "Epoch 96/100\n",
      "50/50 [==============================] - 1s 14ms/step - loss: 0.0498 - accuracy: 0.9885 - val_loss: 0.6480 - val_accuracy: 0.8880\n",
      "Epoch 97/100\n",
      "50/50 [==============================] - 1s 14ms/step - loss: 0.0360 - accuracy: 0.9911 - val_loss: 0.5645 - val_accuracy: 0.8753\n",
      "Epoch 98/100\n",
      "50/50 [==============================] - 1s 15ms/step - loss: 0.0307 - accuracy: 0.9917 - val_loss: 0.7268 - val_accuracy: 0.8779\n",
      "Epoch 99/100\n",
      "50/50 [==============================] - 1s 13ms/step - loss: 0.0263 - accuracy: 0.9930 - val_loss: 0.6246 - val_accuracy: 0.8855\n",
      "Epoch 100/100\n",
      "50/50 [==============================] - 1s 13ms/step - loss: 0.0282 - accuracy: 0.9911 - val_loss: 0.6171 - val_accuracy: 0.8906\n"
     ]
    },
    {
     "data": {
      "text/plain": [
       "<keras.src.callbacks.History at 0x7fcc00726990>"
      ]
     },
     "execution_count": 14,
     "metadata": {},
     "output_type": "execute_result"
    }
   ],
   "source": [
    "model = Sequential([\n",
    "    Conv2D(32, (3, 3), activation='relu', input_shape=(32, 32, 3)),\n",
    "    MaxPooling2D((2, 2)),\n",
    "    Conv2D(64, (3, 3), activation='relu'),\n",
    "    MaxPooling2D((2, 2)),\n",
    "    Conv2D(128, (3, 3), activation='relu'),\n",
    "    MaxPooling2D((2, 2)),\n",
    "    Flatten(),\n",
    "    Dense(128, activation='relu'),\n",
    "    Dropout(0.2),\n",
    "    Dense(26, activation='softmax')\n",
    "])\n",
    "\n",
    "X_train_pp_alpha_32 = X_train_pp_alpha.apply(lambda x: cv2.resize(x, dsize=(32, 32)))\n",
    "X_train_pp_alpha_32 = np.stack(X_train_pp_alpha_32.values)\n",
    "\n",
    "model.compile(optimizer='adam', loss='categorical_crossentropy', metrics=['accuracy'])\n",
    "model.fit(X_train_pp_alpha_32, y_train_alpha, epochs=100, batch_size=32, validation_split=0.2)"
   ]
  },
  {
   "cell_type": "code",
   "execution_count": 91,
   "metadata": {},
   "outputs": [
    {
     "name": "stdout",
     "output_type": "stream",
     "text": [
      "Epoch 1/15\n",
      "61/61 [==============================] - 1s 23ms/step - loss: 3.2581 - accuracy: 0.0422\n",
      "Epoch 2/15\n",
      "61/61 [==============================] - 2s 29ms/step - loss: 3.2581 - accuracy: 0.0422\n",
      "Epoch 3/15\n",
      "61/61 [==============================] - 2s 27ms/step - loss: 3.2581 - accuracy: 0.0422\n",
      "Epoch 4/15\n",
      "61/61 [==============================] - 2s 24ms/step - loss: 3.2581 - accuracy: 0.0422\n",
      "Epoch 5/15\n",
      "61/61 [==============================] - 2s 25ms/step - loss: 3.2581 - accuracy: 0.0422\n",
      "Epoch 6/15\n",
      "61/61 [==============================] - 1s 23ms/step - loss: 3.2581 - accuracy: 0.0422\n",
      "Epoch 7/15\n",
      "61/61 [==============================] - 1s 22ms/step - loss: 3.2582 - accuracy: 0.0422\n",
      "Epoch 8/15\n",
      "61/61 [==============================] - 1s 23ms/step - loss: 3.2581 - accuracy: 0.0422\n",
      "Epoch 9/15\n",
      "61/61 [==============================] - 1s 23ms/step - loss: 3.2581 - accuracy: 0.0422\n",
      "Epoch 10/15\n",
      "61/61 [==============================] - 1s 24ms/step - loss: 3.2581 - accuracy: 0.0422\n",
      "Epoch 11/15\n",
      "61/61 [==============================] - 2s 24ms/step - loss: 3.2581 - accuracy: 0.0422\n",
      "Epoch 12/15\n",
      "61/61 [==============================] - 1s 23ms/step - loss: 3.2581 - accuracy: 0.0422\n",
      "Epoch 13/15\n",
      "61/61 [==============================] - 1s 24ms/step - loss: 3.2581 - accuracy: 0.0422\n",
      "Epoch 14/15\n",
      "61/61 [==============================] - 1s 23ms/step - loss: 3.2581 - accuracy: 0.0422\n",
      "Epoch 15/15\n",
      "61/61 [==============================] - 1s 23ms/step - loss: 3.2581 - accuracy: 0.0422\n"
     ]
    },
    {
     "data": {
      "text/plain": [
       "<keras.src.callbacks.History at 0x7f5c50151c90>"
      ]
     },
     "execution_count": 91,
     "metadata": {},
     "output_type": "execute_result"
    }
   ],
   "source": [
    "from keras.preprocessing.image import ImageDataGenerator\n",
    "\n",
    "datagen = ImageDataGenerator(\n",
    "    rotation_range=0,\n",
    "    width_shift_range=0.2, \n",
    "    height_shift_range=0.2,\n",
    "    horizontal_flip=False,   \n",
    "    vertical_flip=False,   \n",
    "    zoom_range=0.2,      \n",
    "    shear_range=0.1,     \n",
    "    fill_mode='nearest'      \n",
    ")\n",
    "\n",
    "augmented_data = datagen.flow(X_train_pp_alpha_32, y_train_alpha, batch_size=32)\n",
    "\n",
    "model.fit(augmented_data, epochs=15, steps_per_epoch=len(X_train_pp_alpha_32) / 32)"
   ]
  },
  {
   "cell_type": "code",
   "execution_count": 92,
   "metadata": {},
   "outputs": [
    {
     "name": "stdout",
     "output_type": "stream",
     "text": [
      "62/62 [==============================] - 0s 5ms/step - loss: 3.2578 - accuracy: 0.0422\n"
     ]
    },
    {
     "data": {
      "text/plain": [
       "[3.2577617168426514, 0.04223918542265892]"
      ]
     },
     "execution_count": 92,
     "metadata": {},
     "output_type": "execute_result"
    }
   ],
   "source": [
    "model.evaluate(X_train_pp_alpha_32, y_train_alpha)"
   ]
  },
  {
   "cell_type": "code",
   "execution_count": 93,
   "metadata": {},
   "outputs": [
    {
     "name": "stdout",
     "output_type": "stream",
     "text": [
      "Epoch 1/100\n",
      "50/50 [==============================] - 48s 948ms/step - loss: 3.3453 - accuracy: 0.0541 - val_loss: 3.1848 - val_accuracy: 0.1145\n",
      "Epoch 2/100\n",
      "50/50 [==============================] - 47s 939ms/step - loss: 2.9907 - accuracy: 0.1323 - val_loss: 2.6706 - val_accuracy: 0.2443\n",
      "Epoch 3/100\n",
      "50/50 [==============================] - 49s 975ms/step - loss: 2.3886 - accuracy: 0.3060 - val_loss: 2.1592 - val_accuracy: 0.3486\n",
      "Epoch 4/100\n",
      "50/50 [==============================] - 49s 981ms/step - loss: 1.7563 - accuracy: 0.4523 - val_loss: 1.4774 - val_accuracy: 0.5700\n",
      "Epoch 5/100\n",
      "50/50 [==============================] - 51s 1s/step - loss: 1.1872 - accuracy: 0.6291 - val_loss: 0.9328 - val_accuracy: 0.7405\n",
      "Epoch 6/100\n",
      "50/50 [==============================] - 50s 1s/step - loss: 0.7573 - accuracy: 0.7570 - val_loss: 0.6872 - val_accuracy: 0.8397\n",
      "Epoch 7/100\n",
      "50/50 [==============================] - 51s 1s/step - loss: 0.5630 - accuracy: 0.8270 - val_loss: 0.5984 - val_accuracy: 0.8626\n",
      "Epoch 8/100\n",
      "50/50 [==============================] - 49s 984ms/step - loss: 0.4222 - accuracy: 0.8677 - val_loss: 0.4811 - val_accuracy: 0.8728\n",
      "Epoch 9/100\n",
      "50/50 [==============================] - 50s 996ms/step - loss: 0.3239 - accuracy: 0.8919 - val_loss: 0.4977 - val_accuracy: 0.8804\n",
      "Epoch 10/100\n",
      "50/50 [==============================] - 52s 1s/step - loss: 0.2746 - accuracy: 0.9135 - val_loss: 0.4251 - val_accuracy: 0.9109\n",
      "Epoch 11/100\n",
      "50/50 [==============================] - 52s 1s/step - loss: 0.2704 - accuracy: 0.9167 - val_loss: 0.3722 - val_accuracy: 0.9059\n",
      "Epoch 12/100\n",
      "50/50 [==============================] - 49s 989ms/step - loss: 0.1677 - accuracy: 0.9485 - val_loss: 0.3851 - val_accuracy: 0.9059\n",
      "Epoch 13/100\n",
      "50/50 [==============================] - 51s 1s/step - loss: 0.1819 - accuracy: 0.9402 - val_loss: 0.3494 - val_accuracy: 0.9186\n",
      "Epoch 14/100\n",
      "50/50 [==============================] - 50s 1s/step - loss: 0.1428 - accuracy: 0.9542 - val_loss: 0.4204 - val_accuracy: 0.9160\n",
      "Epoch 15/100\n",
      "50/50 [==============================] - 45s 889ms/step - loss: 0.1386 - accuracy: 0.9529 - val_loss: 0.4139 - val_accuracy: 0.9033\n",
      "Epoch 16/100\n",
      "50/50 [==============================] - 42s 840ms/step - loss: 0.1216 - accuracy: 0.9644 - val_loss: 0.3980 - val_accuracy: 0.9211\n",
      "Epoch 17/100\n",
      "50/50 [==============================] - 42s 842ms/step - loss: 0.1167 - accuracy: 0.9587 - val_loss: 0.3801 - val_accuracy: 0.9160\n",
      "Epoch 18/100\n",
      "50/50 [==============================] - 43s 851ms/step - loss: 0.0909 - accuracy: 0.9720 - val_loss: 0.3896 - val_accuracy: 0.9389\n"
     ]
    },
    {
     "data": {
      "text/plain": [
       "<keras.src.callbacks.History at 0x7f5c50039110>"
      ]
     },
     "execution_count": 93,
     "metadata": {},
     "output_type": "execute_result"
    }
   ],
   "source": [
    "model = Sequential([\n",
    "    Conv2D(32, (3, 3), activation='relu', input_shape=(224, 224, 3)),\n",
    "    MaxPooling2D((2, 2)),\n",
    "    Conv2D(64, (3, 3), activation='relu'),\n",
    "    MaxPooling2D((2, 2)),\n",
    "    Conv2D(128, (3, 3), activation='relu'),\n",
    "    MaxPooling2D((2, 2)),\n",
    "    Flatten(),\n",
    "    Dense(128, activation='relu'),\n",
    "    Dropout(0.2),\n",
    "    Dense(26, activation='softmax')\n",
    "])\n",
    "\n",
    "X_train_pp_alpha_224 = np.stack(X_train_pp_alpha.values)\n",
    "\n",
    "model.compile(optimizer='adam', loss='categorical_crossentropy', metrics=['accuracy'])\n",
    "model.fit(X_train_pp_alpha_224, y_train_alpha, epochs=100, batch_size=32, validation_split=0.2, callbacks=[early_stopping])"
   ]
  },
  {
   "cell_type": "code",
   "execution_count": 15,
   "metadata": {},
   "outputs": [],
   "source": [
    "best_alphabet_model = model\n",
    "best_alphabet_model.save('models/best_alphabet_model.keras')"
   ]
  },
  {
   "cell_type": "code",
   "execution_count": 18,
   "metadata": {},
   "outputs": [
    {
     "name": "stdout",
     "output_type": "stream",
     "text": [
      "21/21 [==============================] - 0s 5ms/step - loss: 0.6098 - accuracy: 0.8931\n"
     ]
    },
    {
     "data": {
      "text/plain": [
       "[0.6097856163978577, 0.8931297659873962]"
      ]
     },
     "execution_count": 18,
     "metadata": {},
     "output_type": "execute_result"
    }
   ],
   "source": [
    "X_test_alpha_pp = X_test_pp[y_test['category'] == 'alphabet']\n",
    "X_test_alpha_pp_32 = X_test_alpha_pp.apply(lambda x: cv2.resize(x, dsize=(32, 32)))\n",
    "X_test_alpha_pp_32 = np.stack(X_test_alpha_pp_32.values)\n",
    "\n",
    "y_test_alpha = y_test[y_test['category'] == 'alphabet']\n",
    "y_test_alpha = pd.get_dummies(y_test_alpha['target'])\n",
    "y_test_alpha = y_test_alpha[[chr(i) for i in range(ord('A'), ord('Z')+1)]]\n",
    "\n",
    "best_alphabet_model.evaluate(X_test_alpha_pp_32, y_test_alpha)"
   ]
  }
 ],
 "metadata": {
  "kernelspec": {
   "display_name": "Python 3",
   "language": "python",
   "name": "python3"
  },
  "language_info": {
   "codemirror_mode": {
    "name": "ipython",
    "version": 3
   },
   "file_extension": ".py",
   "mimetype": "text/x-python",
   "name": "python",
   "nbconvert_exporter": "python",
   "pygments_lexer": "ipython3",
   "version": "3.11.5"
  },
  "orig_nbformat": 4
 },
 "nbformat": 4,
 "nbformat_minor": 2
}
