{
 "cells": [
  {
   "cell_type": "code",
   "execution_count": 1,
   "metadata": {},
   "outputs": [
    {
     "data": {
      "text/html": [
       "<div>\n",
       "<style scoped>\n",
       "    .dataframe tbody tr th:only-of-type {\n",
       "        vertical-align: middle;\n",
       "    }\n",
       "\n",
       "    .dataframe tbody tr th {\n",
       "        vertical-align: top;\n",
       "    }\n",
       "\n",
       "    .dataframe thead th {\n",
       "        text-align: right;\n",
       "    }\n",
       "</style>\n",
       "<table border=\"1\" class=\"dataframe\">\n",
       "  <thead>\n",
       "    <tr style=\"text-align: right;\">\n",
       "      <th></th>\n",
       "      <th>image_path</th>\n",
       "      <th>category</th>\n",
       "      <th>target</th>\n",
       "      <th>r</th>\n",
       "    </tr>\n",
       "  </thead>\n",
       "  <tbody>\n",
       "    <tr>\n",
       "      <th>3006</th>\n",
       "      <td>../data/알파벳인식/T/r_T/4d_al_r_T_36.jpg</td>\n",
       "      <td>alphabet</td>\n",
       "      <td>T</td>\n",
       "      <td>True</td>\n",
       "    </tr>\n",
       "    <tr>\n",
       "      <th>149</th>\n",
       "      <td>../data/숫자인식/01/n01/4d_n01_50.jpg</td>\n",
       "      <td>number</td>\n",
       "      <td>1</td>\n",
       "      <td>False</td>\n",
       "    </tr>\n",
       "    <tr>\n",
       "      <th>2860</th>\n",
       "      <td>../data/알파벳인식/S/S/4d_al_S_40.jpg</td>\n",
       "      <td>alphabet</td>\n",
       "      <td>S</td>\n",
       "      <td>False</td>\n",
       "    </tr>\n",
       "    <tr>\n",
       "      <th>2552</th>\n",
       "      <td>../data/알파벳인식/P/P/4d_al_P_32.jpg</td>\n",
       "      <td>alphabet</td>\n",
       "      <td>P</td>\n",
       "      <td>False</td>\n",
       "    </tr>\n",
       "    <tr>\n",
       "      <th>2683</th>\n",
       "      <td>../data/알파벳인식/Q/r_Q/4d_al_r_Q_12.jpg</td>\n",
       "      <td>alphabet</td>\n",
       "      <td>Q</td>\n",
       "      <td>True</td>\n",
       "    </tr>\n",
       "    <tr>\n",
       "      <th>3243</th>\n",
       "      <td>../data/알파벳인식/W/W/4d_al_W_23.jpg</td>\n",
       "      <td>alphabet</td>\n",
       "      <td>W</td>\n",
       "      <td>False</td>\n",
       "    </tr>\n",
       "    <tr>\n",
       "      <th>1471</th>\n",
       "      <td>../data/알파벳인식/E/r_E/4d_al_r_E_21.jpg</td>\n",
       "      <td>alphabet</td>\n",
       "      <td>E</td>\n",
       "      <td>True</td>\n",
       "    </tr>\n",
       "    <tr>\n",
       "      <th>2595</th>\n",
       "      <td>../data/알파벳인식/P/r_P/4d_al_r_P_25.jpg</td>\n",
       "      <td>alphabet</td>\n",
       "      <td>P</td>\n",
       "      <td>True</td>\n",
       "    </tr>\n",
       "    <tr>\n",
       "      <th>4124</th>\n",
       "      <td>../data/자유패턴/a_r/a_r_13.jpg</td>\n",
       "      <td>free_pattern</td>\n",
       "      <td>free</td>\n",
       "      <td>None</td>\n",
       "    </tr>\n",
       "    <tr>\n",
       "      <th>2271</th>\n",
       "      <td>../data/알파벳인식/M/r_M/4d_al_r_M_17.jpg</td>\n",
       "      <td>alphabet</td>\n",
       "      <td>M</td>\n",
       "      <td>True</td>\n",
       "    </tr>\n",
       "  </tbody>\n",
       "</table>\n",
       "</div>"
      ],
      "text/plain": [
       "                                image_path      category target      r\n",
       "3006  ../data/알파벳인식/T/r_T/4d_al_r_T_36.jpg      alphabet      T   True\n",
       "149      ../data/숫자인식/01/n01/4d_n01_50.jpg        number      1  False\n",
       "2860      ../data/알파벳인식/S/S/4d_al_S_40.jpg      alphabet      S  False\n",
       "2552      ../data/알파벳인식/P/P/4d_al_P_32.jpg      alphabet      P  False\n",
       "2683  ../data/알파벳인식/Q/r_Q/4d_al_r_Q_12.jpg      alphabet      Q   True\n",
       "3243      ../data/알파벳인식/W/W/4d_al_W_23.jpg      alphabet      W  False\n",
       "1471  ../data/알파벳인식/E/r_E/4d_al_r_E_21.jpg      alphabet      E   True\n",
       "2595  ../data/알파벳인식/P/r_P/4d_al_r_P_25.jpg      alphabet      P   True\n",
       "4124           ../data/자유패턴/a_r/a_r_13.jpg  free_pattern   free   None\n",
       "2271  ../data/알파벳인식/M/r_M/4d_al_r_M_17.jpg      alphabet      M   True"
      ]
     },
     "execution_count": 1,
     "metadata": {},
     "output_type": "execute_result"
    }
   ],
   "source": [
    "from utils import import_train_data\n",
    "df, test_df = import_train_data()\n",
    "df.sample(10)"
   ]
  },
  {
   "cell_type": "code",
   "execution_count": 2,
   "metadata": {},
   "outputs": [
    {
     "data": {
      "text/html": [
       "<div>\n",
       "<style scoped>\n",
       "    .dataframe tbody tr th:only-of-type {\n",
       "        vertical-align: middle;\n",
       "    }\n",
       "\n",
       "    .dataframe tbody tr th {\n",
       "        vertical-align: top;\n",
       "    }\n",
       "\n",
       "    .dataframe thead th {\n",
       "        text-align: right;\n",
       "    }\n",
       "</style>\n",
       "<table border=\"1\" class=\"dataframe\">\n",
       "  <thead>\n",
       "    <tr style=\"text-align: right;\">\n",
       "      <th></th>\n",
       "      <th>image_path</th>\n",
       "      <th>category</th>\n",
       "      <th>target</th>\n",
       "      <th>r</th>\n",
       "      <th>main</th>\n",
       "      <th>alt</th>\n",
       "      <th>main_area</th>\n",
       "      <th>alt_area</th>\n",
       "    </tr>\n",
       "  </thead>\n",
       "  <tbody>\n",
       "    <tr>\n",
       "      <th>1333</th>\n",
       "      <td>../data/알파벳인식/D/D/4d_al_D_33.jpg</td>\n",
       "      <td>alphabet</td>\n",
       "      <td>D</td>\n",
       "      <td>False</td>\n",
       "      <td>[[0, 0, 0, 0, 0, 0, 0, 1, 1, 1, 1, 1, 1, 1, 1,...</td>\n",
       "      <td>[[0, 0, 0, 0, 0, 0, 0, 0, 0, 0, 0, 0, 0, 0, 0,...</td>\n",
       "      <td>0.063337</td>\n",
       "      <td>0.010124</td>\n",
       "    </tr>\n",
       "    <tr>\n",
       "      <th>2765</th>\n",
       "      <td>../data/알파벳인식/R/R/4d_al_R_45.jpg</td>\n",
       "      <td>alphabet</td>\n",
       "      <td>R</td>\n",
       "      <td>False</td>\n",
       "      <td>[[0, 0, 0, 0, 0, 0, 1, 1, 1, 1, 1, 1, 1, 1, 1,...</td>\n",
       "      <td>[[0, 0, 0, 0, 0, 0, 0, 0, 0, 0, 0, 0, 0, 0, 1,...</td>\n",
       "      <td>0.037568</td>\n",
       "      <td>0.008729</td>\n",
       "    </tr>\n",
       "    <tr>\n",
       "      <th>1889</th>\n",
       "      <td>../data/알파벳인식/I/r_I/4d_al_r_I_23.jpg</td>\n",
       "      <td>alphabet</td>\n",
       "      <td>I</td>\n",
       "      <td>True</td>\n",
       "      <td>[[0, 0, 0, 0, 0, 0, 0, 0, 0, 0, 0, 1, 1, 1, 1,...</td>\n",
       "      <td>[[0, 0, 0, 0, 0, 0, 0, 0, 0, 0, 0, 0, 0, 0, 0,...</td>\n",
       "      <td>0.065669</td>\n",
       "      <td>0.020647</td>\n",
       "    </tr>\n",
       "    <tr>\n",
       "      <th>3123</th>\n",
       "      <td>../data/알파벳인식/V/V/4d_al_V_02.jpg</td>\n",
       "      <td>alphabet</td>\n",
       "      <td>V</td>\n",
       "      <td>False</td>\n",
       "      <td>[[0, 0, 0, 0, 0, 0, 0, 0, 0, 0, 0, 0, 0, 0, 0,...</td>\n",
       "      <td>[[0, 0, 0, 0, 0, 0, 0, 0, 0, 0, 1, 1, 1, 1, 1,...</td>\n",
       "      <td>0.038803</td>\n",
       "      <td>0.033482</td>\n",
       "    </tr>\n",
       "    <tr>\n",
       "      <th>3929</th>\n",
       "      <td>../data/자유패턴/30/30_r/30_r22.jpg</td>\n",
       "      <td>free_pattern</td>\n",
       "      <td>free</td>\n",
       "      <td>None</td>\n",
       "      <td>[[0, 0, 0, 0, 0, 1, 1, 1, 0, 0, 0, 0, 0, 0, 0,...</td>\n",
       "      <td>[[1, 0, 0, 0, 0, 0, 0, 0, 0, 0, 0, 0, 0, 0, 0,...</td>\n",
       "      <td>0.170978</td>\n",
       "      <td>0.033921</td>\n",
       "    </tr>\n",
       "  </tbody>\n",
       "</table>\n",
       "</div>"
      ],
      "text/plain": [
       "                                image_path      category target      r   \n",
       "1333      ../data/알파벳인식/D/D/4d_al_D_33.jpg      alphabet      D  False  \\\n",
       "2765      ../data/알파벳인식/R/R/4d_al_R_45.jpg      alphabet      R  False   \n",
       "1889  ../data/알파벳인식/I/r_I/4d_al_r_I_23.jpg      alphabet      I   True   \n",
       "3123      ../data/알파벳인식/V/V/4d_al_V_02.jpg      alphabet      V  False   \n",
       "3929       ../data/자유패턴/30/30_r/30_r22.jpg  free_pattern   free   None   \n",
       "\n",
       "                                                   main   \n",
       "1333  [[0, 0, 0, 0, 0, 0, 0, 1, 1, 1, 1, 1, 1, 1, 1,...  \\\n",
       "2765  [[0, 0, 0, 0, 0, 0, 1, 1, 1, 1, 1, 1, 1, 1, 1,...   \n",
       "1889  [[0, 0, 0, 0, 0, 0, 0, 0, 0, 0, 0, 1, 1, 1, 1,...   \n",
       "3123  [[0, 0, 0, 0, 0, 0, 0, 0, 0, 0, 0, 0, 0, 0, 0,...   \n",
       "3929  [[0, 0, 0, 0, 0, 1, 1, 1, 0, 0, 0, 0, 0, 0, 0,...   \n",
       "\n",
       "                                                    alt  main_area  alt_area  \n",
       "1333  [[0, 0, 0, 0, 0, 0, 0, 0, 0, 0, 0, 0, 0, 0, 0,...   0.063337  0.010124  \n",
       "2765  [[0, 0, 0, 0, 0, 0, 0, 0, 0, 0, 0, 0, 0, 0, 1,...   0.037568  0.008729  \n",
       "1889  [[0, 0, 0, 0, 0, 0, 0, 0, 0, 0, 0, 0, 0, 0, 0,...   0.065669  0.020647  \n",
       "3123  [[0, 0, 0, 0, 0, 0, 0, 0, 0, 0, 1, 1, 1, 1, 1,...   0.038803  0.033482  \n",
       "3929  [[1, 0, 0, 0, 0, 0, 0, 0, 0, 0, 0, 0, 0, 0, 0,...   0.170978  0.033921  "
      ]
     },
     "execution_count": 2,
     "metadata": {},
     "output_type": "execute_result"
    }
   ],
   "source": [
    "from preprocessing import preprocess\n",
    "import pandas as pd\n",
    "df[['main', 'alt', 'main_area', 'alt_area']] = df['image_path'].apply(preprocess).apply(pd.Series)\n",
    "df.sample(5)"
   ]
  },
  {
   "cell_type": "code",
   "execution_count": 3,
   "metadata": {},
   "outputs": [
    {
     "data": {
      "text/html": [
       "<div>\n",
       "<style scoped>\n",
       "    .dataframe tbody tr th:only-of-type {\n",
       "        vertical-align: middle;\n",
       "    }\n",
       "\n",
       "    .dataframe tbody tr th {\n",
       "        vertical-align: top;\n",
       "    }\n",
       "\n",
       "    .dataframe thead th {\n",
       "        text-align: right;\n",
       "    }\n",
       "</style>\n",
       "<table border=\"1\" class=\"dataframe\">\n",
       "  <thead>\n",
       "    <tr style=\"text-align: right;\">\n",
       "      <th></th>\n",
       "      <th>image_path</th>\n",
       "      <th>category</th>\n",
       "      <th>target</th>\n",
       "      <th>r</th>\n",
       "      <th>main</th>\n",
       "      <th>alt</th>\n",
       "      <th>main_area</th>\n",
       "      <th>alt_area</th>\n",
       "    </tr>\n",
       "  </thead>\n",
       "  <tbody>\n",
       "    <tr>\n",
       "      <th>955</th>\n",
       "      <td>../data/알파벳인식/알파벳 추가/test_J/te_J_05.jpg</td>\n",
       "      <td>alphabet</td>\n",
       "      <td>J</td>\n",
       "      <td>False</td>\n",
       "      <td>[[0, 0, 0, 0, 0, 0, 0, 0, 0, 0, 0, 0, 0, 0, 0,...</td>\n",
       "      <td>[[0, 0, 0, 0, 0, 0, 0, 0, 0, 0, 0, 0, 0, 0, 1,...</td>\n",
       "      <td>0.033980</td>\n",
       "      <td>0.023298</td>\n",
       "    </tr>\n",
       "    <tr>\n",
       "      <th>1279</th>\n",
       "      <td>../data/알파벳인식/알파벳 추가/test_P/te_r_P_05.jpg</td>\n",
       "      <td>alphabet</td>\n",
       "      <td>P</td>\n",
       "      <td>True</td>\n",
       "      <td>[[0, 0, 0, 0, 0, 0, 0, 0, 0, 0, 0, 0, 0, 0, 0,...</td>\n",
       "      <td>[[0, 0, 0, 0, 0, 0, 0, 0, 0, 1, 1, 1, 1, 1, 1,...</td>\n",
       "      <td>0.017817</td>\n",
       "      <td>0.038604</td>\n",
       "    </tr>\n",
       "    <tr>\n",
       "      <th>1310</th>\n",
       "      <td>../data/알파벳인식/알파벳 추가/test_Q/te_Q_10.jpg</td>\n",
       "      <td>alphabet</td>\n",
       "      <td>Q</td>\n",
       "      <td>False</td>\n",
       "      <td>[[0, 0, 0, 0, 0, 0, 0, 0, 0, 1, 1, 1, 1, 1, 1,...</td>\n",
       "      <td>[[0, 0, 0, 0, 0, 0, 0, 0, 0, 0, 0, 0, 0, 0, 0,...</td>\n",
       "      <td>0.042570</td>\n",
       "      <td>0.002013</td>\n",
       "    </tr>\n",
       "    <tr>\n",
       "      <th>834</th>\n",
       "      <td>../data/알파벳인식/알파벳 추가/test_G/te_r_G_10.jpg</td>\n",
       "      <td>alphabet</td>\n",
       "      <td>G</td>\n",
       "      <td>True</td>\n",
       "      <td>[[0, 0, 0, 0, 0, 0, 0, 0, 0, 1, 1, 1, 1, 1, 1,...</td>\n",
       "      <td>[[0, 0, 0, 0, 0, 0, 0, 0, 0, 1, 1, 1, 1, 1, 1,...</td>\n",
       "      <td>0.007055</td>\n",
       "      <td>0.031011</td>\n",
       "    </tr>\n",
       "    <tr>\n",
       "      <th>1226</th>\n",
       "      <td>../data/알파벳인식/알파벳 추가/test_O/te_r_O_02.jpg</td>\n",
       "      <td>alphabet</td>\n",
       "      <td>O</td>\n",
       "      <td>True</td>\n",
       "      <td>[[0, 0, 0, 0, 0, 0, 0, 0, 0, 0, 0, 0, 0, 0, 0,...</td>\n",
       "      <td>[[0, 0, 0, 0, 0, 0, 0, 0, 0, 0, 1, 1, 1, 1, 1,...</td>\n",
       "      <td>0.010603</td>\n",
       "      <td>0.049785</td>\n",
       "    </tr>\n",
       "  </tbody>\n",
       "</table>\n",
       "</div>"
      ],
      "text/plain": [
       "                                     image_path  category target      r   \n",
       "955     ../data/알파벳인식/알파벳 추가/test_J/te_J_05.jpg  alphabet      J  False  \\\n",
       "1279  ../data/알파벳인식/알파벳 추가/test_P/te_r_P_05.jpg  alphabet      P   True   \n",
       "1310    ../data/알파벳인식/알파벳 추가/test_Q/te_Q_10.jpg  alphabet      Q  False   \n",
       "834   ../data/알파벳인식/알파벳 추가/test_G/te_r_G_10.jpg  alphabet      G   True   \n",
       "1226  ../data/알파벳인식/알파벳 추가/test_O/te_r_O_02.jpg  alphabet      O   True   \n",
       "\n",
       "                                                   main   \n",
       "955   [[0, 0, 0, 0, 0, 0, 0, 0, 0, 0, 0, 0, 0, 0, 0,...  \\\n",
       "1279  [[0, 0, 0, 0, 0, 0, 0, 0, 0, 0, 0, 0, 0, 0, 0,...   \n",
       "1310  [[0, 0, 0, 0, 0, 0, 0, 0, 0, 1, 1, 1, 1, 1, 1,...   \n",
       "834   [[0, 0, 0, 0, 0, 0, 0, 0, 0, 1, 1, 1, 1, 1, 1,...   \n",
       "1226  [[0, 0, 0, 0, 0, 0, 0, 0, 0, 0, 0, 0, 0, 0, 0,...   \n",
       "\n",
       "                                                    alt  main_area  alt_area  \n",
       "955   [[0, 0, 0, 0, 0, 0, 0, 0, 0, 0, 0, 0, 0, 0, 1,...   0.033980  0.023298  \n",
       "1279  [[0, 0, 0, 0, 0, 0, 0, 0, 0, 1, 1, 1, 1, 1, 1,...   0.017817  0.038604  \n",
       "1310  [[0, 0, 0, 0, 0, 0, 0, 0, 0, 0, 0, 0, 0, 0, 0,...   0.042570  0.002013  \n",
       "834   [[0, 0, 0, 0, 0, 0, 0, 0, 0, 1, 1, 1, 1, 1, 1,...   0.007055  0.031011  \n",
       "1226  [[0, 0, 0, 0, 0, 0, 0, 0, 0, 0, 1, 1, 1, 1, 1,...   0.010603  0.049785  "
      ]
     },
     "execution_count": 3,
     "metadata": {},
     "output_type": "execute_result"
    }
   ],
   "source": [
    "test_df[['main', 'alt', 'main_area', 'alt_area']] = test_df['image_path'].apply(preprocess).apply(pd.Series)\n",
    "test_df.sample(5)"
   ]
  },
  {
   "cell_type": "code",
   "execution_count": 4,
   "metadata": {},
   "outputs": [
    {
     "name": "stderr",
     "output_type": "stream",
     "text": [
      "2023-09-08 08:11:26.080089: I tensorflow/tsl/cuda/cudart_stub.cc:28] Could not find cuda drivers on your machine, GPU will not be used.\n",
      "2023-09-08 08:11:26.530591: I tensorflow/tsl/cuda/cudart_stub.cc:28] Could not find cuda drivers on your machine, GPU will not be used.\n",
      "2023-09-08 08:11:26.532441: I tensorflow/core/platform/cpu_feature_guard.cc:182] This TensorFlow binary is optimized to use available CPU instructions in performance-critical operations.\n",
      "To enable the following instructions: AVX2 FMA, in other operations, rebuild TensorFlow with the appropriate compiler flags.\n",
      "2023-09-08 08:11:28.371989: W tensorflow/compiler/tf2tensorrt/utils/py_utils.cc:38] TF-TRT Warning: Could not find TensorRT\n",
      "2023-09-08 08:11:30.801421: I tensorflow/compiler/xla/stream_executor/cuda/cuda_gpu_executor.cc:995] successful NUMA node read from SysFS had negative value (-1), but there must be at least one NUMA node, so returning NUMA node zero. See more at https://github.com/torvalds/linux/blob/v6.0/Documentation/ABI/testing/sysfs-bus-pci#L344-L355\n",
      "2023-09-08 08:11:31.057789: W tensorflow/core/common_runtime/gpu/gpu_device.cc:1960] Cannot dlopen some GPU libraries. Please make sure the missing libraries mentioned above are installed properly if you would like to use GPU. Follow the guide at https://www.tensorflow.org/install/gpu for how to download and setup the required libraries for your platform.\n",
      "Skipping registering GPU devices...\n"
     ]
    }
   ],
   "source": [
    "# load model \n",
    "from keras.models import load_model\n",
    "model = load_model('../models/resnet_2.hdf5')"
   ]
  },
  {
   "cell_type": "code",
   "execution_count": 9,
   "metadata": {},
   "outputs": [
    {
     "name": "stdout",
     "output_type": "stream",
     "text": [
      "125/125 [==============================] - 77s 619ms/step\n",
      "125/125 [==============================] - 76s 610ms/step\n"
     ]
    }
   ],
   "source": [
    "import numpy as np\n",
    "main_pred = model.predict(np.stack(df['main'].values))\n",
    "alt_pred = model.predict(np.stack(df['alt'].values))\n",
    "df['main_pred'] = main_pred.tolist()\n",
    "df['alt_pred'] = alt_pred.tolist()"
   ]
  },
  {
   "cell_type": "code",
   "execution_count": 6,
   "metadata": {},
   "outputs": [
    {
     "name": "stdout",
     "output_type": "stream",
     "text": [
      "62/62 [==============================] - 38s 611ms/step\n",
      "62/62 [==============================] - 38s 614ms/step\n"
     ]
    }
   ],
   "source": [
    "X_test_main = np.stack(test_df['main'].values)\n",
    "test_main_pred = model.predict(X_test_main)\n",
    "X_test_alt = np.stack(test_df['alt'].values)\n",
    "test_alt_pred = model.predict(X_test_alt)\n",
    "\n",
    "test_df['main_pred'] = test_main_pred.tolist()\n",
    "test_df['alt_pred'] = test_alt_pred.tolist()"
   ]
  },
  {
   "cell_type": "code",
   "execution_count": 10,
   "metadata": {},
   "outputs": [
    {
     "data": {
      "text/plain": [
       "'5'"
      ]
     },
     "execution_count": 10,
     "metadata": {},
     "output_type": "execute_result"
    }
   ],
   "source": [
    "classes = [str(i) for i in range(10)] + [chr(i) for i in range(ord('A'), ord('Z')+1)] + ['free']\n",
    "classes[np.argmax(df.iloc[500]['main_pred'])]"
   ]
  },
  {
   "cell_type": "code",
   "execution_count": 11,
   "metadata": {},
   "outputs": [
    {
     "data": {
      "text/html": [
       "<div>\n",
       "<style scoped>\n",
       "    .dataframe tbody tr th:only-of-type {\n",
       "        vertical-align: middle;\n",
       "    }\n",
       "\n",
       "    .dataframe tbody tr th {\n",
       "        vertical-align: top;\n",
       "    }\n",
       "\n",
       "    .dataframe thead th {\n",
       "        text-align: right;\n",
       "    }\n",
       "</style>\n",
       "<table border=\"1\" class=\"dataframe\">\n",
       "  <thead>\n",
       "    <tr style=\"text-align: right;\">\n",
       "      <th></th>\n",
       "      <th>image_path</th>\n",
       "      <th>category</th>\n",
       "      <th>target</th>\n",
       "      <th>r</th>\n",
       "      <th>main</th>\n",
       "      <th>alt</th>\n",
       "      <th>main_area</th>\n",
       "      <th>alt_area</th>\n",
       "      <th>main_pred</th>\n",
       "      <th>alt_pred</th>\n",
       "      <th>label</th>\n",
       "    </tr>\n",
       "  </thead>\n",
       "  <tbody>\n",
       "    <tr>\n",
       "      <th>3345</th>\n",
       "      <td>../data/알파벳인식/X/X/4d_al_X_25.jpg</td>\n",
       "      <td>alphabet</td>\n",
       "      <td>X</td>\n",
       "      <td>False</td>\n",
       "      <td>[[0, 0, 0, 0, 1, 1, 0, 0, 0, 0, 0, 0, 0, 0, 0,...</td>\n",
       "      <td>[[0, 0, 0, 0, 0, 0, 0, 0, 0, 1, 1, 1, 1, 1, 1,...</td>\n",
       "      <td>0.021445</td>\n",
       "      <td>0.018037</td>\n",
       "      <td>[9.30601527215913e-06, 2.040859668761552e-11, ...</td>\n",
       "      <td>[4.8716506171331275e-06, 0.003301548073068261,...</td>\n",
       "      <td>X_False</td>\n",
       "    </tr>\n",
       "    <tr>\n",
       "      <th>483</th>\n",
       "      <td>../data/숫자인식/04/r_n04/4d_r_n04_34.jpg</td>\n",
       "      <td>number</td>\n",
       "      <td>4</td>\n",
       "      <td>True</td>\n",
       "      <td>[[0, 0, 0, 0, 0, 0, 0, 0, 0, 0, 0, 0, 1, 1, 1,...</td>\n",
       "      <td>[[0, 0, 0, 0, 0, 1, 1, 1, 1, 0, 0, 0, 0, 0, 0,...</td>\n",
       "      <td>0.050841</td>\n",
       "      <td>0.041414</td>\n",
       "      <td>[0.0007839232566766441, 4.946025910612661e-06,...</td>\n",
       "      <td>[3.160679010183465e-11, 2.7437722233125683e-12...</td>\n",
       "      <td>4_True</td>\n",
       "    </tr>\n",
       "    <tr>\n",
       "      <th>2313</th>\n",
       "      <td>../data/알파벳인식/M/r_M/4d_al_r_M_43.jpg</td>\n",
       "      <td>alphabet</td>\n",
       "      <td>M</td>\n",
       "      <td>True</td>\n",
       "      <td>[[0, 0, 0, 0, 0, 0, 0, 0, 0, 0, 0, 0, 0, 0, 0,...</td>\n",
       "      <td>[[0, 0, 0, 0, 0, 0, 0, 1, 0, 0, 1, 1, 1, 1, 1,...</td>\n",
       "      <td>0.012157</td>\n",
       "      <td>0.054070</td>\n",
       "      <td>[0.010283438488841057, 4.7165673322524526e-07,...</td>\n",
       "      <td>[4.364933192846365e-05, 1.2132997539993085e-07...</td>\n",
       "      <td>M_True</td>\n",
       "    </tr>\n",
       "    <tr>\n",
       "      <th>743</th>\n",
       "      <td>../data/숫자인식/07/n07/4d_n07_44.jpg</td>\n",
       "      <td>number</td>\n",
       "      <td>7</td>\n",
       "      <td>False</td>\n",
       "      <td>[[0, 0, 0, 0, 0, 0, 1, 1, 1, 1, 1, 1, 1, 1, 1,...</td>\n",
       "      <td>[[0, 0, 0, 0, 0, 0, 0, 0, 1, 1, 0, 0, 0, 0, 0,...</td>\n",
       "      <td>0.039959</td>\n",
       "      <td>0.039561</td>\n",
       "      <td>[1.441181836413577e-13, 8.299459182126157e-07,...</td>\n",
       "      <td>[2.8857812139904127e-07, 0.0001143086119554936...</td>\n",
       "      <td>7_False</td>\n",
       "    </tr>\n",
       "    <tr>\n",
       "      <th>2267</th>\n",
       "      <td>../data/알파벳인식/M/M/4d_al_M_47.jpg</td>\n",
       "      <td>alphabet</td>\n",
       "      <td>M</td>\n",
       "      <td>False</td>\n",
       "      <td>[[0, 0, 0, 0, 0, 0, 0, 0, 0, 0, 0, 1, 1, 1, 1,...</td>\n",
       "      <td>[[0, 0, 0, 0, 0, 0, 0, 0, 0, 0, 0, 0, 0, 0, 0,...</td>\n",
       "      <td>0.065489</td>\n",
       "      <td>0.011978</td>\n",
       "      <td>[0.0020334008149802685, 8.530264494766016e-06,...</td>\n",
       "      <td>[1.1905534847755916e-05, 0.24876628816127777, ...</td>\n",
       "      <td>M_False</td>\n",
       "    </tr>\n",
       "  </tbody>\n",
       "</table>\n",
       "</div>"
      ],
      "text/plain": [
       "                                 image_path  category target      r   \n",
       "3345       ../data/알파벳인식/X/X/4d_al_X_25.jpg  alphabet      X  False  \\\n",
       "483   ../data/숫자인식/04/r_n04/4d_r_n04_34.jpg    number      4   True   \n",
       "2313   ../data/알파벳인식/M/r_M/4d_al_r_M_43.jpg  alphabet      M   True   \n",
       "743       ../data/숫자인식/07/n07/4d_n07_44.jpg    number      7  False   \n",
       "2267       ../data/알파벳인식/M/M/4d_al_M_47.jpg  alphabet      M  False   \n",
       "\n",
       "                                                   main   \n",
       "3345  [[0, 0, 0, 0, 1, 1, 0, 0, 0, 0, 0, 0, 0, 0, 0,...  \\\n",
       "483   [[0, 0, 0, 0, 0, 0, 0, 0, 0, 0, 0, 0, 1, 1, 1,...   \n",
       "2313  [[0, 0, 0, 0, 0, 0, 0, 0, 0, 0, 0, 0, 0, 0, 0,...   \n",
       "743   [[0, 0, 0, 0, 0, 0, 1, 1, 1, 1, 1, 1, 1, 1, 1,...   \n",
       "2267  [[0, 0, 0, 0, 0, 0, 0, 0, 0, 0, 0, 1, 1, 1, 1,...   \n",
       "\n",
       "                                                    alt  main_area  alt_area   \n",
       "3345  [[0, 0, 0, 0, 0, 0, 0, 0, 0, 1, 1, 1, 1, 1, 1,...   0.021445  0.018037  \\\n",
       "483   [[0, 0, 0, 0, 0, 1, 1, 1, 1, 0, 0, 0, 0, 0, 0,...   0.050841  0.041414   \n",
       "2313  [[0, 0, 0, 0, 0, 0, 0, 1, 0, 0, 1, 1, 1, 1, 1,...   0.012157  0.054070   \n",
       "743   [[0, 0, 0, 0, 0, 0, 0, 0, 1, 1, 0, 0, 0, 0, 0,...   0.039959  0.039561   \n",
       "2267  [[0, 0, 0, 0, 0, 0, 0, 0, 0, 0, 0, 0, 0, 0, 0,...   0.065489  0.011978   \n",
       "\n",
       "                                              main_pred   \n",
       "3345  [9.30601527215913e-06, 2.040859668761552e-11, ...  \\\n",
       "483   [0.0007839232566766441, 4.946025910612661e-06,...   \n",
       "2313  [0.010283438488841057, 4.7165673322524526e-07,...   \n",
       "743   [1.441181836413577e-13, 8.299459182126157e-07,...   \n",
       "2267  [0.0020334008149802685, 8.530264494766016e-06,...   \n",
       "\n",
       "                                               alt_pred    label  \n",
       "3345  [4.8716506171331275e-06, 0.003301548073068261,...  X_False  \n",
       "483   [3.160679010183465e-11, 2.7437722233125683e-12...   4_True  \n",
       "2313  [4.364933192846365e-05, 1.2132997539993085e-07...   M_True  \n",
       "743   [2.8857812139904127e-07, 0.0001143086119554936...  7_False  \n",
       "2267  [1.1905534847755916e-05, 0.24876628816127777, ...  M_False  "
      ]
     },
     "execution_count": 11,
     "metadata": {},
     "output_type": "execute_result"
    }
   ],
   "source": [
    "df['label'] = df['target'] + '_' + df['r'].astype(str)\n",
    "df.sample(5)"
   ]
  },
  {
   "cell_type": "code",
   "execution_count": 43,
   "metadata": {},
   "outputs": [
    {
     "data": {
      "text/html": [
       "<div>\n",
       "<style scoped>\n",
       "    .dataframe tbody tr th:only-of-type {\n",
       "        vertical-align: middle;\n",
       "    }\n",
       "\n",
       "    .dataframe tbody tr th {\n",
       "        vertical-align: top;\n",
       "    }\n",
       "\n",
       "    .dataframe thead th {\n",
       "        text-align: right;\n",
       "    }\n",
       "</style>\n",
       "<table border=\"1\" class=\"dataframe\">\n",
       "  <thead>\n",
       "    <tr style=\"text-align: right;\">\n",
       "      <th></th>\n",
       "      <th>image_path</th>\n",
       "      <th>category</th>\n",
       "      <th>target</th>\n",
       "      <th>r</th>\n",
       "      <th>main</th>\n",
       "      <th>alt</th>\n",
       "      <th>main_area</th>\n",
       "      <th>alt_area</th>\n",
       "      <th>main_pred</th>\n",
       "      <th>alt_pred</th>\n",
       "      <th>label</th>\n",
       "    </tr>\n",
       "  </thead>\n",
       "  <tbody>\n",
       "    <tr>\n",
       "      <th>162</th>\n",
       "      <td>../data/숫자인식/숫자 추가/test_3/te_3_12.jpg</td>\n",
       "      <td>number</td>\n",
       "      <td>3</td>\n",
       "      <td>False</td>\n",
       "      <td>[[0, 0, 0, 0, 0, 0, 0, 1, 1, 1, 1, 1, 1, 1, 1,...</td>\n",
       "      <td>[[0, 0, 0, 0, 0, 0, 0, 0, 0, 0, 0, 0, 1, 1, 1,...</td>\n",
       "      <td>0.058634</td>\n",
       "      <td>0.023438</td>\n",
       "      <td>[7.710996285936744e-10, 3.729146413888884e-08,...</td>\n",
       "      <td>[1.9446233512354638e-10, 0.011664950288832188,...</td>\n",
       "      <td>3_False</td>\n",
       "    </tr>\n",
       "    <tr>\n",
       "      <th>341</th>\n",
       "      <td>../data/숫자인식/숫자 추가/test_6/te_r_6_17.jpg</td>\n",
       "      <td>number</td>\n",
       "      <td>6</td>\n",
       "      <td>True</td>\n",
       "      <td>[[0, 0, 0, 0, 0, 0, 0, 0, 0, 0, 0, 0, 0, 0, 1,...</td>\n",
       "      <td>[[0, 0, 0, 0, 0, 0, 0, 0, 0, 0, 1, 0, 0, 0, 0,...</td>\n",
       "      <td>0.009686</td>\n",
       "      <td>0.052196</td>\n",
       "      <td>[2.9387052563834004e-05, 0.008921420201659203,...</td>\n",
       "      <td>[4.275336085157733e-09, 1.0769600489179965e-11...</td>\n",
       "      <td>6_True</td>\n",
       "    </tr>\n",
       "    <tr>\n",
       "      <th>653</th>\n",
       "      <td>../data/알파벳인식/알파벳 추가/test_D/te_D_03.jpg</td>\n",
       "      <td>alphabet</td>\n",
       "      <td>D</td>\n",
       "      <td>False</td>\n",
       "      <td>[[0, 0, 0, 0, 0, 0, 0, 0, 1, 1, 1, 1, 1, 1, 1,...</td>\n",
       "      <td>[[0, 0, 0, 0, 0, 0, 0, 0, 0, 0, 0, 0, 0, 0, 0,...</td>\n",
       "      <td>0.066386</td>\n",
       "      <td>0.009825</td>\n",
       "      <td>[6.382806168403476e-05, 4.006299181291695e-10,...</td>\n",
       "      <td>[3.4013546610367484e-06, 3.580611155484803e-05...</td>\n",
       "      <td>D_False</td>\n",
       "    </tr>\n",
       "    <tr>\n",
       "      <th>1667</th>\n",
       "      <td>../data/알파벳인식/알파벳 추가/test_X/te_r_X_17.jpg</td>\n",
       "      <td>alphabet</td>\n",
       "      <td>X</td>\n",
       "      <td>True</td>\n",
       "      <td>[[0, 0, 0, 0, 0, 0, 0, 0, 0, 1, 1, 1, 1, 1, 1,...</td>\n",
       "      <td>[[0, 0, 0, 0, 0, 0, 1, 1, 0, 0, 0, 0, 0, 0, 0,...</td>\n",
       "      <td>0.026606</td>\n",
       "      <td>0.036432</td>\n",
       "      <td>[2.7731456953006273e-07, 0.5089309215545654, 1...</td>\n",
       "      <td>[2.4381361072300933e-06, 3.747935011233494e-07...</td>\n",
       "      <td>X_True</td>\n",
       "    </tr>\n",
       "    <tr>\n",
       "      <th>649</th>\n",
       "      <td>../data/알파벳인식/알파벳 추가/test_C/te_r_C_25.jpg</td>\n",
       "      <td>alphabet</td>\n",
       "      <td>C</td>\n",
       "      <td>True</td>\n",
       "      <td>[[0, 0, 0, 0, 0, 0, 0, 0, 0, 0, 0, 0, 0, 0, 0,...</td>\n",
       "      <td>[[0, 0, 0, 0, 0, 0, 0, 0, 0, 0, 0, 0, 1, 1, 1,...</td>\n",
       "      <td>0.020627</td>\n",
       "      <td>0.033960</td>\n",
       "      <td>[1.3022383171801266e-08, 0.0002291582350153476...</td>\n",
       "      <td>[1.5786876872425637e-07, 1.765740265113891e-08...</td>\n",
       "      <td>C_True</td>\n",
       "    </tr>\n",
       "  </tbody>\n",
       "</table>\n",
       "</div>"
      ],
      "text/plain": [
       "                                     image_path  category target      r   \n",
       "162       ../data/숫자인식/숫자 추가/test_3/te_3_12.jpg    number      3  False  \\\n",
       "341     ../data/숫자인식/숫자 추가/test_6/te_r_6_17.jpg    number      6   True   \n",
       "653     ../data/알파벳인식/알파벳 추가/test_D/te_D_03.jpg  alphabet      D  False   \n",
       "1667  ../data/알파벳인식/알파벳 추가/test_X/te_r_X_17.jpg  alphabet      X   True   \n",
       "649   ../data/알파벳인식/알파벳 추가/test_C/te_r_C_25.jpg  alphabet      C   True   \n",
       "\n",
       "                                                   main   \n",
       "162   [[0, 0, 0, 0, 0, 0, 0, 1, 1, 1, 1, 1, 1, 1, 1,...  \\\n",
       "341   [[0, 0, 0, 0, 0, 0, 0, 0, 0, 0, 0, 0, 0, 0, 1,...   \n",
       "653   [[0, 0, 0, 0, 0, 0, 0, 0, 1, 1, 1, 1, 1, 1, 1,...   \n",
       "1667  [[0, 0, 0, 0, 0, 0, 0, 0, 0, 1, 1, 1, 1, 1, 1,...   \n",
       "649   [[0, 0, 0, 0, 0, 0, 0, 0, 0, 0, 0, 0, 0, 0, 0,...   \n",
       "\n",
       "                                                    alt  main_area  alt_area   \n",
       "162   [[0, 0, 0, 0, 0, 0, 0, 0, 0, 0, 0, 0, 1, 1, 1,...   0.058634  0.023438  \\\n",
       "341   [[0, 0, 0, 0, 0, 0, 0, 0, 0, 0, 1, 0, 0, 0, 0,...   0.009686  0.052196   \n",
       "653   [[0, 0, 0, 0, 0, 0, 0, 0, 0, 0, 0, 0, 0, 0, 0,...   0.066386  0.009825   \n",
       "1667  [[0, 0, 0, 0, 0, 0, 1, 1, 0, 0, 0, 0, 0, 0, 0,...   0.026606  0.036432   \n",
       "649   [[0, 0, 0, 0, 0, 0, 0, 0, 0, 0, 0, 0, 1, 1, 1,...   0.020627  0.033960   \n",
       "\n",
       "                                              main_pred   \n",
       "162   [7.710996285936744e-10, 3.729146413888884e-08,...  \\\n",
       "341   [2.9387052563834004e-05, 0.008921420201659203,...   \n",
       "653   [6.382806168403476e-05, 4.006299181291695e-10,...   \n",
       "1667  [2.7731456953006273e-07, 0.5089309215545654, 1...   \n",
       "649   [1.3022383171801266e-08, 0.0002291582350153476...   \n",
       "\n",
       "                                               alt_pred    label  \n",
       "162   [1.9446233512354638e-10, 0.011664950288832188,...  3_False  \n",
       "341   [4.275336085157733e-09, 1.0769600489179965e-11...   6_True  \n",
       "653   [3.4013546610367484e-06, 3.580611155484803e-05...  D_False  \n",
       "1667  [2.4381361072300933e-06, 3.747935011233494e-07...   X_True  \n",
       "649   [1.5786876872425637e-07, 1.765740265113891e-08...   C_True  "
      ]
     },
     "execution_count": 43,
     "metadata": {},
     "output_type": "execute_result"
    }
   ],
   "source": [
    "test_df['label'] = test_df['target'] + '_' + test_df['r'].astype(str)\n",
    "test_df.sample(5)"
   ]
  },
  {
   "cell_type": "code",
   "execution_count": null,
   "metadata": {},
   "outputs": [
    {
     "data": {
      "text/plain": [
       "array(['0_False', '0_True', '1_False', '1_True', '2_False', '2_True',\n",
       "       '3_False', '3_True', '4_False', '4_True', '5_False', '5_True',\n",
       "       '6_False', '6_True', '7_False', '7_True', '8_False', '8_True',\n",
       "       '9_False', '9_True', 'A_False', 'A_True', 'B_False', 'B_True',\n",
       "       'C_False', 'C_True', 'D_False', 'D_True', 'E_False', 'E_True',\n",
       "       'F_False', 'F_True', 'G_False', 'G_True', 'H_False', 'H_True',\n",
       "       'I_False', 'I_True', 'J_False', 'J_True', 'K_False', 'K_True',\n",
       "       'L_False', 'L_True', 'M_False', 'M_True', 'N_False', 'N_True',\n",
       "       'O_False', 'O_True', 'P_False', 'P_True', 'Q_False', 'Q_True',\n",
       "       'R_False', 'R_True', 'S_False', 'S_True', 'T_False', 'T_True',\n",
       "       'U_False', 'U_True', 'V_False', 'V_True', 'W_False', 'W_True',\n",
       "       'X_False', 'X_True', 'Y_False', 'Y_True', 'Z_False', 'Z_True',\n",
       "       'free_None'], dtype=object)"
      ]
     },
     "execution_count": 41,
     "metadata": {},
     "output_type": "execute_result"
    }
   ],
   "source": [
    "df['label'].unique()"
   ]
  },
  {
   "cell_type": "code",
   "execution_count": 35,
   "metadata": {},
   "outputs": [
    {
     "data": {
      "text/plain": [
       "(3971, 76)"
      ]
     },
     "execution_count": 35,
     "metadata": {},
     "output_type": "execute_result"
    }
   ],
   "source": [
    "X_subset = df[['main_area', 'alt_area']].copy()  # Create a copy of the subset\n",
    "X_main_pred = pd.DataFrame(df['main_pred'].tolist(), columns=[f'main_{c}' for c in classes]).copy()\n",
    "X_alt_pred = pd.DataFrame(df['alt_pred'].tolist(), columns=[f'alt_{c}' for c in classes]).copy()\n",
    "\n",
    "X_subset.reset_index(drop=True, inplace=True)\n",
    "X_main_pred.reset_index(drop=True, inplace=True)\n",
    "X_alt_pred.reset_index(drop=True, inplace=True)\n",
    "\n",
    "X = pd.concat([X_subset, X_main_pred, X_alt_pred], axis=1)\n",
    "X.shape"
   ]
  },
  {
   "cell_type": "code",
   "execution_count": 36,
   "metadata": {},
   "outputs": [
    {
     "data": {
      "text/html": [
       "<div>\n",
       "<style scoped>\n",
       "    .dataframe tbody tr th:only-of-type {\n",
       "        vertical-align: middle;\n",
       "    }\n",
       "\n",
       "    .dataframe tbody tr th {\n",
       "        vertical-align: top;\n",
       "    }\n",
       "\n",
       "    .dataframe thead th {\n",
       "        text-align: right;\n",
       "    }\n",
       "</style>\n",
       "<table border=\"1\" class=\"dataframe\">\n",
       "  <thead>\n",
       "    <tr style=\"text-align: right;\">\n",
       "      <th></th>\n",
       "      <th>main_area</th>\n",
       "      <th>alt_area</th>\n",
       "      <th>main_0</th>\n",
       "      <th>main_1</th>\n",
       "      <th>main_2</th>\n",
       "      <th>main_3</th>\n",
       "      <th>main_4</th>\n",
       "      <th>main_5</th>\n",
       "      <th>main_6</th>\n",
       "      <th>main_7</th>\n",
       "      <th>...</th>\n",
       "      <th>alt_R</th>\n",
       "      <th>alt_S</th>\n",
       "      <th>alt_T</th>\n",
       "      <th>alt_U</th>\n",
       "      <th>alt_V</th>\n",
       "      <th>alt_W</th>\n",
       "      <th>alt_X</th>\n",
       "      <th>alt_Y</th>\n",
       "      <th>alt_Z</th>\n",
       "      <th>alt_free</th>\n",
       "    </tr>\n",
       "  </thead>\n",
       "  <tbody>\n",
       "    <tr>\n",
       "      <th>0</th>\n",
       "      <td>0.081513</td>\n",
       "      <td>0.014270</td>\n",
       "      <td>0.383122</td>\n",
       "      <td>3.030231e-09</td>\n",
       "      <td>5.471909e-08</td>\n",
       "      <td>6.179138e-07</td>\n",
       "      <td>8.358946e-07</td>\n",
       "      <td>1.395833e-08</td>\n",
       "      <td>1.762581e-05</td>\n",
       "      <td>2.366909e-07</td>\n",
       "      <td>...</td>\n",
       "      <td>9.632735e-08</td>\n",
       "      <td>3.642769e-05</td>\n",
       "      <td>0.000681</td>\n",
       "      <td>2.057943e-05</td>\n",
       "      <td>5.115156e-04</td>\n",
       "      <td>0.000131</td>\n",
       "      <td>1.808513e-05</td>\n",
       "      <td>0.076008</td>\n",
       "      <td>5.215907e-05</td>\n",
       "      <td>0.604226</td>\n",
       "    </tr>\n",
       "    <tr>\n",
       "      <th>1</th>\n",
       "      <td>0.065250</td>\n",
       "      <td>0.011320</td>\n",
       "      <td>0.261443</td>\n",
       "      <td>3.732837e-10</td>\n",
       "      <td>7.054518e-09</td>\n",
       "      <td>1.315032e-08</td>\n",
       "      <td>7.833899e-08</td>\n",
       "      <td>5.035292e-10</td>\n",
       "      <td>3.348543e-07</td>\n",
       "      <td>1.124877e-08</td>\n",
       "      <td>...</td>\n",
       "      <td>3.695701e-04</td>\n",
       "      <td>9.464464e-07</td>\n",
       "      <td>0.000001</td>\n",
       "      <td>2.443834e-04</td>\n",
       "      <td>2.445323e-09</td>\n",
       "      <td>0.000020</td>\n",
       "      <td>1.207210e-05</td>\n",
       "      <td>0.000001</td>\n",
       "      <td>1.643580e-08</td>\n",
       "      <td>0.339690</td>\n",
       "    </tr>\n",
       "    <tr>\n",
       "      <th>2</th>\n",
       "      <td>0.074358</td>\n",
       "      <td>0.012616</td>\n",
       "      <td>0.370475</td>\n",
       "      <td>1.977711e-10</td>\n",
       "      <td>1.295220e-09</td>\n",
       "      <td>5.128452e-10</td>\n",
       "      <td>4.361833e-07</td>\n",
       "      <td>1.047308e-10</td>\n",
       "      <td>4.712907e-07</td>\n",
       "      <td>9.380712e-09</td>\n",
       "      <td>...</td>\n",
       "      <td>6.095544e-06</td>\n",
       "      <td>4.480606e-05</td>\n",
       "      <td>0.000042</td>\n",
       "      <td>1.216315e-06</td>\n",
       "      <td>4.553722e-07</td>\n",
       "      <td>0.000001</td>\n",
       "      <td>1.970277e-07</td>\n",
       "      <td>0.000027</td>\n",
       "      <td>8.624671e-06</td>\n",
       "      <td>0.989064</td>\n",
       "    </tr>\n",
       "    <tr>\n",
       "      <th>3</th>\n",
       "      <td>0.074199</td>\n",
       "      <td>0.013174</td>\n",
       "      <td>0.283148</td>\n",
       "      <td>1.163601e-11</td>\n",
       "      <td>2.972076e-10</td>\n",
       "      <td>2.185535e-10</td>\n",
       "      <td>1.316113e-08</td>\n",
       "      <td>1.757751e-11</td>\n",
       "      <td>6.764365e-08</td>\n",
       "      <td>1.271352e-09</td>\n",
       "      <td>...</td>\n",
       "      <td>4.329548e-11</td>\n",
       "      <td>3.168283e-08</td>\n",
       "      <td>0.000009</td>\n",
       "      <td>2.105101e-07</td>\n",
       "      <td>1.286581e-08</td>\n",
       "      <td>0.000007</td>\n",
       "      <td>3.376146e-08</td>\n",
       "      <td>0.001397</td>\n",
       "      <td>1.487212e-08</td>\n",
       "      <td>0.429306</td>\n",
       "    </tr>\n",
       "    <tr>\n",
       "      <th>4</th>\n",
       "      <td>0.084602</td>\n",
       "      <td>0.018136</td>\n",
       "      <td>0.272623</td>\n",
       "      <td>1.892663e-09</td>\n",
       "      <td>2.836199e-09</td>\n",
       "      <td>4.074519e-08</td>\n",
       "      <td>7.568593e-09</td>\n",
       "      <td>6.065674e-10</td>\n",
       "      <td>3.097977e-07</td>\n",
       "      <td>3.912355e-08</td>\n",
       "      <td>...</td>\n",
       "      <td>1.253641e-05</td>\n",
       "      <td>3.439815e-02</td>\n",
       "      <td>0.098178</td>\n",
       "      <td>1.318702e-04</td>\n",
       "      <td>2.488329e-04</td>\n",
       "      <td>0.000005</td>\n",
       "      <td>2.258114e-06</td>\n",
       "      <td>0.030499</td>\n",
       "      <td>5.551591e-04</td>\n",
       "      <td>0.253455</td>\n",
       "    </tr>\n",
       "  </tbody>\n",
       "</table>\n",
       "<p>5 rows × 76 columns</p>\n",
       "</div>"
      ],
      "text/plain": [
       "   main_area  alt_area    main_0        main_1        main_2        main_3   \n",
       "0   0.081513  0.014270  0.383122  3.030231e-09  5.471909e-08  6.179138e-07  \\\n",
       "1   0.065250  0.011320  0.261443  3.732837e-10  7.054518e-09  1.315032e-08   \n",
       "2   0.074358  0.012616  0.370475  1.977711e-10  1.295220e-09  5.128452e-10   \n",
       "3   0.074199  0.013174  0.283148  1.163601e-11  2.972076e-10  2.185535e-10   \n",
       "4   0.084602  0.018136  0.272623  1.892663e-09  2.836199e-09  4.074519e-08   \n",
       "\n",
       "         main_4        main_5        main_6        main_7  ...         alt_R   \n",
       "0  8.358946e-07  1.395833e-08  1.762581e-05  2.366909e-07  ...  9.632735e-08  \\\n",
       "1  7.833899e-08  5.035292e-10  3.348543e-07  1.124877e-08  ...  3.695701e-04   \n",
       "2  4.361833e-07  1.047308e-10  4.712907e-07  9.380712e-09  ...  6.095544e-06   \n",
       "3  1.316113e-08  1.757751e-11  6.764365e-08  1.271352e-09  ...  4.329548e-11   \n",
       "4  7.568593e-09  6.065674e-10  3.097977e-07  3.912355e-08  ...  1.253641e-05   \n",
       "\n",
       "          alt_S     alt_T         alt_U         alt_V     alt_W         alt_X   \n",
       "0  3.642769e-05  0.000681  2.057943e-05  5.115156e-04  0.000131  1.808513e-05  \\\n",
       "1  9.464464e-07  0.000001  2.443834e-04  2.445323e-09  0.000020  1.207210e-05   \n",
       "2  4.480606e-05  0.000042  1.216315e-06  4.553722e-07  0.000001  1.970277e-07   \n",
       "3  3.168283e-08  0.000009  2.105101e-07  1.286581e-08  0.000007  3.376146e-08   \n",
       "4  3.439815e-02  0.098178  1.318702e-04  2.488329e-04  0.000005  2.258114e-06   \n",
       "\n",
       "      alt_Y         alt_Z  alt_free  \n",
       "0  0.076008  5.215907e-05  0.604226  \n",
       "1  0.000001  1.643580e-08  0.339690  \n",
       "2  0.000027  8.624671e-06  0.989064  \n",
       "3  0.001397  1.487212e-08  0.429306  \n",
       "4  0.030499  5.551591e-04  0.253455  \n",
       "\n",
       "[5 rows x 76 columns]"
      ]
     },
     "execution_count": 36,
     "metadata": {},
     "output_type": "execute_result"
    }
   ],
   "source": [
    "X.head()"
   ]
  },
  {
   "cell_type": "code",
   "execution_count": 19,
   "metadata": {},
   "outputs": [
    {
     "data": {
      "text/plain": [
       "array(['0_False', '0_True', '1_False', '1_True', '2_False', '2_True',\n",
       "       '3_False', '3_True', '4_False', '4_True', '5_False', '5_True',\n",
       "       '6_False', '6_True', '7_False', '7_True', '8_False', '8_True',\n",
       "       '9_False', '9_True', 'A_False', 'A_True', 'B_False', 'B_True',\n",
       "       'C_False', 'C_True', 'D_False', 'D_True', 'E_False', 'E_True',\n",
       "       'F_False', 'F_True', 'G_False', 'G_True', 'H_False', 'H_True',\n",
       "       'I_False', 'I_True', 'J_False', 'J_True', 'K_False', 'K_True',\n",
       "       'L_False', 'L_True', 'M_False', 'M_True', 'N_False', 'N_True',\n",
       "       'O_False', 'O_True', 'P_False', 'P_True', 'Q_False', 'Q_True',\n",
       "       'R_False', 'R_True', 'S_False', 'S_True', 'T_False', 'T_True',\n",
       "       'U_False', 'U_True', 'V_False', 'V_True', 'W_False', 'W_True',\n",
       "       'X_False', 'X_True', 'Y_False', 'Y_True', 'Z_False', 'Z_True',\n",
       "       'free_None'], dtype=object)"
      ]
     },
     "execution_count": 19,
     "metadata": {},
     "output_type": "execute_result"
    }
   ],
   "source": [
    "y = df['label'].copy()\n",
    "y.unique()"
   ]
  },
  {
   "cell_type": "code",
   "execution_count": 37,
   "metadata": {},
   "outputs": [
    {
     "data": {
      "text/html": [
       "<style>#sk-container-id-1 {color: black;}#sk-container-id-1 pre{padding: 0;}#sk-container-id-1 div.sk-toggleable {background-color: white;}#sk-container-id-1 label.sk-toggleable__label {cursor: pointer;display: block;width: 100%;margin-bottom: 0;padding: 0.3em;box-sizing: border-box;text-align: center;}#sk-container-id-1 label.sk-toggleable__label-arrow:before {content: \"▸\";float: left;margin-right: 0.25em;color: #696969;}#sk-container-id-1 label.sk-toggleable__label-arrow:hover:before {color: black;}#sk-container-id-1 div.sk-estimator:hover label.sk-toggleable__label-arrow:before {color: black;}#sk-container-id-1 div.sk-toggleable__content {max-height: 0;max-width: 0;overflow: hidden;text-align: left;background-color: #f0f8ff;}#sk-container-id-1 div.sk-toggleable__content pre {margin: 0.2em;color: black;border-radius: 0.25em;background-color: #f0f8ff;}#sk-container-id-1 input.sk-toggleable__control:checked~div.sk-toggleable__content {max-height: 200px;max-width: 100%;overflow: auto;}#sk-container-id-1 input.sk-toggleable__control:checked~label.sk-toggleable__label-arrow:before {content: \"▾\";}#sk-container-id-1 div.sk-estimator input.sk-toggleable__control:checked~label.sk-toggleable__label {background-color: #d4ebff;}#sk-container-id-1 div.sk-label input.sk-toggleable__control:checked~label.sk-toggleable__label {background-color: #d4ebff;}#sk-container-id-1 input.sk-hidden--visually {border: 0;clip: rect(1px 1px 1px 1px);clip: rect(1px, 1px, 1px, 1px);height: 1px;margin: -1px;overflow: hidden;padding: 0;position: absolute;width: 1px;}#sk-container-id-1 div.sk-estimator {font-family: monospace;background-color: #f0f8ff;border: 1px dotted black;border-radius: 0.25em;box-sizing: border-box;margin-bottom: 0.5em;}#sk-container-id-1 div.sk-estimator:hover {background-color: #d4ebff;}#sk-container-id-1 div.sk-parallel-item::after {content: \"\";width: 100%;border-bottom: 1px solid gray;flex-grow: 1;}#sk-container-id-1 div.sk-label:hover label.sk-toggleable__label {background-color: #d4ebff;}#sk-container-id-1 div.sk-serial::before {content: \"\";position: absolute;border-left: 1px solid gray;box-sizing: border-box;top: 0;bottom: 0;left: 50%;z-index: 0;}#sk-container-id-1 div.sk-serial {display: flex;flex-direction: column;align-items: center;background-color: white;padding-right: 0.2em;padding-left: 0.2em;position: relative;}#sk-container-id-1 div.sk-item {position: relative;z-index: 1;}#sk-container-id-1 div.sk-parallel {display: flex;align-items: stretch;justify-content: center;background-color: white;position: relative;}#sk-container-id-1 div.sk-item::before, #sk-container-id-1 div.sk-parallel-item::before {content: \"\";position: absolute;border-left: 1px solid gray;box-sizing: border-box;top: 0;bottom: 0;left: 50%;z-index: -1;}#sk-container-id-1 div.sk-parallel-item {display: flex;flex-direction: column;z-index: 1;position: relative;background-color: white;}#sk-container-id-1 div.sk-parallel-item:first-child::after {align-self: flex-end;width: 50%;}#sk-container-id-1 div.sk-parallel-item:last-child::after {align-self: flex-start;width: 50%;}#sk-container-id-1 div.sk-parallel-item:only-child::after {width: 0;}#sk-container-id-1 div.sk-dashed-wrapped {border: 1px dashed gray;margin: 0 0.4em 0.5em 0.4em;box-sizing: border-box;padding-bottom: 0.4em;background-color: white;}#sk-container-id-1 div.sk-label label {font-family: monospace;font-weight: bold;display: inline-block;line-height: 1.2em;}#sk-container-id-1 div.sk-label-container {text-align: center;}#sk-container-id-1 div.sk-container {/* jupyter's `normalize.less` sets `[hidden] { display: none; }` but bootstrap.min.css set `[hidden] { display: none !important; }` so we also need the `!important` here to be able to override the default hidden behavior on the sphinx rendered scikit-learn.org. See: https://github.com/scikit-learn/scikit-learn/issues/21755 */display: inline-block !important;position: relative;}#sk-container-id-1 div.sk-text-repr-fallback {display: none;}</style><div id=\"sk-container-id-1\" class=\"sk-top-container\"><div class=\"sk-text-repr-fallback\"><pre>RandomForestClassifier(max_depth=10, random_state=42)</pre><b>In a Jupyter environment, please rerun this cell to show the HTML representation or trust the notebook. <br />On GitHub, the HTML representation is unable to render, please try loading this page with nbviewer.org.</b></div><div class=\"sk-container\" hidden><div class=\"sk-item\"><div class=\"sk-estimator sk-toggleable\"><input class=\"sk-toggleable__control sk-hidden--visually\" id=\"sk-estimator-id-1\" type=\"checkbox\" checked><label for=\"sk-estimator-id-1\" class=\"sk-toggleable__label sk-toggleable__label-arrow\">RandomForestClassifier</label><div class=\"sk-toggleable__content\"><pre>RandomForestClassifier(max_depth=10, random_state=42)</pre></div></div></div></div></div>"
      ],
      "text/plain": [
       "RandomForestClassifier(max_depth=10, random_state=42)"
      ]
     },
     "execution_count": 37,
     "metadata": {},
     "output_type": "execute_result"
    }
   ],
   "source": [
    "from sklearn.ensemble import RandomForestClassifier\n",
    "rf = RandomForestClassifier(n_estimators=100, max_depth=10, random_state=42)\n",
    "rf.fit(X, y)"
   ]
  },
  {
   "cell_type": "code",
   "execution_count": 38,
   "metadata": {},
   "outputs": [],
   "source": [
    "y_pred = rf.predict(X)"
   ]
  },
  {
   "cell_type": "code",
   "execution_count": 39,
   "metadata": {},
   "outputs": [
    {
     "data": {
      "text/plain": [
       "array(['0_False', 'O_False', '0_False', '0_False', '0_False'],\n",
       "      dtype=object)"
      ]
     },
     "execution_count": 39,
     "metadata": {},
     "output_type": "execute_result"
    }
   ],
   "source": [
    "y_pred[:5]"
   ]
  },
  {
   "cell_type": "code",
   "execution_count": 40,
   "metadata": {},
   "outputs": [
    {
     "data": {
      "text/plain": [
       "0    0_False\n",
       "1    0_False\n",
       "2    0_False\n",
       "3    0_False\n",
       "4    0_False\n",
       "Name: label, dtype: object"
      ]
     },
     "execution_count": 40,
     "metadata": {},
     "output_type": "execute_result"
    }
   ],
   "source": [
    "y[:5]"
   ]
  },
  {
   "cell_type": "code",
   "execution_count": 41,
   "metadata": {},
   "outputs": [
    {
     "data": {
      "text/plain": [
       "0.9483757239989927"
      ]
     },
     "execution_count": 41,
     "metadata": {},
     "output_type": "execute_result"
    }
   ],
   "source": [
    "from sklearn.metrics import accuracy_score\n",
    "accuracy_score(y, y_pred)"
   ]
  },
  {
   "cell_type": "code",
   "execution_count": 44,
   "metadata": {},
   "outputs": [
    {
     "data": {
      "text/plain": [
       "(1972, 76)"
      ]
     },
     "execution_count": 44,
     "metadata": {},
     "output_type": "execute_result"
    }
   ],
   "source": [
    "X_subset = test_df[['main_area', 'alt_area']].copy()  # Create a copy of the subset\n",
    "X_main_pred = pd.DataFrame(test_df['main_pred'].tolist(), columns=[f'main_{c}' for c in classes]).copy()\n",
    "X_alt_pred = pd.DataFrame(test_df['alt_pred'].tolist(), columns=[f'alt_{c}' for c in classes]).copy()\n",
    "\n",
    "X_subset.reset_index(drop=True, inplace=True)\n",
    "X_main_pred.reset_index(drop=True, inplace=True)\n",
    "X_alt_pred.reset_index(drop=True, inplace=True)\n",
    "\n",
    "X_test = pd.concat([X_subset, X_main_pred, X_alt_pred], axis=1)\n",
    "X_test.shape"
   ]
  },
  {
   "cell_type": "code",
   "execution_count": 45,
   "metadata": {},
   "outputs": [
    {
     "data": {
      "text/plain": [
       "(1972,)"
      ]
     },
     "execution_count": 45,
     "metadata": {},
     "output_type": "execute_result"
    }
   ],
   "source": [
    "y_test = test_df['label'].copy()\n",
    "y_test.shape"
   ]
  },
  {
   "cell_type": "code",
   "execution_count": 47,
   "metadata": {},
   "outputs": [],
   "source": [
    "y_test_pred = rf.predict(X_test)"
   ]
  },
  {
   "cell_type": "code",
   "execution_count": 48,
   "metadata": {},
   "outputs": [
    {
     "data": {
      "text/plain": [
       "0.763184584178499"
      ]
     },
     "execution_count": 48,
     "metadata": {},
     "output_type": "execute_result"
    }
   ],
   "source": [
    "accuracy_score(y_test, y_test_pred)"
   ]
  },
  {
   "cell_type": "code",
   "execution_count": null,
   "metadata": {},
   "outputs": [],
   "source": [
    "# GradientBoostingClassifier\n",
    "from lightgbm import LGBMClassifier\n",
    "lgbm = LGBMClassifier(boosting_type='gbdt', class_weight=None, colsample_bytree=1.0,\n",
    "               importance_type='split', learning_rate=0.1, max_depth=-1,\n",
    "               min_child_samples=20, min_child_weight=0.001, min_split_gain=0.0,\n",
    "               n_estimators=100, n_jobs=-1, num_leaves=31, objective=None,\n",
    "               random_state=4657, reg_alpha=0.0, reg_lambda=0.0, subsample=1.0,\n",
    "               subsample_for_bin=200000, subsample_freq=0)\n",
    "lgbm.fit(X, y)"
   ]
  },
  {
   "cell_type": "code",
   "execution_count": 56,
   "metadata": {},
   "outputs": [
    {
     "data": {
      "text/plain": [
       "0.9997481742634097"
      ]
     },
     "execution_count": 56,
     "metadata": {},
     "output_type": "execute_result"
    }
   ],
   "source": [
    "y_pred = lgbm.predict(X)\n",
    "accuracy_score(y, y_pred)"
   ]
  },
  {
   "cell_type": "code",
   "execution_count": 57,
   "metadata": {},
   "outputs": [
    {
     "data": {
      "text/plain": [
       "0.7880324543610547"
      ]
     },
     "execution_count": 57,
     "metadata": {},
     "output_type": "execute_result"
    }
   ],
   "source": [
    "y_test_pred = lgbm.predict(X_test)\n",
    "accuracy_score(y_test, y_test_pred)"
   ]
  },
  {
   "cell_type": "code",
   "execution_count": 58,
   "metadata": {},
   "outputs": [
    {
     "data": {
      "text/plain": [
       "<Axes: >"
      ]
     },
     "execution_count": 58,
     "metadata": {},
     "output_type": "execute_result"
    },
    {
     "data": {
      "image/png": "[encoded data removed]",
      "text/plain": [
       "<Figure size 2000x2000 with 2 Axes>"
      ]
     },
     "metadata": {},
     "output_type": "display_data"
    }
   ],
   "source": [
    "# make a confusion matrix\n",
    "from sklearn.metrics import confusion_matrix\n",
    "import seaborn as sns\n",
    "import matplotlib.pyplot as plt\n",
    "plt.figure(figsize=(20, 20))\n",
    "sns.heatmap(confusion_matrix(y_test, y_test_pred), annot=True, fmt='d', cmap='Blues')"
   ]
  }
 ],
 "metadata": {
  "kernelspec": {
   "display_name": "Python 3",
   "language": "python",
   "name": "python3"
  },
  "language_info": {
   "codemirror_mode": {
    "name": "ipython",
    "version": 3
   },
   "file_extension": ".py",
   "mimetype": "text/x-python",
   "name": "python",
   "nbconvert_exporter": "python",
   "pygments_lexer": "ipython3",
   "version": "3.11.5"
  },
  "orig_nbformat": 4
 },
 "nbformat": 4,
 "nbformat_minor": 2
}
