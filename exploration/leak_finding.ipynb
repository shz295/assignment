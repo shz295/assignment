{
 "cells": [
  {
   "cell_type": "code",
   "execution_count": 112,
   "metadata": {},
   "outputs": [
    {
     "data": {
      "text/html": [
       "<div>\n",
       "<style scoped>\n",
       "    .dataframe tbody tr th:only-of-type {\n",
       "        vertical-align: middle;\n",
       "    }\n",
       "\n",
       "    .dataframe tbody tr th {\n",
       "        vertical-align: top;\n",
       "    }\n",
       "\n",
       "    .dataframe thead th {\n",
       "        text-align: right;\n",
       "    }\n",
       "</style>\n",
       "<table border=\"1\" class=\"dataframe\">\n",
       "  <thead>\n",
       "    <tr style=\"text-align: right;\">\n",
       "      <th></th>\n",
       "      <th>image_path</th>\n",
       "      <th>category</th>\n",
       "      <th>target</th>\n",
       "      <th>r</th>\n",
       "    </tr>\n",
       "  </thead>\n",
       "  <tbody>\n",
       "    <tr>\n",
       "      <th>453</th>\n",
       "      <td>data/숫자인식/04/r_n04/4d_r_n04_03.jpg</td>\n",
       "      <td>number</td>\n",
       "      <td>4</td>\n",
       "      <td>True</td>\n",
       "    </tr>\n",
       "    <tr>\n",
       "      <th>1250</th>\n",
       "      <td>data/알파벳인식/C/C/4d_al_c_50.jpg</td>\n",
       "      <td>alphabet</td>\n",
       "      <td>C</td>\n",
       "      <td>False</td>\n",
       "    </tr>\n",
       "    <tr>\n",
       "      <th>3847</th>\n",
       "      <td>data/자유패턴/20/20_r/20_r18.jpg</td>\n",
       "      <td>free_pattern</td>\n",
       "      <td>None</td>\n",
       "      <td>None</td>\n",
       "    </tr>\n",
       "    <tr>\n",
       "      <th>3061</th>\n",
       "      <td>data/알파벳인식/U/U/4d_al_U_41.jpg</td>\n",
       "      <td>alphabet</td>\n",
       "      <td>U</td>\n",
       "      <td>False</td>\n",
       "    </tr>\n",
       "    <tr>\n",
       "      <th>51</th>\n",
       "      <td>data/숫자인식/00/r_n00/4d_r_n00_01.jpg</td>\n",
       "      <td>number</td>\n",
       "      <td>0</td>\n",
       "      <td>True</td>\n",
       "    </tr>\n",
       "    <tr>\n",
       "      <th>2571</th>\n",
       "      <td>data/알파벳인식/P/r_P/4d_al_r_P_17.jpg</td>\n",
       "      <td>alphabet</td>\n",
       "      <td>P</td>\n",
       "      <td>True</td>\n",
       "    </tr>\n",
       "    <tr>\n",
       "      <th>1360</th>\n",
       "      <td>data/알파벳인식/D/r_D/4d_al_r_D_09.jpg</td>\n",
       "      <td>alphabet</td>\n",
       "      <td>D</td>\n",
       "      <td>True</td>\n",
       "    </tr>\n",
       "    <tr>\n",
       "      <th>3782</th>\n",
       "      <td>data/자유패턴/20/20_g/20_g03.jpg</td>\n",
       "      <td>free_pattern</td>\n",
       "      <td>None</td>\n",
       "      <td>None</td>\n",
       "    </tr>\n",
       "    <tr>\n",
       "      <th>2750</th>\n",
       "      <td>data/알파벳인식/R/R/4d_al_R_30.jpg</td>\n",
       "      <td>alphabet</td>\n",
       "      <td>R</td>\n",
       "      <td>False</td>\n",
       "    </tr>\n",
       "    <tr>\n",
       "      <th>1069</th>\n",
       "      <td>data/알파벳인식/A/r_A/4d_al_r_a19.jpg</td>\n",
       "      <td>alphabet</td>\n",
       "      <td>A</td>\n",
       "      <td>True</td>\n",
       "    </tr>\n",
       "  </tbody>\n",
       "</table>\n",
       "</div>"
      ],
      "text/plain": [
       "                              image_path      category target      r\n",
       "453   data/숫자인식/04/r_n04/4d_r_n04_03.jpg        number      4   True\n",
       "1250       data/알파벳인식/C/C/4d_al_c_50.jpg      alphabet      C  False\n",
       "3847        data/자유패턴/20/20_r/20_r18.jpg  free_pattern   None   None\n",
       "3061       data/알파벳인식/U/U/4d_al_U_41.jpg      alphabet      U  False\n",
       "51    data/숫자인식/00/r_n00/4d_r_n00_01.jpg        number      0   True\n",
       "2571   data/알파벳인식/P/r_P/4d_al_r_P_17.jpg      alphabet      P   True\n",
       "1360   data/알파벳인식/D/r_D/4d_al_r_D_09.jpg      alphabet      D   True\n",
       "3782        data/자유패턴/20/20_g/20_g03.jpg  free_pattern   None   None\n",
       "2750       data/알파벳인식/R/R/4d_al_R_30.jpg      alphabet      R  False\n",
       "1069    data/알파벳인식/A/r_A/4d_al_r_a19.jpg      alphabet      A   True"
      ]
     },
     "execution_count": 112,
     "metadata": {},
     "output_type": "execute_result"
    }
   ],
   "source": [
    "import os\n",
    "import pandas as pd\n",
    "\n",
    "numbers_path = 'data/숫자인식/'\n",
    "alphabets_path = 'data/알파벳인식/'\n",
    "free_patterns_path = 'data/자유패턴/'\n",
    "\n",
    "number_classes = [str(i) for i in range(10)]\n",
    "alphabet_classes = [chr(i) for i in range(ord('A'), ord('Z')+1)]\n",
    "\n",
    "number_folders = {}\n",
    "for class_name in number_classes:\n",
    "    number_folders[class_name] = '0' + class_name\n",
    "\n",
    "data = []\n",
    "\n",
    "for number, folder_name in number_folders.items():\n",
    "    n_folder_path = os.path.join(numbers_path, folder_name, 'n'+folder_name)\n",
    "    r_folder_path = os.path.join(numbers_path, folder_name, 'r_n'+folder_name)\n",
    "    for file in os.listdir(n_folder_path):\n",
    "        data.append({\n",
    "            'image_path': os.path.join(n_folder_path, file),\n",
    "            'category': 'number',\n",
    "            'target': number,\n",
    "            'r': False\n",
    "        })\n",
    "    for file in os.listdir(r_folder_path):\n",
    "        data.append({\n",
    "            'image_path': os.path.join(r_folder_path, file),\n",
    "            'category': 'number',\n",
    "            'target': number,\n",
    "            'r': True\n",
    "        })\n",
    "\n",
    "for letter in alphabet_classes:\n",
    "    n_folder_path = os.path.join(alphabets_path, letter, letter)\n",
    "    r_folder_path = os.path.join(alphabets_path, letter, 'r_'+letter)\n",
    "    for file in os.listdir(n_folder_path):\n",
    "        data.append({\n",
    "            'image_path': os.path.join(n_folder_path, file),\n",
    "            'category': 'alphabet',\n",
    "            'target': letter,\n",
    "            'r': False\n",
    "        })\n",
    "    for file in os.listdir(r_folder_path):\n",
    "        data.append({\n",
    "            'image_path': os.path.join(r_folder_path, file),\n",
    "            'category': 'alphabet',\n",
    "            'target': letter,\n",
    "            'r': True\n",
    "        })\n",
    "\n",
    "for root, dirs, files in os.walk(free_patterns_path):\n",
    "    for file in files:\n",
    "        data.append({\n",
    "            'image_path': os.path.join(root, file),\n",
    "            'category': 'free_pattern',\n",
    "            'target': None,\n",
    "            'r': None\n",
    "        })\n",
    "\n",
    "df = pd.DataFrame(data)\n",
    "df.sample(10)"
   ]
  },
  {
   "cell_type": "code",
   "execution_count": 113,
   "metadata": {},
   "outputs": [
    {
     "data": {
      "text/html": [
       "<div>\n",
       "<style scoped>\n",
       "    .dataframe tbody tr th:only-of-type {\n",
       "        vertical-align: middle;\n",
       "    }\n",
       "\n",
       "    .dataframe tbody tr th {\n",
       "        vertical-align: top;\n",
       "    }\n",
       "\n",
       "    .dataframe thead th {\n",
       "        text-align: right;\n",
       "    }\n",
       "</style>\n",
       "<table border=\"1\" class=\"dataframe\">\n",
       "  <thead>\n",
       "    <tr style=\"text-align: right;\">\n",
       "      <th></th>\n",
       "      <th>image_path</th>\n",
       "      <th>category</th>\n",
       "      <th>target</th>\n",
       "      <th>r</th>\n",
       "    </tr>\n",
       "  </thead>\n",
       "  <tbody>\n",
       "  </tbody>\n",
       "</table>\n",
       "</div>"
      ],
      "text/plain": [
       "Empty DataFrame\n",
       "Columns: [image_path, category, target, r]\n",
       "Index: []"
      ]
     },
     "execution_count": 113,
     "metadata": {},
     "output_type": "execute_result"
    }
   ],
   "source": [
    "duplicateRows = df[df.duplicated(['image_path'])]\n",
    "duplicateRows"
   ]
  },
  {
   "cell_type": "code",
   "execution_count": 114,
   "metadata": {},
   "outputs": [],
   "source": [
    "df = df[df['r']==False]"
   ]
  },
  {
   "cell_type": "code",
   "execution_count": 115,
   "metadata": {},
   "outputs": [],
   "source": [
    "from sklearn.model_selection import train_test_split\n",
    "from preprocessing import preprocess_img\n",
    "import numpy as np\n",
    "from tensorflow.keras.models import Sequential\n",
    "from tensorflow.keras.layers import Conv2D, MaxPooling2D, Flatten, Dense, Dropout\n",
    "\n",
    "\n",
    "X = df['image_path']\n",
    "y = df['category']\n",
    "y = pd.get_dummies(y)\n",
    "#y = y[['number', 'alphabet', 'free_pattern']]\n",
    "y = y[['number', 'alphabet']]\n",
    "\n",
    "X_train, X_test, y_train, y_test = train_test_split(X, y, stratify=y, random_state=42)\n",
    "X_train, X_val, y_train, y_val = train_test_split(X_train, y_train, stratify=y_train, random_state=42)\n",
    "\n",
    "X_train = X_train.apply(lambda x: preprocess_img(x, (32, 32)))\n",
    "X_val = X_val.apply(lambda x: preprocess_img(x, (32, 32)))\n",
    "\n",
    "X_train = np.stack(X_train.values)\n",
    "X_val = np.stack(X_val.values)"
   ]
  },
  {
   "cell_type": "code",
   "execution_count": 127,
   "metadata": {},
   "outputs": [],
   "source": [
    "test_2 = []\n",
    "for root, dirs, files in os.walk('data/숫자인식/숫자 추가/'):\n",
    "    for file in files:\n",
    "        test_2.append({\n",
    "            'image_path': os.path.join(root, file),\n",
    "            'category': 'number',\n",
    "        })\n",
    "\n",
    "for root, dirs, files in os.walk('data/알파벳인식/알파벳 추가/'):\n",
    "    for file in files:\n",
    "        test_2.append({\n",
    "            'image_path': os.path.join(root, file),\n",
    "            'category': 'alphabet',\n",
    "        })\n",
    "\n",
    "test_df = pd.DataFrame(test_2)\n",
    "test_df = test_df[test_df['image_path'].str.contains('_r_')==False]\n",
    "\n",
    "X_test_2 = test_df['image_path'].apply(lambda x: preprocess_img(x, (32, 32)))\n",
    "X_test_2 = np.stack(X_test_2.values)\n",
    "\n",
    "y_test_2 = test_df['category']\n",
    "y_test_2 = pd.get_dummies(y_test_2)\n",
    "y_test_2 = y_test_2[['number', 'alphabet']]"
   ]
  },
  {
   "cell_type": "code",
   "execution_count": 119,
   "metadata": {},
   "outputs": [
    {
     "name": "stdout",
     "output_type": "stream",
     "text": [
      "Epoch 1/10\n",
      "32/32 [==============================] - 2s 27ms/step - loss: 0.6076 - accuracy: 0.7043 - val_loss: 0.5847 - val_accuracy: 0.7529\n",
      "Epoch 2/10\n",
      "32/32 [==============================] - 1s 19ms/step - loss: 0.5944 - accuracy: 0.7141 - val_loss: 0.5378 - val_accuracy: 0.7529\n",
      "Epoch 3/10\n",
      "32/32 [==============================] - 1s 20ms/step - loss: 0.5547 - accuracy: 0.7181 - val_loss: 0.4233 - val_accuracy: 0.7676\n",
      "Epoch 4/10\n",
      "32/32 [==============================] - 1s 18ms/step - loss: 0.3979 - accuracy: 0.8143 - val_loss: 0.2571 - val_accuracy: 0.8853\n",
      "Epoch 5/10\n",
      "32/32 [==============================] - 1s 20ms/step - loss: 0.2986 - accuracy: 0.8527 - val_loss: 0.2277 - val_accuracy: 0.9088\n",
      "Epoch 6/10\n",
      "32/32 [==============================] - 0s 15ms/step - loss: 0.2248 - accuracy: 0.9116 - val_loss: 0.2695 - val_accuracy: 0.8559\n",
      "Epoch 7/10\n",
      "32/32 [==============================] - 1s 23ms/step - loss: 0.2157 - accuracy: 0.9067 - val_loss: 0.1510 - val_accuracy: 0.9353\n",
      "Epoch 8/10\n",
      "32/32 [==============================] - 1s 18ms/step - loss: 0.1562 - accuracy: 0.9352 - val_loss: 0.1304 - val_accuracy: 0.9559\n",
      "Epoch 9/10\n",
      "32/32 [==============================] - 1s 18ms/step - loss: 0.1121 - accuracy: 0.9607 - val_loss: 0.2035 - val_accuracy: 0.9059\n",
      "Epoch 10/10\n",
      "32/32 [==============================] - 1s 20ms/step - loss: 0.1078 - accuracy: 0.9587 - val_loss: 0.1463 - val_accuracy: 0.9265\n"
     ]
    },
    {
     "data": {
      "text/plain": [
       "<keras.src.callbacks.History at 0x7f5f66cdb0d0>"
      ]
     },
     "execution_count": 119,
     "metadata": {},
     "output_type": "execute_result"
    }
   ],
   "source": [
    "model = Sequential([\n",
    "    Conv2D(32, (3, 3), activation='relu', input_shape=(32, 32, 3)),\n",
    "    MaxPooling2D((2, 2)),\n",
    "    Conv2D(64, (3, 3), activation='relu'),\n",
    "    MaxPooling2D((2, 2)),\n",
    "    Conv2D(128, (3, 3), activation='relu'),\n",
    "    MaxPooling2D((2, 2)),\n",
    "    Flatten(),\n",
    "    Dense(128, activation='relu'),\n",
    "    Dropout(0.2),\n",
    "    Dense(2, activation='softmax')\n",
    "])\n",
    "\n",
    "model.compile(optimizer='adam', loss='categorical_crossentropy', metrics=['accuracy'])\n",
    "model.fit(X_train, y_train, validation_data=(X_val, y_val), epochs=10, batch_size=32)"
   ]
  },
  {
   "cell_type": "code",
   "execution_count": 126,
   "metadata": {},
   "outputs": [
    {
     "data": {
      "text/plain": [
       "number  alphabet\n",
       "False   True        327\n",
       "True    False       126\n",
       "Name: count, dtype: int64"
      ]
     },
     "execution_count": 126,
     "metadata": {},
     "output_type": "execute_result"
    }
   ],
   "source": [
    "y_test.value_counts()"
   ]
  },
  {
   "cell_type": "code",
   "execution_count": 128,
   "metadata": {},
   "outputs": [
    {
     "name": "stdout",
     "output_type": "stream",
     "text": [
      "29/29 [==============================] - 0s 5ms/step - loss: 1.2677 - accuracy: 0.5589\n"
     ]
    },
    {
     "data": {
      "text/plain": [
       "[1.2676557302474976, 0.5588889122009277]"
      ]
     },
     "execution_count": 128,
     "metadata": {},
     "output_type": "execute_result"
    }
   ],
   "source": [
    "model.evaluate(X_test_2, y_test_2)"
   ]
  },
  {
   "cell_type": "code",
   "execution_count": 124,
   "metadata": {},
   "outputs": [
    {
     "name": "stdout",
     "output_type": "stream",
     "text": [
      "15/15 [==============================] - 0s 5ms/step - loss: 0.1437 - accuracy: 0.9294\n"
     ]
    },
    {
     "data": {
      "text/plain": [
       "[0.14365528523921967, 0.9293597936630249]"
      ]
     },
     "execution_count": 124,
     "metadata": {},
     "output_type": "execute_result"
    }
   ],
   "source": [
    "X_test = X_test.apply(lambda x: preprocess_img(x, (32, 32)))\n",
    "X_test = np.stack(X_test.values)\n",
    "\n",
    "model.evaluate(X_test, y_test)"
   ]
  },
  {
   "cell_type": "code",
   "execution_count": 96,
   "metadata": {},
   "outputs": [
    {
     "name": "stdout",
     "output_type": "stream",
     "text": [
      "41/41 [==============================] - 0s 4ms/step - loss: 8.8799 - accuracy: 0.0000e+00\n"
     ]
    },
    {
     "data": {
      "text/plain": [
       "[8.879897117614746, 0.0]"
      ]
     },
     "execution_count": 96,
     "metadata": {},
     "output_type": "execute_result"
    }
   ],
   "source": [
    "alpha_test = []\n",
    "for root, dirs, files in os.walk('data/알파벳인식/알파벳 추가/'):\n",
    "    for file in files:\n",
    "        alpha_test.append(os.path.join(root, file))\n",
    "\n",
    "X_test_alpha = pd.Series(alpha_test)\n",
    "X_test_alpha = X_test_alpha.apply(lambda x: preprocess_img(x, (32, 32)))\n",
    "X_test_alpha = np.stack(X_test_alpha.values)\n",
    "\n",
    "y_test_alpha = np.zeros((len(X_test_alpha), 3))\n",
    "y_test_alpha[:, 1] = 1\n",
    "\n",
    "model.evaluate(X_test_alpha, y_test_alpha)"
   ]
  },
  {
   "cell_type": "code",
   "execution_count": 90,
   "metadata": {},
   "outputs": [
    {
     "data": {
      "text/plain": [
       "0"
      ]
     },
     "execution_count": 90,
     "metadata": {},
     "output_type": "execute_result"
    }
   ],
   "source": [
    "df9 = df[df['image_path'].str.contains('n09')]\n",
    "df9.size"
   ]
  },
  {
   "cell_type": "code",
   "execution_count": 107,
   "metadata": {},
   "outputs": [],
   "source": [
    "import tensorflow as tf\n",
    "model = tf.keras.models.load_model('models/best_number_model.keras')"
   ]
  }
 ],
 "metadata": {
  "kernelspec": {
   "display_name": "Python 3",
   "language": "python",
   "name": "python3"
  },
  "language_info": {
   "codemirror_mode": {
    "name": "ipython",
    "version": 3
   },
   "file_extension": ".py",
   "mimetype": "text/x-python",
   "name": "python",
   "nbconvert_exporter": "python",
   "pygments_lexer": "ipython3",
   "version": "3.11.5"
  },
  "orig_nbformat": 4
 },
 "nbformat": 4,
 "nbformat_minor": 2
}
